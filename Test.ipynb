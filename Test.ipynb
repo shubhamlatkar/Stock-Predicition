{
  "nbformat": 4,
  "nbformat_minor": 0,
  "metadata": {
    "colab": {
      "name": "Test.ipynb",
      "provenance": [],
      "collapsed_sections": [],
      "include_colab_link": true
    },
    "kernelspec": {
      "name": "python3",
      "display_name": "Python 3"
    }
  },
  "cells": [
    {
      "cell_type": "markdown",
      "metadata": {
        "id": "view-in-github",
        "colab_type": "text"
      },
      "source": [
        "<a href=\"https://colab.research.google.com/github/shubhamlatkar/Stock-Predicition/blob/master/Test.ipynb\" target=\"_parent\"><img src=\"https://colab.research.google.com/assets/colab-badge.svg\" alt=\"Open In Colab\"/></a>"
      ]
    },
    {
      "cell_type": "code",
      "metadata": {
        "id": "Qewx4IuO5WoZ",
        "colab_type": "code",
        "colab": {
          "base_uri": "https://localhost:8080/",
          "height": 34
        },
        "outputId": "f9257149-6552-4a9b-8f89-e639800bff38"
      },
      "source": [
        "import numpy as np\n",
        "import pandas as pd\n",
        "import pandas_datareader.data as web\n",
        "from datetime import datetime\n",
        "num = [2,3,4,5,3,43,53,1,21,23]\n",
        "print(num)"
      ],
      "execution_count": 7,
      "outputs": [
        {
          "output_type": "stream",
          "text": [
            "[2, 3, 4, 5, 3, 43, 53, 1, 21, 23]\n"
          ],
          "name": "stdout"
        }
      ]
    },
    {
      "cell_type": "code",
      "metadata": {
        "id": "BvXVX24_5g4o",
        "colab_type": "code",
        "outputId": "b1073d3e-b76a-47da-c292-63232376cf8f",
        "colab": {
          "base_uri": "https://localhost:8080/",
          "height": 34
        }
      },
      "source": [
        "# first = \"shubham\"\n",
        "# last = \"latkar\"\n",
        "\n",
        "# # print(f'{first} [{last}] is coder')\n",
        "# msg = \"My name is Shubham Latkar\"\n",
        "\n",
        "# print(msg.replace(\"Shubham \", \"Shubham Kiran \"))\n",
        "# print(\"Shubham\" in msg)\n",
        "# print(len(msg))\n",
        "# print(msg.title())\n",
        "\n",
        "# print(10/3)\n",
        "# print(10//3)\n",
        "# print(10 % 3)\n",
        "# print(10 ** 3)\n",
        "# print(round(2.98))\n",
        "\n",
        "# has_high_income = True\n",
        "# has_good_credit = False\n",
        "\n",
        "# if has_high_income or has_good_credit:\n",
        "#         print(\"Eligible\")\n",
        "\n",
        "# if has_high_income and has_good_credit:\n",
        "#         print(\"Eligible\")\n",
        "\n",
        "# if has_high_income and not has_good_credit:\n",
        "#         print(\"Eligible\")\n",
        "\n",
        "# weight = int(input(\"Enter weight\"))\n",
        "# unit = input(\"k for kg and l for pound\")\n",
        "\n",
        "# if unit.upper() == \"L\":\n",
        "#     print(weight*0.46)\n",
        "# else:\n",
        "#     print(weight//0.46)\n",
        "\n",
        "# sec_no = 9\n",
        "# guess_count = 0\n",
        "# guess_limit = 3\n",
        "\n",
        "# while guess_count < guess_limit:\n",
        "#     guess = int(input(\"Enter guess\"))\n",
        "#     if guess == sec_no:\n",
        "#             print(\"you won\")\n",
        "#             break\n",
        "#     else:\n",
        "#         guess_count += 1\n",
        "# else:\n",
        "#     print(\"good try\")\n",
        "\n",
        "# for i in range(5,10):\n",
        "#         print(i)\n",
        "\n",
        "# print([i for i in range(1,10)])\n",
        "# print([i*2 for i in range(2,10) if i != 5])\n",
        "# print([x*y for x in range(2,5) for y in range (3,6)])\n",
        "\n",
        "# name = \"shubham\"\n",
        "# name_list = [l for l in name]\n",
        "# name_list.append(\"latkar\")\n",
        "# print(name_list)\n",
        "\n",
        "\n",
        "# num.sort()\n",
        "# num.reverse()\n",
        "# print(num.index(43))\n",
        "# print(num.count(3))\n",
        "# print(num)\n",
        "# uniques = []\n",
        "\n",
        "# for i in num:\n",
        "#     if i not in uniques:\n",
        "#             uniques.append(i)\n",
        "# uniques.sort()\n",
        "# print(uniques)\n",
        "\n",
        "# customer = {\n",
        "#     \"name\" : \"shubham\",\n",
        "#     \"age\" : 22,\n",
        "#     \"is_Verified\" : True\n",
        "# }\n",
        "\n",
        "# print(customer['is_Verified'])\n",
        "\n",
        "# digits = {\n",
        "#     \"1\" : \"one\",\n",
        "#     \"2\" : \"two\",\n",
        "#     \"3\" : \"three\",\n",
        "#     \"4\" : \"four\"\n",
        "# }\n",
        "\n",
        "# ip = input(\"Enter no\")\n",
        "# op = \"\"\n",
        "# for ch in ip:\n",
        "#     op += digits.get(ch, \"!\") + \" \"\n",
        "\n",
        "# print(op)\n",
        "\n",
        "# try:\n",
        "#     age = int(input(\"Enter no\"))\n",
        "#     print(age)\n",
        "# except ValueError:\n",
        "#         print(\"Invalid\")\n",
        "\n",
        "# print(np.array([1,2,3]))\n",
        "# print(np.array([[1,2,3],[4,5,6]]))\n",
        "# print(np.array([1,2,3,4,5,6] ,ndmin = 2))\n",
        "# a =  np.array([[1,2,3],[4,5,6]])\n",
        "# a.shape = (3,2)\n",
        "# print(a)\n",
        "# a = np.arange(0, 24)\n",
        "# a = a.reshape(2,4,3)\n",
        "# print(np.array([1,2,3,4,5]).itemsize)\n",
        "# a = np.empty([2,2],int)\n",
        "# print(a)\n",
        "# a = np.zeros([2,2] , int)\n",
        "# print(a)\n",
        "# a = np.ones((2,3) , np.int )\n",
        "# print(a)\n",
        "\n",
        "# a = np.asarray(num  ,np.float)\n",
        "# print(a)\n",
        "\n",
        "# name = 'shubham'\n",
        "# a = np.frombuffer(list(name))\n",
        "# print(a)\n",
        "\n",
        "a = np.linspace(0,10,5)\n",
        "print(a)"
      ],
      "execution_count": 0,
      "outputs": [
        {
          "output_type": "stream",
          "text": [
            "[ 0.   2.5  5.   7.5 10. ]\n"
          ],
          "name": "stdout"
        }
      ]
    },
    {
      "cell_type": "code",
      "metadata": {
        "id": "5c_OyIl36qSR",
        "colab_type": "code",
        "outputId": "3b369cf3-2e9e-4853-877d-5a6fde8a98dc",
        "colab": {
          "base_uri": "https://localhost:8080/",
          "height": 34
        }
      },
      "source": [
        "a = np.asarray(num)\n",
        "a"
      ],
      "execution_count": 0,
      "outputs": [
        {
          "output_type": "execute_result",
          "data": {
            "text/plain": [
              "array([ 2,  3,  4,  5,  3, 43, 53,  1, 21, 23])"
            ]
          },
          "metadata": {
            "tags": []
          },
          "execution_count": 16
        }
      ]
    },
    {
      "cell_type": "code",
      "metadata": {
        "id": "HtqBeqmHFjMf",
        "colab_type": "code",
        "outputId": "406193cd-7c57-4525-d493-ad4268ef028f",
        "colab": {
          "base_uri": "https://localhost:8080/",
          "height": 34
        }
      },
      "source": [
        "a[slice(2,7,2)]"
      ],
      "execution_count": 0,
      "outputs": [
        {
          "output_type": "execute_result",
          "data": {
            "text/plain": [
              "array([ 4,  3, 53])"
            ]
          },
          "metadata": {
            "tags": []
          },
          "execution_count": 18
        }
      ]
    },
    {
      "cell_type": "code",
      "metadata": {
        "id": "ggaVwlZFGndX",
        "colab_type": "code",
        "outputId": "7ee63768-8415-4c20-99d0-7064e3e9ce7e",
        "colab": {
          "base_uri": "https://localhost:8080/",
          "height": 34
        }
      },
      "source": [
        "a[2:7:2]"
      ],
      "execution_count": 0,
      "outputs": [
        {
          "output_type": "execute_result",
          "data": {
            "text/plain": [
              "array([ 4,  3, 53])"
            ]
          },
          "metadata": {
            "tags": []
          },
          "execution_count": 19
        }
      ]
    },
    {
      "cell_type": "code",
      "metadata": {
        "id": "X7SwKSKpGyin",
        "colab_type": "code",
        "outputId": "87be736a-b645-4095-bae0-121fff95e80d",
        "colab": {
          "base_uri": "https://localhost:8080/",
          "height": 34
        }
      },
      "source": [
        "a[2]\n",
        "a[2:]"
      ],
      "execution_count": 0,
      "outputs": [
        {
          "output_type": "execute_result",
          "data": {
            "text/plain": [
              "array([ 4,  5,  3, 43, 53,  1, 21, 23])"
            ]
          },
          "metadata": {
            "tags": []
          },
          "execution_count": 21
        }
      ]
    },
    {
      "cell_type": "code",
      "metadata": {
        "id": "vQEGgsKDI6Hk",
        "colab_type": "code",
        "outputId": "205a6f7b-60e4-4cca-8640-a1a75a028ff2",
        "colab": {
          "base_uri": "https://localhost:8080/",
          "height": 34
        }
      },
      "source": [
        "a = np.array([[1,2,3],[3,4,5],[4,5,6]])\n",
        "a[-1:]"
      ],
      "execution_count": 0,
      "outputs": [
        {
          "output_type": "execute_result",
          "data": {
            "text/plain": [
              "array([[4, 5, 6]])"
            ]
          },
          "metadata": {
            "tags": []
          },
          "execution_count": 30
        }
      ]
    },
    {
      "cell_type": "code",
      "metadata": {
        "id": "5-hWC4OiRSVi",
        "colab_type": "code",
        "outputId": "d8fea235-ea39-403e-e1d8-f553dc3be06c",
        "colab": {
          "base_uri": "https://localhost:8080/",
          "height": 34
        }
      },
      "source": [
        "a[...,1]\n",
        "a[1,...]"
      ],
      "execution_count": 0,
      "outputs": [
        {
          "output_type": "execute_result",
          "data": {
            "text/plain": [
              "array([3, 4, 5])"
            ]
          },
          "metadata": {
            "tags": []
          },
          "execution_count": 42
        }
      ]
    },
    {
      "cell_type": "code",
      "metadata": {
        "id": "mM2VoAJ1Rr7l",
        "colab_type": "code",
        "outputId": "8366f664-9634-4ce4-afb1-7723c9e11d33",
        "colab": {
          "base_uri": "https://localhost:8080/",
          "height": 52
        }
      },
      "source": [
        "x = np.array([[0,1,2] , [3,4,5] , [11,44,65] , [43,65,87]])\n",
        "x[1:3,1:3]"
      ],
      "execution_count": 0,
      "outputs": [
        {
          "output_type": "execute_result",
          "data": {
            "text/plain": [
              "array([[ 4,  5],\n",
              "       [44, 65]])"
            ]
          },
          "metadata": {
            "tags": []
          },
          "execution_count": 69
        }
      ]
    },
    {
      "cell_type": "code",
      "metadata": {
        "id": "fV0vv8seiHuA",
        "colab_type": "code",
        "outputId": "4da67ae8-c06e-422d-d37d-4ceb22805e53",
        "colab": {
          "base_uri": "https://localhost:8080/",
          "height": 52
        }
      },
      "source": [
        "x[1:3,[0]]"
      ],
      "execution_count": 0,
      "outputs": [
        {
          "output_type": "execute_result",
          "data": {
            "text/plain": [
              "array([[ 3],\n",
              "       [11]])"
            ]
          },
          "metadata": {
            "tags": []
          },
          "execution_count": 48
        }
      ]
    },
    {
      "cell_type": "code",
      "metadata": {
        "id": "rf5WvkBziWyX",
        "colab_type": "code",
        "outputId": "1cdded5b-f2a8-478b-fbb5-acbb5a090f79",
        "colab": {
          "base_uri": "https://localhost:8080/",
          "height": 34
        }
      },
      "source": [
        "x[x>5]"
      ],
      "execution_count": 0,
      "outputs": [
        {
          "output_type": "execute_result",
          "data": {
            "text/plain": [
              "array([11, 44, 65, 43, 65, 87])"
            ]
          },
          "metadata": {
            "tags": []
          },
          "execution_count": 49
        }
      ]
    },
    {
      "cell_type": "code",
      "metadata": {
        "id": "aR8gleo_iipi",
        "colab_type": "code",
        "outputId": "96b0df66-fcde-488f-f75e-2c13429c1ced",
        "colab": {
          "base_uri": "https://localhost:8080/",
          "height": 34
        }
      },
      "source": [
        "x[~np.isnan(x)]"
      ],
      "execution_count": 0,
      "outputs": [
        {
          "output_type": "execute_result",
          "data": {
            "text/plain": [
              "array([ 0,  1,  2,  3,  4,  5, 11, 44, 65, 43, 65, 87])"
            ]
          },
          "metadata": {
            "tags": []
          },
          "execution_count": 51
        }
      ]
    },
    {
      "cell_type": "code",
      "metadata": {
        "id": "tCM7zgCGkbQJ",
        "colab_type": "code",
        "outputId": "3255b7ef-c378-44c1-a72a-47c31fb32c19",
        "colab": {
          "base_uri": "https://localhost:8080/",
          "height": 34
        }
      },
      "source": [
        "a = []\n",
        "for i in np.nditer(x):\n",
        "    a.append(i)\n",
        "print(a)    "
      ],
      "execution_count": 0,
      "outputs": [
        {
          "output_type": "stream",
          "text": [
            "[array(0), array(1), array(2), array(3), array(4), array(5), array(11), array(44), array(65), array(43), array(65), array(87)]\n"
          ],
          "name": "stdout"
        }
      ]
    },
    {
      "cell_type": "code",
      "metadata": {
        "id": "oHkxqLdkljP5",
        "colab_type": "code",
        "outputId": "727ca907-43da-431d-8cf7-7b3434f82dde",
        "colab": {
          "base_uri": "https://localhost:8080/",
          "height": 69
        }
      },
      "source": [
        "x.T"
      ],
      "execution_count": 0,
      "outputs": [
        {
          "output_type": "execute_result",
          "data": {
            "text/plain": [
              "array([[ 0,  3, 11, 43],\n",
              "       [ 1,  4, 44, 65],\n",
              "       [ 2,  5, 65, 87]])"
            ]
          },
          "metadata": {
            "tags": []
          },
          "execution_count": 60
        }
      ]
    },
    {
      "cell_type": "code",
      "metadata": {
        "id": "50pitaGjmiUu",
        "colab_type": "code",
        "outputId": "8188e698-cf4b-4b4e-ff7f-3e43f7947696",
        "colab": {
          "base_uri": "https://localhost:8080/",
          "height": 156
        }
      },
      "source": [
        "print(x)\n",
        "for i in np.nditer(x , op_flags=['readwrite']):\n",
        "  i[...] = 2*i\n",
        "  \n",
        "print(x)  "
      ],
      "execution_count": 0,
      "outputs": [
        {
          "output_type": "stream",
          "text": [
            "[[ 0  1  2]\n",
            " [ 3  4  5]\n",
            " [11 44 65]\n",
            " [43 65 87]]\n",
            "[[  0   2   4]\n",
            " [  6   8  10]\n",
            " [ 22  88 130]\n",
            " [ 86 130 174]]\n"
          ],
          "name": "stdout"
        }
      ]
    },
    {
      "cell_type": "code",
      "metadata": {
        "id": "buPc6WhTnkvm",
        "colab_type": "code",
        "outputId": "b8d41f3e-651a-468a-d468-7b75d5ce1741",
        "colab": {
          "base_uri": "https://localhost:8080/",
          "height": 69
        }
      },
      "source": [
        "y = np.arange(0,45,5)\n",
        "y = y.reshape(3,3)\n",
        "print(y)"
      ],
      "execution_count": 0,
      "outputs": [
        {
          "output_type": "stream",
          "text": [
            "[[ 0  5 10]\n",
            " [15 20 25]\n",
            " [30 35 40]]\n"
          ],
          "name": "stdout"
        }
      ]
    },
    {
      "cell_type": "code",
      "metadata": {
        "id": "YJe3m7zgr6ZT",
        "colab_type": "code",
        "outputId": "1fcfa268-2e0b-4ff2-e026-7576400a935a",
        "colab": {
          "base_uri": "https://localhost:8080/",
          "height": 185
        }
      },
      "source": [
        "for i,j in np.nditer([x,y]):\n",
        "  print(\"hi\")"
      ],
      "execution_count": 0,
      "outputs": [
        {
          "output_type": "error",
          "ename": "ValueError",
          "evalue": "ignored",
          "traceback": [
            "\u001b[0;31m---------------------------------------------------------------------------\u001b[0m",
            "\u001b[0;31mValueError\u001b[0m                                Traceback (most recent call last)",
            "\u001b[0;32m<ipython-input-85-455d7281a37c>\u001b[0m in \u001b[0;36m<module>\u001b[0;34m()\u001b[0m\n\u001b[0;32m----> 1\u001b[0;31m \u001b[0;32mfor\u001b[0m \u001b[0mi\u001b[0m\u001b[0;34m,\u001b[0m\u001b[0mj\u001b[0m \u001b[0;32min\u001b[0m \u001b[0mnp\u001b[0m\u001b[0;34m.\u001b[0m\u001b[0mnditer\u001b[0m\u001b[0;34m(\u001b[0m\u001b[0;34m[\u001b[0m\u001b[0mx\u001b[0m\u001b[0;34m,\u001b[0m\u001b[0my\u001b[0m\u001b[0;34m]\u001b[0m\u001b[0;34m)\u001b[0m\u001b[0;34m:\u001b[0m\u001b[0;34m\u001b[0m\u001b[0;34m\u001b[0m\u001b[0m\n\u001b[0m\u001b[1;32m      2\u001b[0m   \u001b[0mprint\u001b[0m\u001b[0;34m(\u001b[0m\u001b[0;34m\"hi\"\u001b[0m\u001b[0;34m)\u001b[0m\u001b[0;34m\u001b[0m\u001b[0;34m\u001b[0m\u001b[0m\n",
            "\u001b[0;31mValueError\u001b[0m: operands could not be broadcast together with shapes (4,3) (3,3) "
          ]
        }
      ]
    },
    {
      "cell_type": "code",
      "metadata": {
        "id": "HTa9QvLQsKTa",
        "colab_type": "code",
        "outputId": "b1f3310e-5362-4251-cbf3-ea980502ea60",
        "colab": {
          "base_uri": "https://localhost:8080/",
          "height": 86
        }
      },
      "source": [
        "y = np.append(y , [[2,3,4]] , axis = 0)\n",
        "print(y)"
      ],
      "execution_count": 0,
      "outputs": [
        {
          "output_type": "stream",
          "text": [
            "[[ 0  5 10]\n",
            " [15 20 25]\n",
            " [30 35 40]\n",
            " [ 2  3  4]]\n"
          ],
          "name": "stdout"
        }
      ]
    },
    {
      "cell_type": "code",
      "metadata": {
        "id": "qrkMcKcCuJsV",
        "colab_type": "code",
        "outputId": "2d9dfa25-c3d1-4d16-93f8-8b281f8ff642",
        "colab": {
          "base_uri": "https://localhost:8080/",
          "height": 34
        }
      },
      "source": [
        "cd .."
      ],
      "execution_count": 0,
      "outputs": [
        {
          "output_type": "stream",
          "text": [
            "/\n"
          ],
          "name": "stdout"
        }
      ]
    },
    {
      "cell_type": "code",
      "metadata": {
        "id": "0gsxa-PswvQ1",
        "colab_type": "code",
        "outputId": "9bce7fd4-85ed-4beb-8394-4a84e7594a18",
        "colab": {
          "base_uri": "https://localhost:8080/",
          "height": 86
        }
      },
      "source": [
        "ls"
      ],
      "execution_count": 0,
      "outputs": [
        {
          "output_type": "stream",
          "text": [
            "\u001b[0m\u001b[01;34mbin\u001b[0m/      \u001b[01;34mdev\u001b[0m/   \u001b[01;34mlib32\u001b[0m/  \u001b[01;34mopt\u001b[0m/   \u001b[01;34msbin\u001b[0m/   \u001b[01;34mtensorflow-2.0.0a0\u001b[0m/  \u001b[01;34mvar\u001b[0m/\n",
            "\u001b[01;34mboot\u001b[0m/     \u001b[01;34metc\u001b[0m/   \u001b[01;34mlib64\u001b[0m/  \u001b[01;34mproc\u001b[0m/  \u001b[01;34msrv\u001b[0m/    \u001b[30;42mtmp\u001b[0m/\n",
            "\u001b[01;34mcontent\u001b[0m/  \u001b[01;34mhome\u001b[0m/  \u001b[01;34mmedia\u001b[0m/  \u001b[01;34mroot\u001b[0m/  \u001b[01;34mswift\u001b[0m/  \u001b[01;34mtools\u001b[0m/\n",
            "\u001b[01;34mdatalab\u001b[0m/  \u001b[01;34mlib\u001b[0m/   \u001b[01;34mmnt\u001b[0m/    \u001b[01;34mrun\u001b[0m/   \u001b[01;34msys\u001b[0m/    \u001b[01;34musr\u001b[0m/\n"
          ],
          "name": "stdout"
        }
      ]
    },
    {
      "cell_type": "code",
      "metadata": {
        "id": "a_TRhndTwzBk",
        "colab_type": "code",
        "outputId": "0d4fb878-0255-4faf-f6c2-792b3d33218b",
        "colab": {
          "base_uri": "https://localhost:8080/",
          "height": 132
        }
      },
      "source": [
        "cd bin"
      ],
      "execution_count": 0,
      "outputs": [
        {
          "output_type": "error",
          "ename": "SyntaxError",
          "evalue": "ignored",
          "traceback": [
            "\u001b[0;36m  File \u001b[0;32m\"<ipython-input-105-036b194dd30f>\"\u001b[0;36m, line \u001b[0;32m1\u001b[0m\n\u001b[0;31m    cd bin\u001b[0m\n\u001b[0m         ^\u001b[0m\n\u001b[0;31mSyntaxError\u001b[0m\u001b[0;31m:\u001b[0m invalid syntax\n"
          ]
        }
      ]
    },
    {
      "cell_type": "code",
      "metadata": {
        "id": "jdgyAPvaw4Z-",
        "colab_type": "code",
        "outputId": "e73fef91-f02d-4d44-854f-1aa0639cfdde",
        "colab": {
          "base_uri": "https://localhost:8080/",
          "height": 660
        }
      },
      "source": [
        "ls"
      ],
      "execution_count": 0,
      "outputs": [
        {
          "output_type": "stream",
          "text": [
            "\u001b[0m\u001b[01;32mbash\u001b[0m*           \u001b[01;32mjournalctl\u001b[0m*     \u001b[01;32msync\u001b[0m*\n",
            "\u001b[01;32mbunzip2\u001b[0m*        \u001b[01;32mkill\u001b[0m*           \u001b[01;32msystemctl\u001b[0m*\n",
            "\u001b[01;32mbzcat\u001b[0m*          \u001b[01;32mkmod\u001b[0m*           \u001b[01;36msystemd\u001b[0m@\n",
            "\u001b[01;36mbzcmp\u001b[0m@          \u001b[01;32mless\u001b[0m*           \u001b[01;32msystemd-ask-password\u001b[0m*\n",
            "\u001b[01;32mbzdiff\u001b[0m*         \u001b[01;32mlessecho\u001b[0m*       \u001b[01;32msystemd-escape\u001b[0m*\n",
            "\u001b[01;36mbzegrep\u001b[0m@        \u001b[01;36mlessfile\u001b[0m@       \u001b[01;32msystemd-hwdb\u001b[0m*\n",
            "\u001b[01;32mbzexe\u001b[0m*          \u001b[01;32mlesskey\u001b[0m*        \u001b[01;32msystemd-inhibit\u001b[0m*\n",
            "\u001b[01;36mbzfgrep\u001b[0m@        \u001b[01;32mlesspipe\u001b[0m*       \u001b[01;32msystemd-machine-id-setup\u001b[0m*\n",
            "\u001b[01;32mbzgrep\u001b[0m*         \u001b[01;32mln\u001b[0m*             \u001b[01;32msystemd-notify\u001b[0m*\n",
            "\u001b[01;32mbzip2\u001b[0m*          \u001b[01;32mlogin\u001b[0m*          \u001b[01;32msystemd-sysusers\u001b[0m*\n",
            "\u001b[01;32mbzip2recover\u001b[0m*   \u001b[01;32mloginctl\u001b[0m*       \u001b[01;32msystemd-tmpfiles\u001b[0m*\n",
            "\u001b[01;36mbzless\u001b[0m@         \u001b[01;32mls\u001b[0m*             \u001b[01;32msystemd-tty-ask-password-agent\u001b[0m*\n",
            "\u001b[01;32mbzmore\u001b[0m*         \u001b[01;32mlsblk\u001b[0m*          \u001b[01;32mtar\u001b[0m*\n",
            "\u001b[01;32mcat\u001b[0m*            \u001b[01;36mlsmod\u001b[0m@          \u001b[01;32mtempfile\u001b[0m*\n",
            "\u001b[01;32mchgrp\u001b[0m*          \u001b[01;32mmkdir\u001b[0m*          \u001b[01;32mtouch\u001b[0m*\n",
            "\u001b[01;32mchmod\u001b[0m*          \u001b[01;32mmknod\u001b[0m*          \u001b[01;32mtrue\u001b[0m*\n",
            "\u001b[01;32mchown\u001b[0m*          \u001b[01;32mmktemp\u001b[0m*         \u001b[01;32mudevadm\u001b[0m*\n",
            "\u001b[01;32mcp\u001b[0m*             \u001b[01;32mmore\u001b[0m*           \u001b[01;32mulockmgr_server\u001b[0m*\n",
            "\u001b[01;32mdash\u001b[0m*           \u001b[37;41mmount\u001b[0m*          \u001b[37;41mumount\u001b[0m*\n",
            "\u001b[01;32mdate\u001b[0m*           \u001b[01;32mmountpoint\u001b[0m*     \u001b[01;32muname\u001b[0m*\n",
            "\u001b[01;32mdd\u001b[0m*             \u001b[01;32mmv\u001b[0m*             \u001b[01;32muncompress\u001b[0m*\n",
            "\u001b[01;32mdf\u001b[0m*             \u001b[01;32mnetworkctl\u001b[0m*     \u001b[01;32mvdir\u001b[0m*\n",
            "\u001b[01;32mdir\u001b[0m*            \u001b[01;36mnisdomainname\u001b[0m@  \u001b[01;32mwdctl\u001b[0m*\n",
            "\u001b[01;32mdmesg\u001b[0m*          \u001b[01;36mpidof\u001b[0m@          \u001b[01;32mwhich\u001b[0m*\n",
            "\u001b[01;36mdnsdomainname\u001b[0m@  \u001b[01;32mps\u001b[0m*             \u001b[01;36mypdomainname\u001b[0m@\n",
            "\u001b[01;36mdomainname\u001b[0m@     \u001b[01;32mpwd\u001b[0m*            \u001b[01;32mzcat\u001b[0m*\n",
            "\u001b[01;32mecho\u001b[0m*           \u001b[01;36mrbash\u001b[0m@          \u001b[01;32mzcmp\u001b[0m*\n",
            "\u001b[01;32megrep\u001b[0m*          \u001b[01;32mreadlink\u001b[0m*       \u001b[01;32mzdiff\u001b[0m*\n",
            "\u001b[01;32mfalse\u001b[0m*          \u001b[01;32mrm\u001b[0m*             \u001b[01;32mzegrep\u001b[0m*\n",
            "\u001b[01;32mfgrep\u001b[0m*          \u001b[01;32mrmdir\u001b[0m*          \u001b[01;32mzfgrep\u001b[0m*\n",
            "\u001b[01;32mfindmnt\u001b[0m*        \u001b[01;32mrun-parts\u001b[0m*      \u001b[01;32mzforce\u001b[0m*\n",
            "\u001b[37;41mfusermount\u001b[0m*     \u001b[01;32msed\u001b[0m*            \u001b[01;32mzgrep\u001b[0m*\n",
            "\u001b[01;32mgrep\u001b[0m*           \u001b[01;36msh\u001b[0m@             \u001b[01;32mzless\u001b[0m*\n",
            "\u001b[01;32mgunzip\u001b[0m*         \u001b[01;36msh.distrib\u001b[0m@     \u001b[01;32mzmore\u001b[0m*\n",
            "\u001b[01;32mgzexe\u001b[0m*          \u001b[01;32msleep\u001b[0m*          \u001b[01;32mznew\u001b[0m*\n",
            "\u001b[01;32mgzip\u001b[0m*           \u001b[01;32mstty\u001b[0m*\n",
            "\u001b[01;32mhostname\u001b[0m*       \u001b[37;41msu\u001b[0m*\n"
          ],
          "name": "stdout"
        }
      ]
    },
    {
      "cell_type": "code",
      "metadata": {
        "id": "iNXCigwZw7Z-",
        "colab_type": "code",
        "outputId": "9d40e820-7283-4431-eed5-7855efffc784",
        "colab": {
          "base_uri": "https://localhost:8080/",
          "height": 52
        }
      },
      "source": [
        "cd dash"
      ],
      "execution_count": 0,
      "outputs": [
        {
          "output_type": "stream",
          "text": [
            "[Errno 20] Not a directory: 'dash'\n",
            "/bin\n"
          ],
          "name": "stdout"
        }
      ]
    },
    {
      "cell_type": "code",
      "metadata": {
        "id": "i_hCJpAmxAAT",
        "colab_type": "code",
        "outputId": "6ff49768-9ea7-44b6-a76e-e1563e33d81e",
        "colab": {
          "base_uri": "https://localhost:8080/",
          "height": 34
        }
      },
      "source": [
        "cd .."
      ],
      "execution_count": 0,
      "outputs": [
        {
          "output_type": "stream",
          "text": [
            "/\n"
          ],
          "name": "stdout"
        }
      ]
    },
    {
      "cell_type": "code",
      "metadata": {
        "id": "VEDhKxxrxBsr",
        "colab_type": "code",
        "outputId": "3d85a878-0f6e-4da1-e660-48664fcffe43",
        "colab": {
          "base_uri": "https://localhost:8080/",
          "height": 86
        }
      },
      "source": [
        "ls"
      ],
      "execution_count": 0,
      "outputs": [
        {
          "output_type": "stream",
          "text": [
            "\u001b[0m\u001b[01;34mbin\u001b[0m/      \u001b[01;34mdev\u001b[0m/   \u001b[01;34mlib32\u001b[0m/  \u001b[01;34mopt\u001b[0m/   \u001b[01;34msbin\u001b[0m/   \u001b[01;34mtensorflow-2.0.0a0\u001b[0m/  \u001b[01;34mvar\u001b[0m/\n",
            "\u001b[01;34mboot\u001b[0m/     \u001b[01;34metc\u001b[0m/   \u001b[01;34mlib64\u001b[0m/  \u001b[01;34mproc\u001b[0m/  \u001b[01;34msrv\u001b[0m/    \u001b[30;42mtmp\u001b[0m/\n",
            "\u001b[01;34mcontent\u001b[0m/  \u001b[01;34mhome\u001b[0m/  \u001b[01;34mmedia\u001b[0m/  \u001b[01;34mroot\u001b[0m/  \u001b[01;34mswift\u001b[0m/  \u001b[01;34mtools\u001b[0m/\n",
            "\u001b[01;34mdatalab\u001b[0m/  \u001b[01;34mlib\u001b[0m/   \u001b[01;34mmnt\u001b[0m/    \u001b[01;34mrun\u001b[0m/   \u001b[01;34msys\u001b[0m/    \u001b[01;34musr\u001b[0m/\n"
          ],
          "name": "stdout"
        }
      ]
    },
    {
      "cell_type": "code",
      "metadata": {
        "id": "EG8SsOYfxCcQ",
        "colab_type": "code",
        "outputId": "a4f54d87-cd4d-4fc8-dfa7-fb038d2677bf",
        "colab": {
          "base_uri": "https://localhost:8080/",
          "height": 34
        }
      },
      "source": [
        "cd tmp"
      ],
      "execution_count": 0,
      "outputs": [
        {
          "output_type": "stream",
          "text": [
            "/tmp\n"
          ],
          "name": "stdout"
        }
      ]
    },
    {
      "cell_type": "code",
      "metadata": {
        "id": "Xb68bRrVxFTP",
        "colab_type": "code",
        "outputId": "6c7d4b6f-c5c1-45ae-c207-699f201451cd",
        "colab": {
          "base_uri": "https://localhost:8080/",
          "height": 34
        }
      },
      "source": [
        "cd .."
      ],
      "execution_count": 0,
      "outputs": [
        {
          "output_type": "stream",
          "text": [
            "/\n"
          ],
          "name": "stdout"
        }
      ]
    },
    {
      "cell_type": "code",
      "metadata": {
        "id": "DKqoe40FxF-p",
        "colab_type": "code",
        "outputId": "5677ba83-07c2-4dd9-b302-7269a5a18ac8",
        "colab": {
          "base_uri": "https://localhost:8080/",
          "height": 34
        }
      },
      "source": [
        "cd tensorflow-2.0.0a0/"
      ],
      "execution_count": 0,
      "outputs": [
        {
          "output_type": "stream",
          "text": [
            "/tensorflow-2.0.0a0\n"
          ],
          "name": "stdout"
        }
      ]
    },
    {
      "cell_type": "code",
      "metadata": {
        "id": "Q4IGV97LxLx4",
        "colab_type": "code",
        "outputId": "dc7e3268-80f8-4f5f-c4ab-1a7d44958809",
        "colab": {
          "base_uri": "https://localhost:8080/",
          "height": 34
        }
      },
      "source": [
        "ls"
      ],
      "execution_count": 0,
      "outputs": [
        {
          "output_type": "stream",
          "text": [
            "\u001b[0m\u001b[01;34mpython2.7\u001b[0m/  \u001b[01;34mpython3.6\u001b[0m/\n"
          ],
          "name": "stdout"
        }
      ]
    },
    {
      "cell_type": "code",
      "metadata": {
        "id": "zjzaRxDXxMrS",
        "colab_type": "code",
        "outputId": "2bbc6fb0-7868-4ad2-ed5e-686104ffe354",
        "colab": {
          "base_uri": "https://localhost:8080/",
          "height": 34
        }
      },
      "source": [
        "cd .."
      ],
      "execution_count": 0,
      "outputs": [
        {
          "output_type": "stream",
          "text": [
            "/\n"
          ],
          "name": "stdout"
        }
      ]
    },
    {
      "cell_type": "code",
      "metadata": {
        "id": "qe4OkcsbxREa",
        "colab_type": "code",
        "outputId": "5bfcc258-4b7d-4eee-a984-f9df6d74cbc1",
        "colab": {
          "base_uri": "https://localhost:8080/",
          "height": 167
        }
      },
      "source": [
        "top"
      ],
      "execution_count": 0,
      "outputs": [
        {
          "output_type": "error",
          "ename": "NameError",
          "evalue": "ignored",
          "traceback": [
            "\u001b[0;31m---------------------------------------------------------------------------\u001b[0m",
            "\u001b[0;31mNameError\u001b[0m                                 Traceback (most recent call last)",
            "\u001b[0;32m<ipython-input-117-4dca56d05a21>\u001b[0m in \u001b[0;36m<module>\u001b[0;34m()\u001b[0m\n\u001b[0;32m----> 1\u001b[0;31m \u001b[0mtop\u001b[0m\u001b[0;34m\u001b[0m\u001b[0;34m\u001b[0m\u001b[0m\n\u001b[0m",
            "\u001b[0;31mNameError\u001b[0m: name 'top' is not defined"
          ]
        }
      ]
    },
    {
      "cell_type": "code",
      "metadata": {
        "id": "oUoVC1i6xsqY",
        "colab_type": "code",
        "outputId": "ca226fe6-f3d1-4366-ce9d-39fefa1419b0",
        "colab": {
          "base_uri": "https://localhost:8080/",
          "height": 167
        }
      },
      "source": [
        "ip-config"
      ],
      "execution_count": 0,
      "outputs": [
        {
          "output_type": "error",
          "ename": "NameError",
          "evalue": "ignored",
          "traceback": [
            "\u001b[0;31m---------------------------------------------------------------------------\u001b[0m",
            "\u001b[0;31mNameError\u001b[0m                                 Traceback (most recent call last)",
            "\u001b[0;32m<ipython-input-118-b2e591c4d15c>\u001b[0m in \u001b[0;36m<module>\u001b[0;34m()\u001b[0m\n\u001b[0;32m----> 1\u001b[0;31m \u001b[0mip\u001b[0m\u001b[0;34m-\u001b[0m\u001b[0mconfig\u001b[0m\u001b[0;34m\u001b[0m\u001b[0;34m\u001b[0m\u001b[0m\n\u001b[0m",
            "\u001b[0;31mNameError\u001b[0m: name 'ip' is not defined"
          ]
        }
      ]
    },
    {
      "cell_type": "code",
      "metadata": {
        "id": "tTCSm0-bx2jL",
        "colab_type": "code",
        "outputId": "fe748c44-6a63-4ea7-c050-b2738a60323e",
        "colab": {
          "base_uri": "https://localhost:8080/",
          "height": 34
        }
      },
      "source": [
        "cd content"
      ],
      "execution_count": 0,
      "outputs": [
        {
          "output_type": "stream",
          "text": [
            "/content\n"
          ],
          "name": "stdout"
        }
      ]
    },
    {
      "cell_type": "code",
      "metadata": {
        "id": "AkHSVvY2yNRb",
        "colab_type": "code",
        "colab": {}
      },
      "source": [
        ""
      ],
      "execution_count": 0,
      "outputs": []
    },
    {
      "cell_type": "code",
      "metadata": {
        "id": "07JMMp30yMX7",
        "colab_type": "code",
        "outputId": "b11ccba1-5fa8-4cae-bba8-994cd90ba7c8",
        "colab": {
          "base_uri": "https://localhost:8080/",
          "height": 34
        }
      },
      "source": [
        "ls"
      ],
      "execution_count": 0,
      "outputs": [
        {
          "output_type": "stream",
          "text": [
            "\u001b[0m\u001b[01;34msample_data\u001b[0m/\n"
          ],
          "name": "stdout"
        }
      ]
    },
    {
      "cell_type": "code",
      "metadata": {
        "id": "ka2N2Rhk8YWc",
        "colab_type": "code",
        "outputId": "169250a9-b255-48ec-e7df-e8f00153d51e",
        "colab": {
          "base_uri": "https://localhost:8080/",
          "height": 219
        }
      },
      "source": [
        "\n",
        "a = np.array([1,2,3,4])\n",
        "s = pd.Series(a)\n",
        "print(s)"
      ],
      "execution_count": 0,
      "outputs": [
        {
          "output_type": "error",
          "ename": "NameError",
          "evalue": "ignored",
          "traceback": [
            "\u001b[0;31m---------------------------------------------------------------------------\u001b[0m",
            "\u001b[0;31mNameError\u001b[0m                                 Traceback (most recent call last)",
            "\u001b[0;32m<ipython-input-4-b7a9e9f7260c>\u001b[0m in \u001b[0;36m<module>\u001b[0;34m()\u001b[0m\n\u001b[1;32m      1\u001b[0m \u001b[0;32mimport\u001b[0m \u001b[0mpandas\u001b[0m \u001b[0;32mas\u001b[0m \u001b[0mpd\u001b[0m\u001b[0;34m\u001b[0m\u001b[0;34m\u001b[0m\u001b[0m\n\u001b[0;32m----> 2\u001b[0;31m \u001b[0ma\u001b[0m \u001b[0;34m=\u001b[0m \u001b[0mnp\u001b[0m\u001b[0;34m.\u001b[0m\u001b[0marray\u001b[0m\u001b[0;34m(\u001b[0m\u001b[0;34m[\u001b[0m\u001b[0;36m1\u001b[0m\u001b[0;34m,\u001b[0m\u001b[0;36m2\u001b[0m\u001b[0;34m,\u001b[0m\u001b[0;36m3\u001b[0m\u001b[0;34m,\u001b[0m\u001b[0;36m4\u001b[0m\u001b[0;34m]\u001b[0m\u001b[0;34m)\u001b[0m\u001b[0;34m\u001b[0m\u001b[0;34m\u001b[0m\u001b[0m\n\u001b[0m\u001b[1;32m      3\u001b[0m \u001b[0ms\u001b[0m \u001b[0;34m=\u001b[0m \u001b[0mpd\u001b[0m\u001b[0;34m.\u001b[0m\u001b[0mSeries\u001b[0m\u001b[0;34m(\u001b[0m\u001b[0ma\u001b[0m\u001b[0;34m)\u001b[0m\u001b[0;34m\u001b[0m\u001b[0;34m\u001b[0m\u001b[0m\n\u001b[1;32m      4\u001b[0m \u001b[0mprint\u001b[0m\u001b[0;34m(\u001b[0m\u001b[0ms\u001b[0m\u001b[0;34m)\u001b[0m\u001b[0;34m\u001b[0m\u001b[0;34m\u001b[0m\u001b[0m\n",
            "\u001b[0;31mNameError\u001b[0m: name 'np' is not defined"
          ]
        }
      ]
    },
    {
      "cell_type": "code",
      "metadata": {
        "id": "8Dfdbkpr8bB-",
        "colab_type": "code",
        "outputId": "a0aee13b-999f-41dc-8343-3854ca6ba003",
        "colab": {
          "base_uri": "https://localhost:8080/",
          "height": 104
        }
      },
      "source": [
        "s = pd.Series(a , index=[101,102,103,104])\n",
        "print(s)"
      ],
      "execution_count": 0,
      "outputs": [
        {
          "output_type": "stream",
          "text": [
            "101    1\n",
            "102    2\n",
            "103    3\n",
            "104    4\n",
            "dtype: int64\n"
          ],
          "name": "stdout"
        }
      ]
    },
    {
      "cell_type": "code",
      "metadata": {
        "id": "2Df0rAIvAqg8",
        "colab_type": "code",
        "colab": {}
      },
      "source": [
        "s = pd.Series(5 , index = ['a','b','c','d','e'])"
      ],
      "execution_count": 0,
      "outputs": []
    },
    {
      "cell_type": "code",
      "metadata": {
        "id": "AtrFfShqA4x0",
        "colab_type": "code",
        "outputId": "8500ff06-f838-41f7-9fa5-ea621b07c2da",
        "colab": {
          "base_uri": "https://localhost:8080/",
          "height": 121
        }
      },
      "source": [
        "print(s)"
      ],
      "execution_count": 0,
      "outputs": [
        {
          "output_type": "stream",
          "text": [
            "a    5\n",
            "b    5\n",
            "c    5\n",
            "d    5\n",
            "e    5\n",
            "dtype: int64\n"
          ],
          "name": "stdout"
        }
      ]
    },
    {
      "cell_type": "code",
      "metadata": {
        "id": "gfyqiI5rA50V",
        "colab_type": "code",
        "outputId": "65df2a5e-4d03-4fe8-8f8a-5fb59ff0a077",
        "colab": {
          "base_uri": "https://localhost:8080/",
          "height": 173
        }
      },
      "source": [
        "print(s[:3])\n",
        "print(s[-3:])\n",
        "print(s['c'])"
      ],
      "execution_count": 0,
      "outputs": [
        {
          "output_type": "stream",
          "text": [
            "a    5\n",
            "b    5\n",
            "c    5\n",
            "dtype: int64\n",
            "c    5\n",
            "d    5\n",
            "e    5\n",
            "dtype: int64\n",
            "5\n"
          ],
          "name": "stdout"
        }
      ]
    },
    {
      "cell_type": "code",
      "metadata": {
        "id": "GPnavuw2BCVN",
        "colab_type": "code",
        "outputId": "e733b149-4e07-44d3-c966-50da64cb7e21",
        "colab": {
          "base_uri": "https://localhost:8080/",
          "height": 86
        }
      },
      "source": [
        "d = [['shu',1],['ku',2],['ath',3]]\n",
        "df = pd.DataFrame(d , columns = ['Name', 'num'])\n",
        "print(df)"
      ],
      "execution_count": 0,
      "outputs": [
        {
          "output_type": "stream",
          "text": [
            "  Name  num\n",
            "0  shu    1\n",
            "1   ku    2\n",
            "2  ath    3\n"
          ],
          "name": "stdout"
        }
      ]
    },
    {
      "cell_type": "code",
      "metadata": {
        "id": "Vb3ZcFx_Crec",
        "colab_type": "code",
        "colab": {}
      },
      "source": [
        "d = {'Names' : ['shu' , 'ku' , 'ath'] , 'age' : [21,21,22]}\n",
        "df = pd.DataFrame(d , index = ['rank1' , 'rank2' , 'rank3'])"
      ],
      "execution_count": 0,
      "outputs": []
    },
    {
      "cell_type": "code",
      "metadata": {
        "id": "_J2hCvWhGuOk",
        "colab_type": "code",
        "outputId": "a7e676a3-d904-4540-c3aa-e8793f873935",
        "colab": {
          "base_uri": "https://localhost:8080/",
          "height": 86
        }
      },
      "source": [
        "print(df)"
      ],
      "execution_count": 0,
      "outputs": [
        {
          "output_type": "stream",
          "text": [
            "      Names  age\n",
            "rank1   shu   21\n",
            "rank2    ku   21\n",
            "rank3   ath   22\n"
          ],
          "name": "stdout"
        }
      ]
    },
    {
      "cell_type": "code",
      "metadata": {
        "id": "Hb1FBpXyGwHL",
        "colab_type": "code",
        "colab": {}
      },
      "source": [
        "d = [{'a' : 1 , 'b' : 2},  {'a' : 1  ,'b' : 2 , 'c' : 4}]\n",
        "df = pd.DataFrame(d , index = ['first' , 'second'])"
      ],
      "execution_count": 0,
      "outputs": []
    },
    {
      "cell_type": "code",
      "metadata": {
        "id": "VlEH0XkIHNNj",
        "colab_type": "code",
        "outputId": "6d04ca5c-ae0c-44c5-9b06-5282df3298ca",
        "colab": {
          "base_uri": "https://localhost:8080/",
          "height": 69
        }
      },
      "source": [
        "print(df)"
      ],
      "execution_count": 0,
      "outputs": [
        {
          "output_type": "stream",
          "text": [
            "        a  b    c\n",
            "first   1  2  NaN\n",
            "second  1  2  4.0\n"
          ],
          "name": "stdout"
        }
      ]
    },
    {
      "cell_type": "code",
      "metadata": {
        "id": "ER4jL9DiHPHu",
        "colab_type": "code",
        "colab": {}
      },
      "source": [
        "df = pd.DataFrame(d , index = ['first' , 'second'] , columns=['a' , 'b'])"
      ],
      "execution_count": 0,
      "outputs": []
    },
    {
      "cell_type": "code",
      "metadata": {
        "id": "2dmsZma6H9yJ",
        "colab_type": "code",
        "outputId": "1dbdf204-ba67-4f13-fa74-75f3c179778f",
        "colab": {
          "base_uri": "https://localhost:8080/",
          "height": 69
        }
      },
      "source": [
        "print(df)"
      ],
      "execution_count": 0,
      "outputs": [
        {
          "output_type": "stream",
          "text": [
            "        a  b\n",
            "first   1  2\n",
            "second  1  2\n"
          ],
          "name": "stdout"
        }
      ]
    },
    {
      "cell_type": "code",
      "metadata": {
        "id": "UmdmsZx6H-3R",
        "colab_type": "code",
        "colab": {}
      },
      "source": [
        "df = pd.DataFrame(d , index = ['first' , 'second'] , columns=['a','b1'])"
      ],
      "execution_count": 0,
      "outputs": []
    },
    {
      "cell_type": "code",
      "metadata": {
        "id": "1zMdCgBUID6X",
        "colab_type": "code",
        "outputId": "7d0b4106-e610-4c4c-d8a6-ea52b1949870",
        "colab": {
          "base_uri": "https://localhost:8080/",
          "height": 69
        }
      },
      "source": [
        "print(df)"
      ],
      "execution_count": 0,
      "outputs": [
        {
          "output_type": "stream",
          "text": [
            "        a  b1\n",
            "first   1 NaN\n",
            "second  1 NaN\n"
          ],
          "name": "stdout"
        }
      ]
    },
    {
      "cell_type": "code",
      "metadata": {
        "id": "BD0hLp_wIFJc",
        "colab_type": "code",
        "colab": {}
      },
      "source": [
        "del(df['a'])"
      ],
      "execution_count": 0,
      "outputs": []
    },
    {
      "cell_type": "code",
      "metadata": {
        "id": "yRou9mdfIwr1",
        "colab_type": "code",
        "outputId": "14a3cf9c-d9ac-42b4-8330-a863a6f4d621",
        "colab": {
          "base_uri": "https://localhost:8080/",
          "height": 69
        }
      },
      "source": [
        "print(df)"
      ],
      "execution_count": 0,
      "outputs": [
        {
          "output_type": "stream",
          "text": [
            "        b    c\n",
            "first   2  NaN\n",
            "second  2  4.0\n"
          ],
          "name": "stdout"
        }
      ]
    },
    {
      "cell_type": "code",
      "metadata": {
        "id": "aI0I9xGVIx3L",
        "colab_type": "code",
        "outputId": "7330b2e1-7937-417a-a2e1-693999ca380c",
        "colab": {
          "base_uri": "https://localhost:8080/",
          "height": 185
        }
      },
      "source": [
        "df.pop('c')"
      ],
      "execution_count": 0,
      "outputs": [
        {
          "output_type": "error",
          "ename": "NameError",
          "evalue": "ignored",
          "traceback": [
            "\u001b[0;31m---------------------------------------------------------------------------\u001b[0m",
            "\u001b[0;31mNameError\u001b[0m                                 Traceback (most recent call last)",
            "\u001b[0;32m<ipython-input-40-dbbcfb97b585>\u001b[0m in \u001b[0;36m<module>\u001b[0;34m()\u001b[0m\n\u001b[1;32m      1\u001b[0m \u001b[0mdf\u001b[0m\u001b[0;34m.\u001b[0m\u001b[0mpop\u001b[0m\u001b[0;34m(\u001b[0m\u001b[0;34m'c'\u001b[0m\u001b[0;34m)\u001b[0m\u001b[0;34m\u001b[0m\u001b[0;34m\u001b[0m\u001b[0m\n\u001b[0;32m----> 2\u001b[0;31m \u001b[0mpritn\u001b[0m\u001b[0;34m(\u001b[0m\u001b[0;34m'df'\u001b[0m\u001b[0;34m)\u001b[0m\u001b[0;34m\u001b[0m\u001b[0;34m\u001b[0m\u001b[0m\n\u001b[0m",
            "\u001b[0;31mNameError\u001b[0m: name 'pritn' is not defined"
          ]
        }
      ]
    },
    {
      "cell_type": "code",
      "metadata": {
        "id": "VlNm4ESrI_eC",
        "colab_type": "code",
        "outputId": "b6c66fee-b40d-4d15-a23b-140d2e59eb69",
        "colab": {
          "base_uri": "https://localhost:8080/",
          "height": 69
        }
      },
      "source": [
        "print(df)"
      ],
      "execution_count": 0,
      "outputs": [
        {
          "output_type": "stream",
          "text": [
            "        a  b    c\n",
            "first   1  2  NaN\n",
            "second  1  2  4.0\n"
          ],
          "name": "stdout"
        }
      ]
    },
    {
      "cell_type": "code",
      "metadata": {
        "id": "nyaaWf-gJCFl",
        "colab_type": "code",
        "outputId": "abe990cc-d95f-4dbe-af61-4d6393a0d2d7",
        "colab": {
          "base_uri": "https://localhost:8080/",
          "height": 86
        }
      },
      "source": [
        "print(df.loc['first'])"
      ],
      "execution_count": 0,
      "outputs": [
        {
          "output_type": "stream",
          "text": [
            "a    1.0\n",
            "b    2.0\n",
            "c    NaN\n",
            "Name: first, dtype: float64\n"
          ],
          "name": "stdout"
        }
      ]
    },
    {
      "cell_type": "code",
      "metadata": {
        "id": "DQlX21E4BkhV",
        "colab_type": "code",
        "outputId": "312074e0-6ddf-4392-f0d0-b006c8097f9a",
        "colab": {
          "base_uri": "https://localhost:8080/",
          "height": 52
        }
      },
      "source": [
        "print(df.iloc[[1] , :])"
      ],
      "execution_count": 0,
      "outputs": [
        {
          "output_type": "stream",
          "text": [
            "        a  b    c\n",
            "second  1  2  4.0\n"
          ],
          "name": "stdout"
        }
      ]
    },
    {
      "cell_type": "code",
      "metadata": {
        "id": "IOik1JUgCI5w",
        "colab_type": "code",
        "colab": {}
      },
      "source": [
        "dataset = web.DataReader('aapl' , 'yahoo' ,datetime(2018,11,1),datetime.now())\n"
      ],
      "execution_count": 0,
      "outputs": []
    },
    {
      "cell_type": "code",
      "metadata": {
        "id": "gsIyfqDiCn64",
        "colab_type": "code",
        "outputId": "962f5ed7-acc5-4657-c15f-9e0ef8496cdf",
        "colab": {
          "base_uri": "https://localhost:8080/",
          "height": 173
        }
      },
      "source": [
        "print(dataset.tail())"
      ],
      "execution_count": 0,
      "outputs": [
        {
          "output_type": "stream",
          "text": [
            "                  High         Low  ...      Volume   Adj Close\n",
            "Date                                ...                        \n",
            "2019-06-06  185.470001  182.149994  ...  22526300.0  185.220001\n",
            "2019-06-07  191.919998  185.770004  ...  30684400.0  190.149994\n",
            "2019-06-10  195.369995  191.619995  ...  26220900.0  192.580002\n",
            "2019-06-11  196.000000  193.600006  ...  26932900.0  194.809998\n",
            "2019-06-12  195.970001  193.389999  ...  18221800.0  194.190002\n",
            "\n",
            "[5 rows x 6 columns]\n"
          ],
          "name": "stdout"
        }
      ]
    },
    {
      "cell_type": "code",
      "metadata": {
        "id": "IOKKxFy_Cp2j",
        "colab_type": "code",
        "colab": {}
      },
      "source": [
        "a = np.array(dataset['Close'])"
      ],
      "execution_count": 0,
      "outputs": []
    },
    {
      "cell_type": "code",
      "metadata": {
        "id": "wtOZCgTnC7Fd",
        "colab_type": "code",
        "outputId": "99d9c1cc-e910-4675-d7b7-d4fcf9945faf",
        "colab": {
          "base_uri": "https://localhost:8080/",
          "height": 52
        }
      },
      "source": [
        "print(a[-10:])"
      ],
      "execution_count": 0,
      "outputs": [
        {
          "output_type": "stream",
          "text": [
            "[178.30000305 175.07000732 173.30000305 179.63999939 182.53999329\n",
            " 185.22000122 190.1499939  192.58000183 194.80999756 194.19000244]\n"
          ],
          "name": "stdout"
        }
      ]
    },
    {
      "cell_type": "code",
      "metadata": {
        "id": "ZFHs_miEDECO",
        "colab_type": "code",
        "outputId": "bd1cd6a6-dfba-4eb6-f339-4898d49f1aba",
        "colab": {
          "base_uri": "https://localhost:8080/",
          "height": 34
        }
      },
      "source": [
        "df = dataset['Close']\n",
        "print(df.ndim)"
      ],
      "execution_count": 0,
      "outputs": [
        {
          "output_type": "stream",
          "text": [
            "1\n"
          ],
          "name": "stdout"
        }
      ]
    },
    {
      "cell_type": "code",
      "metadata": {
        "id": "bef3JGaMGesk",
        "colab_type": "code",
        "outputId": "21e7ff06-8808-4de7-9623-cf1e586daa22",
        "colab": {
          "base_uri": "https://localhost:8080/",
          "height": 34
        }
      },
      "source": [
        "print(dataset.ndim)"
      ],
      "execution_count": 0,
      "outputs": [
        {
          "output_type": "stream",
          "text": [
            "2\n"
          ],
          "name": "stdout"
        }
      ]
    },
    {
      "cell_type": "code",
      "metadata": {
        "id": "5PequR77HLKa",
        "colab_type": "code",
        "outputId": "f3f12544-9bb5-4253-c657-631647e44811",
        "colab": {
          "base_uri": "https://localhost:8080/",
          "height": 34
        }
      },
      "source": [
        "print(dataset.size)"
      ],
      "execution_count": 0,
      "outputs": [
        {
          "output_type": "stream",
          "text": [
            "912\n"
          ],
          "name": "stdout"
        }
      ]
    },
    {
      "cell_type": "code",
      "metadata": {
        "id": "OU800MHsHSmf",
        "colab_type": "code",
        "outputId": "980e6baa-d40d-47d7-cf22-7cd399046b56",
        "colab": {
          "base_uri": "https://localhost:8080/",
          "height": 34
        }
      },
      "source": [
        "len(dataset)"
      ],
      "execution_count": 0,
      "outputs": [
        {
          "output_type": "execute_result",
          "data": {
            "text/plain": [
              "152"
            ]
          },
          "metadata": {
            "tags": []
          },
          "execution_count": 34
        }
      ]
    },
    {
      "cell_type": "code",
      "metadata": {
        "id": "fVhiX4BEHYsj",
        "colab_type": "code",
        "outputId": "ebc4accc-2cf8-43c0-ae27-e5a7163820a0",
        "colab": {
          "base_uri": "https://localhost:8080/",
          "height": 191
        }
      },
      "source": [
        "# print(np.array([1,2,3,4,5,6] ,ndmin = 2))\n",
        "a = np.asarray(dataset['Close'].values)\n",
        "a = np.array(a , ndmin = 2)\n",
        "# print(a)\n",
        "for i in a[0][-10:]:\n",
        "  print((i))"
      ],
      "execution_count": 0,
      "outputs": [
        {
          "output_type": "stream",
          "text": [
            "178.3000030517578\n",
            "175.07000732421875\n",
            "173.3000030517578\n",
            "179.63999938964844\n",
            "182.5399932861328\n",
            "185.22000122070312\n",
            "190.14999389648438\n",
            "192.5800018310547\n",
            "194.80999755859375\n",
            "194.19000244140625\n"
          ],
          "name": "stdout"
        }
      ]
    },
    {
      "cell_type": "code",
      "metadata": {
        "id": "4nDciceeHeAa",
        "colab_type": "code",
        "outputId": "12585514-d6aa-4b55-afd0-a95d259e2768",
        "colab": {
          "base_uri": "https://localhost:8080/",
          "height": 34
        }
      },
      "source": [
        "import pandas_datareader.data as web\n",
        "from datetime import datetime\n",
        "import pandas as pd\n",
        "import numpy as np\n",
        "from keras.models import Sequential\n",
        "from keras.layers import Dense\n",
        "from keras.layers import LSTM \n",
        "\n",
        "from sklearn.preprocessing import StandardScaler ,  MinMaxScaler\n",
        "from sklearn.metrics import mean_squared_error"
      ],
      "execution_count": 0,
      "outputs": [
        {
          "output_type": "stream",
          "text": [
            "Using TensorFlow backend.\n"
          ],
          "name": "stderr"
        }
      ]
    },
    {
      "cell_type": "code",
      "metadata": {
        "id": "CYgYK1FDQPgI",
        "colab_type": "code",
        "colab": {}
      },
      "source": [
        "ewma = pd.Series.ewm\n",
        "dataset = web.DataReader('aapl' , 'yahoo' ,datetime(2018,1,1),datetime.now())\n",
        "dataset['H-L'] = dataset['High'] - dataset['Low']\n",
        "dataset['O-C'] = dataset['Close'] - dataset['Open']\n",
        "dataset['3day MA'] = dataset['Close'].shift(1).rolling(window = 3).mean()\n",
        "dataset['10day MA'] = dataset['Close'].shift(1).rolling(window = 10).mean()\n",
        "dataset['30day MA'] = dataset['Close'].shift(1).rolling(window = 30).mean()\n",
        "dataset['Std_dev']= dataset['Close'].rolling(5).std()\n",
        "dataset['Price_Rise'] = np.where(dataset['Close'].shift(-1) > dataset['Close'], 1, 0)\n",
        "# dataset['ma7'] = dataset['Close'].rolling(window=7).mean()\n",
        "# dataset['ma21'] = dataset['Close'].rolling(window=21).mean()\n",
        "\n",
        "# # Create MACD\n",
        "# dataset['26ema'] = pd.DataFrame.ewm(dataset['Close'], span=26).mean()\n",
        "# dataset['12ema'] = pd.DataFrame.ewm(dataset['Close'], span=12).mean()\n",
        "# dataset['MACD'] = (dataset['12ema']-dataset['26ema'])\n",
        "\n",
        "# # Create Bollinger Bands\n",
        "# dataset['20sd'] = dataset['Close'].rolling(20).std()\n",
        "# dataset['upper_band'] = dataset['ma21'] + (dataset['20sd']*2)\n",
        "# dataset['lower_band'] = dataset['ma21'] - (dataset['20sd']*2)\n",
        "\n",
        "# # Create Exponential moving average\n",
        "# dataset['ema'] = dataset['Close'].ewm(com=0.5).mean()\n",
        "\n",
        "# # Create Momentum\n",
        "# dataset['momentum'] = dataset['Close']-1\n",
        "dataset = dataset.dropna()"
      ],
      "execution_count": 0,
      "outputs": []
    },
    {
      "cell_type": "code",
      "metadata": {
        "id": "0OQnvg-os2Ly",
        "colab_type": "code",
        "outputId": "c33f61fc-241c-4b60-e0a0-7625637c3f39",
        "colab": {
          "base_uri": "https://localhost:8080/",
          "height": 257
        }
      },
      "source": [
        "dataset.head()"
      ],
      "execution_count": 0,
      "outputs": [
        {
          "output_type": "execute_result",
          "data": {
            "text/html": [
              "<div>\n",
              "<style scoped>\n",
              "    .dataframe tbody tr th:only-of-type {\n",
              "        vertical-align: middle;\n",
              "    }\n",
              "\n",
              "    .dataframe tbody tr th {\n",
              "        vertical-align: top;\n",
              "    }\n",
              "\n",
              "    .dataframe thead th {\n",
              "        text-align: right;\n",
              "    }\n",
              "</style>\n",
              "<table border=\"1\" class=\"dataframe\">\n",
              "  <thead>\n",
              "    <tr style=\"text-align: right;\">\n",
              "      <th></th>\n",
              "      <th>High</th>\n",
              "      <th>Low</th>\n",
              "      <th>Open</th>\n",
              "      <th>Close</th>\n",
              "      <th>Volume</th>\n",
              "      <th>Adj Close</th>\n",
              "      <th>H-L</th>\n",
              "      <th>O-C</th>\n",
              "      <th>3day MA</th>\n",
              "      <th>10day MA</th>\n",
              "      <th>30day MA</th>\n",
              "      <th>Std_dev</th>\n",
              "      <th>Price_Rise</th>\n",
              "    </tr>\n",
              "    <tr>\n",
              "      <th>Date</th>\n",
              "      <th></th>\n",
              "      <th></th>\n",
              "      <th></th>\n",
              "      <th></th>\n",
              "      <th></th>\n",
              "      <th></th>\n",
              "      <th></th>\n",
              "      <th></th>\n",
              "      <th></th>\n",
              "      <th></th>\n",
              "      <th></th>\n",
              "      <th></th>\n",
              "      <th></th>\n",
              "    </tr>\n",
              "  </thead>\n",
              "  <tbody>\n",
              "    <tr>\n",
              "      <th>2018-02-14</th>\n",
              "      <td>167.539993</td>\n",
              "      <td>162.880005</td>\n",
              "      <td>163.039993</td>\n",
              "      <td>167.369995</td>\n",
              "      <td>40644900.0</td>\n",
              "      <td>164.227203</td>\n",
              "      <td>4.659988</td>\n",
              "      <td>4.330002</td>\n",
              "      <td>161.153336</td>\n",
              "      <td>161.337999</td>\n",
              "      <td>170.001999</td>\n",
              "      <td>5.238203</td>\n",
              "      <td>1</td>\n",
              "    </tr>\n",
              "    <tr>\n",
              "      <th>2018-02-15</th>\n",
              "      <td>173.089996</td>\n",
              "      <td>169.000000</td>\n",
              "      <td>169.789993</td>\n",
              "      <td>172.990005</td>\n",
              "      <td>51147200.0</td>\n",
              "      <td>169.741684</td>\n",
              "      <td>4.089996</td>\n",
              "      <td>3.200012</td>\n",
              "      <td>164.806666</td>\n",
              "      <td>161.331999</td>\n",
              "      <td>169.838999</td>\n",
              "      <td>6.096029</td>\n",
              "      <td>0</td>\n",
              "    </tr>\n",
              "    <tr>\n",
              "      <th>2018-02-16</th>\n",
              "      <td>174.820007</td>\n",
              "      <td>171.770004</td>\n",
              "      <td>172.360001</td>\n",
              "      <td>172.429993</td>\n",
              "      <td>40176100.0</td>\n",
              "      <td>169.192200</td>\n",
              "      <td>3.050003</td>\n",
              "      <td>0.069992</td>\n",
              "      <td>168.233332</td>\n",
              "      <td>161.853000</td>\n",
              "      <td>169.864333</td>\n",
              "      <td>4.644794</td>\n",
              "      <td>0</td>\n",
              "    </tr>\n",
              "    <tr>\n",
              "      <th>2018-02-20</th>\n",
              "      <td>174.259995</td>\n",
              "      <td>171.419998</td>\n",
              "      <td>172.050003</td>\n",
              "      <td>171.850006</td>\n",
              "      <td>33930500.0</td>\n",
              "      <td>168.623093</td>\n",
              "      <td>2.839996</td>\n",
              "      <td>-0.199997</td>\n",
              "      <td>170.929998</td>\n",
              "      <td>163.045999</td>\n",
              "      <td>169.844333</td>\n",
              "      <td>3.775315</td>\n",
              "      <td>0</td>\n",
              "    </tr>\n",
              "    <tr>\n",
              "      <th>2018-02-21</th>\n",
              "      <td>174.119995</td>\n",
              "      <td>171.009995</td>\n",
              "      <td>172.830002</td>\n",
              "      <td>171.070007</td>\n",
              "      <td>37471600.0</td>\n",
              "      <td>167.857742</td>\n",
              "      <td>3.110001</td>\n",
              "      <td>-1.759995</td>\n",
              "      <td>172.423335</td>\n",
              "      <td>164.581999</td>\n",
              "      <td>169.739333</td>\n",
              "      <td>2.225339</td>\n",
              "      <td>1</td>\n",
              "    </tr>\n",
              "  </tbody>\n",
              "</table>\n",
              "</div>"
            ],
            "text/plain": [
              "                  High         Low  ...   Std_dev  Price_Rise\n",
              "Date                                ...                      \n",
              "2018-02-14  167.539993  162.880005  ...  5.238203           1\n",
              "2018-02-15  173.089996  169.000000  ...  6.096029           0\n",
              "2018-02-16  174.820007  171.770004  ...  4.644794           0\n",
              "2018-02-20  174.259995  171.419998  ...  3.775315           0\n",
              "2018-02-21  174.119995  171.009995  ...  2.225339           1\n",
              "\n",
              "[5 rows x 13 columns]"
            ]
          },
          "metadata": {
            "tags": []
          },
          "execution_count": 53
        }
      ]
    },
    {
      "cell_type": "code",
      "metadata": {
        "id": "1SS69w2jKR-9",
        "colab_type": "code",
        "outputId": "1393bced-9be9-4d31-ba02-8dfbb6785309",
        "colab": {
          "base_uri": "https://localhost:8080/",
          "height": 257
        }
      },
      "source": [
        "# scaler = StandardScaler()\n",
        "# d1 = np.array(dataset['Close'], ndmin =2 )\n",
        "# print(d1)\n",
        "# data = scaler.fit_transform(dataset['Close'])\n",
        "\n",
        "X = dataset.iloc[:, 5:-1]\n",
        "y = dataset.iloc[:, [3]]\n",
        "\n",
        "split = int(len(dataset)*0.8)\n",
        "X_train, X_test, y_train, y_test = X[:split], X[split:], y[:split], y[split:]\n",
        "X_test.head()\n",
        "\n"
      ],
      "execution_count": 0,
      "outputs": [
        {
          "output_type": "execute_result",
          "data": {
            "text/html": [
              "<div>\n",
              "<style scoped>\n",
              "    .dataframe tbody tr th:only-of-type {\n",
              "        vertical-align: middle;\n",
              "    }\n",
              "\n",
              "    .dataframe tbody tr th {\n",
              "        vertical-align: top;\n",
              "    }\n",
              "\n",
              "    .dataframe thead th {\n",
              "        text-align: right;\n",
              "    }\n",
              "</style>\n",
              "<table border=\"1\" class=\"dataframe\">\n",
              "  <thead>\n",
              "    <tr style=\"text-align: right;\">\n",
              "      <th></th>\n",
              "      <th>Adj Close</th>\n",
              "      <th>H-L</th>\n",
              "      <th>O-C</th>\n",
              "      <th>3day MA</th>\n",
              "      <th>10day MA</th>\n",
              "      <th>30day MA</th>\n",
              "      <th>Std_dev</th>\n",
              "    </tr>\n",
              "    <tr>\n",
              "      <th>Date</th>\n",
              "      <th></th>\n",
              "      <th></th>\n",
              "      <th></th>\n",
              "      <th></th>\n",
              "      <th></th>\n",
              "      <th></th>\n",
              "      <th></th>\n",
              "    </tr>\n",
              "  </thead>\n",
              "  <tbody>\n",
              "    <tr>\n",
              "      <th>2019-03-12</th>\n",
              "      <td>180.215988</td>\n",
              "      <td>3.300003</td>\n",
              "      <td>0.910004</td>\n",
              "      <td>174.769999</td>\n",
              "      <td>174.753000</td>\n",
              "      <td>171.022666</td>\n",
              "      <td>3.758093</td>\n",
              "    </tr>\n",
              "    <tr>\n",
              "      <th>2019-03-13</th>\n",
              "      <td>181.012924</td>\n",
              "      <td>2.380005</td>\n",
              "      <td>-0.539993</td>\n",
              "      <td>177.573334</td>\n",
              "      <td>175.411000</td>\n",
              "      <td>171.842999</td>\n",
              "      <td>4.396457</td>\n",
              "    </tr>\n",
              "    <tr>\n",
              "      <th>2019-03-14</th>\n",
              "      <td>183.025162</td>\n",
              "      <td>1.540009</td>\n",
              "      <td>-0.169998</td>\n",
              "      <td>180.506668</td>\n",
              "      <td>176.095001</td>\n",
              "      <td>172.744000</td>\n",
              "      <td>4.137210</td>\n",
              "    </tr>\n",
              "    <tr>\n",
              "      <th>2019-03-15</th>\n",
              "      <td>185.406006</td>\n",
              "      <td>3.589996</td>\n",
              "      <td>1.269989</td>\n",
              "      <td>182.116669</td>\n",
              "      <td>177.153001</td>\n",
              "      <td>173.360000</td>\n",
              "      <td>2.760167</td>\n",
              "    </tr>\n",
              "    <tr>\n",
              "      <th>2019-03-18</th>\n",
              "      <td>187.298721</td>\n",
              "      <td>2.600006</td>\n",
              "      <td>2.220001</td>\n",
              "      <td>183.853333</td>\n",
              "      <td>178.268001</td>\n",
              "      <td>174.015999</td>\n",
              "      <td>2.977912</td>\n",
              "    </tr>\n",
              "  </tbody>\n",
              "</table>\n",
              "</div>"
            ],
            "text/plain": [
              "             Adj Close       H-L       O-C  ...    10day MA    30day MA   Std_dev\n",
              "Date                                        ...                                  \n",
              "2019-03-12  180.215988  3.300003  0.910004  ...  174.753000  171.022666  3.758093\n",
              "2019-03-13  181.012924  2.380005 -0.539993  ...  175.411000  171.842999  4.396457\n",
              "2019-03-14  183.025162  1.540009 -0.169998  ...  176.095001  172.744000  4.137210\n",
              "2019-03-15  185.406006  3.589996  1.269989  ...  177.153001  173.360000  2.760167\n",
              "2019-03-18  187.298721  2.600006  2.220001  ...  178.268001  174.015999  2.977912\n",
              "\n",
              "[5 rows x 7 columns]"
            ]
          },
          "metadata": {
            "tags": []
          },
          "execution_count": 62
        }
      ]
    },
    {
      "cell_type": "code",
      "metadata": {
        "id": "hBRhL4yMO3g1",
        "colab_type": "code",
        "outputId": "b85fba4e-071c-4fda-f41a-d9ebbc672a3c",
        "colab": {
          "base_uri": "https://localhost:8080/",
          "height": 34
        }
      },
      "source": [
        "X_test.shape"
      ],
      "execution_count": 0,
      "outputs": [
        {
          "output_type": "execute_result",
          "data": {
            "text/plain": [
              "(67, 6)"
            ]
          },
          "metadata": {
            "tags": []
          },
          "execution_count": 55
        }
      ]
    },
    {
      "cell_type": "code",
      "metadata": {
        "id": "jD69a-FeHqg5",
        "colab_type": "code",
        "colab": {}
      },
      "source": [
        ""
      ],
      "execution_count": 0,
      "outputs": []
    },
    {
      "cell_type": "code",
      "metadata": {
        "id": "tbz-vAu-OQ84",
        "colab_type": "code",
        "outputId": "68d2bdf4-fb68-4fee-ab60-d6ad2ef7eb0d",
        "colab": {
          "base_uri": "https://localhost:8080/",
          "height": 52
        }
      },
      "source": [
        "# split into train and test sets\n",
        "# train_size = int(len(dataset) * 0.67)\n",
        "# test_size = len(dataset) - train_size\n",
        "# train, test = data[0:train_size,:], data[train_size:len(data),:]\n",
        "# print(len(train), len(test))\n",
        "\n",
        "sc = StandardScaler()\n",
        "X_train = sc.fit_transform(X_train)\n",
        "X_test = sc.transform(X_test)\n",
        "print(X_train[-1:])"
      ],
      "execution_count": 0,
      "outputs": [
        {
          "output_type": "stream",
          "text": [
            "[[-0.29412367  0.03701349  1.36927216 -0.62228778 -0.5715     -0.79148077\n",
            "  -0.13659588]]\n"
          ],
          "name": "stdout"
        }
      ]
    },
    {
      "cell_type": "code",
      "metadata": {
        "id": "nhhjPs2lQyC5",
        "colab_type": "code",
        "colab": {}
      },
      "source": [
        "X_train = np.reshape(X_train , ( X_train.shape[0] , 1  , X_train.shape[1]))\n",
        "X_test = np.reshape(X_test , ( X_test.shape[0] , 1  , X_test.shape[1]))"
      ],
      "execution_count": 0,
      "outputs": []
    },
    {
      "cell_type": "code",
      "metadata": {
        "id": "s_xv3cIDcZ1D",
        "colab_type": "code",
        "outputId": "3c4eb452-a104-470a-8c43-f9eebe722400",
        "colab": {
          "base_uri": "https://localhost:8080/",
          "height": 6981
        }
      },
      "source": [
        "model = Sequential()\n",
        "model.add(LSTM(30, input_shape=(1, 7)))\n",
        "\n",
        "model.add(Dense(1 , activation='relu'))\n",
        "\n",
        "model.compile(loss='mean_squared_error', optimizer='adam')\n",
        "model.fit(X_train, y_train, epochs=200, batch_size=1, verbose=2)"
      ],
      "execution_count": 0,
      "outputs": [
        {
          "output_type": "stream",
          "text": [
            "Epoch 1/200\n",
            " - 2s - loss: 35200.1216\n",
            "Epoch 2/200\n",
            " - 1s - loss: 34116.3899\n",
            "Epoch 3/200\n",
            " - 1s - loss: 32178.0718\n",
            "Epoch 4/200\n",
            " - 1s - loss: 30293.6193\n",
            "Epoch 5/200\n",
            " - 1s - loss: 28532.7073\n",
            "Epoch 6/200\n",
            " - 1s - loss: 26775.3393\n",
            "Epoch 7/200\n",
            " - 1s - loss: 24992.1745\n",
            "Epoch 8/200\n",
            " - 1s - loss: 23145.3689\n",
            "Epoch 9/200\n",
            " - 1s - loss: 21109.5715\n",
            "Epoch 10/200\n",
            " - 1s - loss: 18794.7733\n",
            "Epoch 11/200\n",
            " - 1s - loss: 16378.8975\n",
            "Epoch 12/200\n",
            " - 1s - loss: 14127.9529\n",
            "Epoch 13/200\n",
            " - 1s - loss: 12096.1141\n",
            "Epoch 14/200\n",
            " - 1s - loss: 10342.4933\n",
            "Epoch 15/200\n",
            " - 1s - loss: 8963.7052\n",
            "Epoch 16/200\n",
            " - 1s - loss: 7890.4513\n",
            "Epoch 17/200\n",
            " - 1s - loss: 6966.0993\n",
            "Epoch 18/200\n",
            " - 1s - loss: 6138.8159\n",
            "Epoch 19/200\n",
            " - 1s - loss: 5392.0396\n",
            "Epoch 20/200\n",
            " - 1s - loss: 4717.1745\n",
            "Epoch 21/200\n",
            " - 1s - loss: 4109.4472\n",
            "Epoch 22/200\n",
            " - 1s - loss: 3563.9582\n",
            "Epoch 23/200\n",
            " - 1s - loss: 3075.8298\n",
            "Epoch 24/200\n",
            " - 1s - loss: 2642.4500\n",
            "Epoch 25/200\n",
            " - 1s - loss: 2262.3424\n",
            "Epoch 26/200\n",
            " - 1s - loss: 1930.2246\n",
            "Epoch 27/200\n",
            " - 1s - loss: 1642.2767\n",
            "Epoch 28/200\n",
            " - 1s - loss: 1397.4143\n",
            "Epoch 29/200\n",
            " - 1s - loss: 1191.7489\n",
            "Epoch 30/200\n",
            " - 1s - loss: 1020.5550\n",
            "Epoch 31/200\n",
            " - 1s - loss: 881.5277\n",
            "Epoch 32/200\n",
            " - 1s - loss: 769.4964\n",
            "Epoch 33/200\n",
            " - 1s - loss: 678.8337\n",
            "Epoch 34/200\n",
            " - 1s - loss: 585.1088\n",
            "Epoch 35/200\n",
            " - 1s - loss: 501.1720\n",
            "Epoch 36/200\n",
            " - 1s - loss: 445.5166\n",
            "Epoch 37/200\n",
            " - 1s - loss: 403.2078\n",
            "Epoch 38/200\n",
            " - 1s - loss: 371.5792\n",
            "Epoch 39/200\n",
            " - 1s - loss: 348.4603\n",
            "Epoch 40/200\n",
            " - 1s - loss: 331.7959\n",
            "Epoch 41/200\n",
            " - 1s - loss: 317.1393\n",
            "Epoch 42/200\n",
            " - 1s - loss: 301.8358\n",
            "Epoch 43/200\n",
            " - 1s - loss: 275.8598\n",
            "Epoch 44/200\n",
            " - 1s - loss: 247.9804\n",
            "Epoch 45/200\n",
            " - 1s - loss: 227.8402\n",
            "Epoch 46/200\n",
            " - 1s - loss: 214.1507\n",
            "Epoch 47/200\n",
            " - 1s - loss: 205.1624\n",
            "Epoch 48/200\n",
            " - 1s - loss: 198.1343\n",
            "Epoch 49/200\n",
            " - 1s - loss: 192.7594\n",
            "Epoch 50/200\n",
            " - 1s - loss: 188.1518\n",
            "Epoch 51/200\n",
            " - 1s - loss: 183.5233\n",
            "Epoch 52/200\n",
            " - 1s - loss: 179.8870\n",
            "Epoch 53/200\n",
            " - 1s - loss: 174.8402\n",
            "Epoch 54/200\n",
            " - 1s - loss: 168.7400\n",
            "Epoch 55/200\n",
            " - 1s - loss: 162.1723\n",
            "Epoch 56/200\n",
            " - 1s - loss: 153.7365\n",
            "Epoch 57/200\n",
            " - 1s - loss: 143.8447\n",
            "Epoch 58/200\n",
            " - 1s - loss: 133.1994\n",
            "Epoch 59/200\n",
            " - 1s - loss: 121.8988\n",
            "Epoch 60/200\n",
            " - 1s - loss: 110.8815\n",
            "Epoch 61/200\n",
            " - 1s - loss: 101.2775\n",
            "Epoch 62/200\n",
            " - 1s - loss: 93.3760\n",
            "Epoch 63/200\n",
            " - 1s - loss: 86.7560\n",
            "Epoch 64/200\n",
            " - 1s - loss: 81.1759\n",
            "Epoch 65/200\n",
            " - 1s - loss: 77.2145\n",
            "Epoch 66/200\n",
            " - 1s - loss: 72.7971\n",
            "Epoch 67/200\n",
            " - 1s - loss: 69.1617\n",
            "Epoch 68/200\n",
            " - 1s - loss: 65.8188\n",
            "Epoch 69/200\n",
            " - 1s - loss: 62.3260\n",
            "Epoch 70/200\n",
            " - 1s - loss: 58.6405\n",
            "Epoch 71/200\n",
            " - 1s - loss: 55.7555\n",
            "Epoch 72/200\n",
            " - 1s - loss: 52.6357\n",
            "Epoch 73/200\n",
            " - 1s - loss: 49.5877\n",
            "Epoch 74/200\n",
            " - 1s - loss: 46.7777\n",
            "Epoch 75/200\n",
            " - 1s - loss: 44.1036\n",
            "Epoch 76/200\n",
            " - 1s - loss: 41.5732\n",
            "Epoch 77/200\n",
            " - 1s - loss: 39.1768\n",
            "Epoch 78/200\n",
            " - 1s - loss: 37.0336\n",
            "Epoch 79/200\n",
            " - 1s - loss: 35.2582\n",
            "Epoch 80/200\n",
            " - 1s - loss: 33.4593\n",
            "Epoch 81/200\n",
            " - 1s - loss: 31.7073\n",
            "Epoch 82/200\n",
            " - 1s - loss: 30.3932\n",
            "Epoch 83/200\n",
            " - 1s - loss: 28.9445\n",
            "Epoch 84/200\n",
            " - 1s - loss: 27.1892\n",
            "Epoch 85/200\n",
            " - 1s - loss: 26.3531\n",
            "Epoch 86/200\n",
            " - 1s - loss: 25.1761\n",
            "Epoch 87/200\n",
            " - 1s - loss: 24.0613\n",
            "Epoch 88/200\n",
            " - 1s - loss: 23.0400\n",
            "Epoch 89/200\n",
            " - 1s - loss: 22.4671\n",
            "Epoch 90/200\n",
            " - 1s - loss: 21.7429\n",
            "Epoch 91/200\n",
            " - 1s - loss: 20.8050\n",
            "Epoch 92/200\n",
            " - 1s - loss: 19.9053\n",
            "Epoch 93/200\n",
            " - 1s - loss: 19.6840\n",
            "Epoch 94/200\n",
            " - 1s - loss: 18.8279\n",
            "Epoch 95/200\n",
            " - 1s - loss: 18.0831\n",
            "Epoch 96/200\n",
            " - 1s - loss: 17.4568\n",
            "Epoch 97/200\n",
            " - 1s - loss: 16.6594\n",
            "Epoch 98/200\n",
            " - 1s - loss: 15.9088\n",
            "Epoch 99/200\n",
            " - 1s - loss: 15.3969\n",
            "Epoch 100/200\n",
            " - 1s - loss: 14.8530\n",
            "Epoch 101/200\n",
            " - 1s - loss: 14.2296\n",
            "Epoch 102/200\n",
            " - 1s - loss: 13.7079\n",
            "Epoch 103/200\n",
            " - 1s - loss: 13.3490\n",
            "Epoch 104/200\n",
            " - 1s - loss: 13.0737\n",
            "Epoch 105/200\n",
            " - 1s - loss: 12.8256\n",
            "Epoch 106/200\n",
            " - 1s - loss: 12.7349\n",
            "Epoch 107/200\n",
            " - 1s - loss: 12.4093\n",
            "Epoch 108/200\n",
            " - 1s - loss: 12.3881\n",
            "Epoch 109/200\n",
            " - 1s - loss: 12.2179\n",
            "Epoch 110/200\n",
            " - 1s - loss: 11.7882\n",
            "Epoch 111/200\n",
            " - 1s - loss: 11.6104\n",
            "Epoch 112/200\n",
            " - 1s - loss: 11.4641\n",
            "Epoch 113/200\n",
            " - 1s - loss: 11.2485\n",
            "Epoch 114/200\n",
            " - 1s - loss: 11.0502\n",
            "Epoch 115/200\n",
            " - 1s - loss: 10.9313\n",
            "Epoch 116/200\n",
            " - 1s - loss: 10.8326\n",
            "Epoch 117/200\n",
            " - 1s - loss: 10.6360\n",
            "Epoch 118/200\n",
            " - 1s - loss: 10.4600\n",
            "Epoch 119/200\n",
            " - 1s - loss: 10.2293\n",
            "Epoch 120/200\n",
            " - 1s - loss: 10.0565\n",
            "Epoch 121/200\n",
            " - 1s - loss: 9.8919\n",
            "Epoch 122/200\n",
            " - 1s - loss: 9.6851\n",
            "Epoch 123/200\n",
            " - 1s - loss: 9.4564\n",
            "Epoch 124/200\n",
            " - 1s - loss: 9.4154\n",
            "Epoch 125/200\n",
            " - 1s - loss: 9.3190\n",
            "Epoch 126/200\n",
            " - 1s - loss: 9.0026\n",
            "Epoch 127/200\n",
            " - 1s - loss: 8.5144\n",
            "Epoch 128/200\n",
            " - 1s - loss: 8.3917\n",
            "Epoch 129/200\n",
            " - 1s - loss: 8.3163\n",
            "Epoch 130/200\n",
            " - 1s - loss: 8.1643\n",
            "Epoch 131/200\n",
            " - 1s - loss: 7.7593\n",
            "Epoch 132/200\n",
            " - 1s - loss: 7.4757\n",
            "Epoch 133/200\n",
            " - 1s - loss: 7.4732\n",
            "Epoch 134/200\n",
            " - 1s - loss: 7.2591\n",
            "Epoch 135/200\n",
            " - 1s - loss: 7.1384\n",
            "Epoch 136/200\n",
            " - 1s - loss: 7.0698\n",
            "Epoch 137/200\n",
            " - 1s - loss: 6.7268\n",
            "Epoch 138/200\n",
            " - 1s - loss: 6.5315\n",
            "Epoch 139/200\n",
            " - 1s - loss: 6.5238\n",
            "Epoch 140/200\n",
            " - 1s - loss: 6.4161\n",
            "Epoch 141/200\n",
            " - 1s - loss: 6.2956\n",
            "Epoch 142/200\n",
            " - 1s - loss: 6.1530\n",
            "Epoch 143/200\n",
            " - 1s - loss: 6.1967\n",
            "Epoch 144/200\n",
            " - 1s - loss: 6.1351\n",
            "Epoch 145/200\n",
            " - 1s - loss: 5.9226\n",
            "Epoch 146/200\n",
            " - 1s - loss: 6.0589\n",
            "Epoch 147/200\n",
            " - 1s - loss: 5.7455\n",
            "Epoch 148/200\n",
            " - 1s - loss: 5.5495\n",
            "Epoch 149/200\n",
            " - 1s - loss: 5.6610\n",
            "Epoch 150/200\n",
            " - 1s - loss: 5.5268\n",
            "Epoch 151/200\n",
            " - 1s - loss: 5.6398\n",
            "Epoch 152/200\n",
            " - 1s - loss: 5.3333\n",
            "Epoch 153/200\n",
            " - 1s - loss: 5.5290\n",
            "Epoch 154/200\n",
            " - 1s - loss: 5.2658\n",
            "Epoch 155/200\n",
            " - 1s - loss: 5.1904\n",
            "Epoch 156/200\n",
            " - 1s - loss: 5.1596\n",
            "Epoch 157/200\n",
            " - 1s - loss: 5.3676\n",
            "Epoch 158/200\n",
            " - 1s - loss: 4.9086\n",
            "Epoch 159/200\n",
            " - 1s - loss: 5.0160\n",
            "Epoch 160/200\n",
            " - 1s - loss: 5.0612\n",
            "Epoch 161/200\n",
            " - 1s - loss: 4.9002\n",
            "Epoch 162/200\n",
            " - 1s - loss: 4.8741\n",
            "Epoch 163/200\n",
            " - 1s - loss: 4.6688\n",
            "Epoch 164/200\n",
            " - 1s - loss: 4.7202\n",
            "Epoch 165/200\n",
            " - 1s - loss: 4.5983\n",
            "Epoch 166/200\n",
            " - 1s - loss: 4.4891\n",
            "Epoch 167/200\n",
            " - 1s - loss: 4.5937\n",
            "Epoch 168/200\n",
            " - 1s - loss: 4.5386\n",
            "Epoch 169/200\n",
            " - 1s - loss: 4.3816\n",
            "Epoch 170/200\n",
            " - 1s - loss: 4.4735\n",
            "Epoch 171/200\n",
            " - 1s - loss: 4.2397\n",
            "Epoch 172/200\n",
            " - 1s - loss: 4.1939\n",
            "Epoch 173/200\n",
            " - 1s - loss: 4.3731\n",
            "Epoch 174/200\n",
            " - 1s - loss: 4.3591\n",
            "Epoch 175/200\n",
            " - 1s - loss: 4.1940\n",
            "Epoch 176/200\n",
            " - 1s - loss: 4.1379\n",
            "Epoch 177/200\n",
            " - 1s - loss: 4.1386\n",
            "Epoch 178/200\n",
            " - 1s - loss: 4.0140\n",
            "Epoch 179/200\n",
            " - 1s - loss: 4.1307\n",
            "Epoch 180/200\n",
            " - 1s - loss: 3.9167\n",
            "Epoch 181/200\n",
            " - 1s - loss: 3.9079\n",
            "Epoch 182/200\n",
            " - 1s - loss: 3.9290\n",
            "Epoch 183/200\n",
            " - 1s - loss: 4.0959\n",
            "Epoch 184/200\n",
            " - 1s - loss: 3.7448\n",
            "Epoch 185/200\n",
            " - 1s - loss: 3.7638\n",
            "Epoch 186/200\n",
            " - 1s - loss: 3.7663\n",
            "Epoch 187/200\n",
            " - 1s - loss: 3.5594\n",
            "Epoch 188/200\n",
            " - 1s - loss: 3.5625\n",
            "Epoch 189/200\n",
            " - 1s - loss: 3.6928\n",
            "Epoch 190/200\n",
            " - 1s - loss: 3.6039\n",
            "Epoch 191/200\n",
            " - 1s - loss: 3.5323\n",
            "Epoch 192/200\n",
            " - 1s - loss: 3.4404\n",
            "Epoch 193/200\n",
            " - 1s - loss: 3.3412\n",
            "Epoch 194/200\n",
            " - 1s - loss: 3.3911\n",
            "Epoch 195/200\n",
            " - 1s - loss: 3.3816\n",
            "Epoch 196/200\n",
            " - 1s - loss: 3.5378\n",
            "Epoch 197/200\n",
            " - 1s - loss: 3.3850\n",
            "Epoch 198/200\n",
            " - 1s - loss: 3.1345\n",
            "Epoch 199/200\n",
            " - 1s - loss: 3.0905\n",
            "Epoch 200/200\n",
            " - 1s - loss: 3.1368\n"
          ],
          "name": "stdout"
        },
        {
          "output_type": "execute_result",
          "data": {
            "text/plain": [
              "<keras.callbacks.History at 0x7f7f676d3278>"
            ]
          },
          "metadata": {
            "tags": []
          },
          "execution_count": 65
        }
      ]
    },
    {
      "cell_type": "code",
      "metadata": {
        "id": "BsSSxOdCcsRX",
        "colab_type": "code",
        "outputId": "c938c77d-b458-49da-fa50-0c3fba403915",
        "colab": {
          "base_uri": "https://localhost:8080/",
          "height": 191
        }
      },
      "source": [
        "testPredict = model.predict(X_test)\n",
        "print(testPredict[-10:])"
      ],
      "execution_count": 0,
      "outputs": [
        {
          "output_type": "stream",
          "text": [
            "[[173.36502]\n",
            " [180.10248]\n",
            " [182.56593]\n",
            " [191.60078]\n",
            " [196.04886]\n",
            " [200.51222]\n",
            " [199.72365]\n",
            " [195.7461 ]\n",
            " [193.77147]\n",
            " [194.09123]]\n"
          ],
          "name": "stdout"
        }
      ]
    },
    {
      "cell_type": "code",
      "metadata": {
        "id": "IUBCa7JVfIeB",
        "colab_type": "code",
        "outputId": "41287e4f-be50-410b-e693-be4b9f016e7f",
        "colab": {
          "base_uri": "https://localhost:8080/",
          "height": 225
        }
      },
      "source": [
        "print(y_test.iloc[-10: , :])"
      ],
      "execution_count": 0,
      "outputs": [
        {
          "output_type": "stream",
          "text": [
            "                 Close\n",
            "Date                  \n",
            "2019-06-03  173.300003\n",
            "2019-06-04  179.639999\n",
            "2019-06-05  182.539993\n",
            "2019-06-06  185.220001\n",
            "2019-06-07  190.149994\n",
            "2019-06-10  192.580002\n",
            "2019-06-11  194.809998\n",
            "2019-06-12  194.190002\n",
            "2019-06-13  194.149994\n",
            "2019-06-14  192.740005\n"
          ],
          "name": "stdout"
        }
      ]
    },
    {
      "cell_type": "code",
      "metadata": {
        "id": "9rWAChu7gAgH",
        "colab_type": "code",
        "outputId": "3d799458-9823-4a53-8d04-4cfbb173922c",
        "colab": {
          "base_uri": "https://localhost:8080/",
          "height": 34
        }
      },
      "source": [
        "print(y_test.columns)"
      ],
      "execution_count": 0,
      "outputs": [
        {
          "output_type": "stream",
          "text": [
            "Index(['Close'], dtype='object')\n"
          ],
          "name": "stdout"
        }
      ]
    },
    {
      "cell_type": "code",
      "metadata": {
        "id": "Df6Lc-U2ffeF",
        "colab_type": "code",
        "outputId": "a5c580a4-7d3d-49be-af24-1f41f31ab5ec",
        "colab": {
          "base_uri": "https://localhost:8080/",
          "height": 34
        }
      },
      "source": [
        "print(mean_squared_error(testPredict , y_test['Close']))"
      ],
      "execution_count": 0,
      "outputs": [
        {
          "output_type": "stream",
          "text": [
            "17.49012703329686\n"
          ],
          "name": "stdout"
        }
      ]
    },
    {
      "cell_type": "code",
      "metadata": {
        "id": "QM9AFfyWgEv3",
        "colab_type": "code",
        "colab": {}
      },
      "source": [
        "\\"
      ],
      "execution_count": 0,
      "outputs": []
    }
  ]
}