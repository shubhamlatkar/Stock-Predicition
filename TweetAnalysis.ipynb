{
  "nbformat": 4,
  "nbformat_minor": 0,
  "metadata": {
    "colab": {
      "name": "TweetAnalysis.ipynb",
      "provenance": [],
      "collapsed_sections": [],
      "include_colab_link": true
    },
    "kernelspec": {
      "name": "python3",
      "display_name": "Python 3"
    }
  },
  "cells": [
    {
      "cell_type": "markdown",
      "metadata": {
        "id": "view-in-github",
        "colab_type": "text"
      },
      "source": [
        "<a href=\"https://colab.research.google.com/github/shubhamlatkar/Stock-Predicition/blob/master/TweetAnalysis.ipynb\" target=\"_parent\"><img src=\"https://colab.research.google.com/assets/colab-badge.svg\" alt=\"Open In Colab\"/></a>"
      ]
    },
    {
      "cell_type": "markdown",
      "metadata": {
        "id": "adYpOWNVaUve",
        "colab_type": "text"
      },
      "source": [
        "Gettting the tweet data"
      ]
    },
    {
      "cell_type": "code",
      "metadata": {
        "id": "5mRT8Rg_aH1q",
        "colab_type": "code",
        "colab": {}
      },
      "source": [
        "import time\n",
        "import datetime\n",
        "from urllib.request import urlopen\n",
        "import requests\n",
        "import numpy as np\n",
        "from bs4 import BeautifulSoup\n",
        "import pandas as pd"
      ],
      "execution_count": 0,
      "outputs": []
    },
    {
      "cell_type": "code",
      "metadata": {
        "id": "7_L_Np58aimN",
        "colab_type": "code",
        "outputId": "2610c965-3add-4a18-9e46-794d55159add",
        "colab": {
          "base_uri": "https://localhost:8080/",
          "height": 54
        }
      },
      "source": [
        "start_date = datetime.date(2019, 1, 1)\n",
        "end_date = datetime.date(2019, 6, 1)\n",
        "date_list = [ start_date + datetime.timedelta(n) for n in range(int ((end_date - start_date).days))]\n",
        "date_list.reverse()\n",
        "date_list = [x.strftime(\"%Y%m%d\") for x in date_list]\n",
        "print(date_list)"
      ],
      "execution_count": 0,
      "outputs": [
        {
          "output_type": "stream",
          "text": [
            "['20190531', '20190530', '20190529', '20190528', '20190527', '20190526', '20190525', '20190524', '20190523', '20190522', '20190521', '20190520', '20190519', '20190518', '20190517', '20190516', '20190515', '20190514', '20190513', '20190512', '20190511', '20190510', '20190509', '20190508', '20190507', '20190506', '20190505', '20190504', '20190503', '20190502', '20190501', '20190430', '20190429', '20190428', '20190427', '20190426', '20190425', '20190424', '20190423', '20190422', '20190421', '20190420', '20190419', '20190418', '20190417', '20190416', '20190415', '20190414', '20190413', '20190412', '20190411', '20190410', '20190409', '20190408', '20190407', '20190406', '20190405', '20190404', '20190403', '20190402', '20190401', '20190331', '20190330', '20190329', '20190328', '20190327', '20190326', '20190325', '20190324', '20190323', '20190322', '20190321', '20190320', '20190319', '20190318', '20190317', '20190316', '20190315', '20190314', '20190313', '20190312', '20190311', '20190310', '20190309', '20190308', '20190307', '20190306', '20190305', '20190304', '20190303', '20190302', '20190301', '20190228', '20190227', '20190226', '20190225', '20190224', '20190223', '20190222', '20190221', '20190220', '20190219', '20190218', '20190217', '20190216', '20190215', '20190214', '20190213', '20190212', '20190211', '20190210', '20190209', '20190208', '20190207', '20190206', '20190205', '20190204', '20190203', '20190202', '20190201', '20190131', '20190130', '20190129', '20190128', '20190127', '20190126', '20190125', '20190124', '20190123', '20190122', '20190121', '20190120', '20190119', '20190118', '20190117', '20190116', '20190115', '20190114', '20190113', '20190112', '20190111', '20190110', '20190109', '20190108', '20190107', '20190106', '20190105', '20190104', '20190103', '20190102', '20190101']\n"
          ],
          "name": "stdout"
        }
      ]
    },
    {
      "cell_type": "code",
      "metadata": {
        "id": "J7UkZfn9arm_",
        "colab_type": "code",
        "outputId": "d9a4587c-9459-418f-b15c-5bf3959b6920",
        "colab": {
          "base_uri": "https://localhost:8080/",
          "height": 34
        }
      },
      "source": [
        "suffix = {'National Stock Exchange': '.NS'}\n",
        "url = \"http://www.reuters.com/finance/stocks/company-news/\" + \"INFY\" + \".NS\"\n",
        "print(url)\n",
        "has_content = 0\n",
        "repeat_times = 4   "
      ],
      "execution_count": 0,
      "outputs": [
        {
          "output_type": "stream",
          "text": [
            "http://www.reuters.com/finance/stocks/company-news/INFY.NS\n"
          ],
          "name": "stdout"
        }
      ]
    },
    {
      "cell_type": "code",
      "metadata": {
        "id": "md3A1Gc7BsRv",
        "colab_type": "code",
        "outputId": "e892ef18-5456-455d-b4da-262985d4720e",
        "colab": {
          "base_uri": "https://localhost:8080/",
          "height": 112
        }
      },
      "source": [
        "df = pd.DataFrame(columns = ['ticker' , 'timestamp' , 'title' , 'newsType'])\n",
        "df.describe()"
      ],
      "execution_count": 0,
      "outputs": [
        {
          "output_type": "execute_result",
          "data": {
            "text/html": [
              "<div>\n",
              "<style scoped>\n",
              "    .dataframe tbody tr th:only-of-type {\n",
              "        vertical-align: middle;\n",
              "    }\n",
              "\n",
              "    .dataframe tbody tr th {\n",
              "        vertical-align: top;\n",
              "    }\n",
              "\n",
              "    .dataframe thead th {\n",
              "        text-align: right;\n",
              "    }\n",
              "</style>\n",
              "<table border=\"1\" class=\"dataframe\">\n",
              "  <thead>\n",
              "    <tr style=\"text-align: right;\">\n",
              "      <th></th>\n",
              "      <th>ticker</th>\n",
              "      <th>timestamp</th>\n",
              "      <th>title</th>\n",
              "      <th>newsType</th>\n",
              "    </tr>\n",
              "  </thead>\n",
              "  <tbody>\n",
              "    <tr>\n",
              "      <th>count</th>\n",
              "      <td>0</td>\n",
              "      <td>0</td>\n",
              "      <td>0</td>\n",
              "      <td>0</td>\n",
              "    </tr>\n",
              "    <tr>\n",
              "      <th>unique</th>\n",
              "      <td>0</td>\n",
              "      <td>0</td>\n",
              "      <td>0</td>\n",
              "      <td>0</td>\n",
              "    </tr>\n",
              "  </tbody>\n",
              "</table>\n",
              "</div>"
            ],
            "text/plain": [
              "        ticker  timestamp  title  newsType\n",
              "count        0          0      0         0\n",
              "unique       0          0      0         0"
            ]
          },
          "metadata": {
            "tags": []
          },
          "execution_count": 4
        }
      ]
    },
    {
      "cell_type": "code",
      "metadata": {
        "id": "prLVcbYrdZ4J",
        "colab_type": "code",
        "outputId": "fd741b64-7a4f-4d0b-bd0f-c80de2ba957c",
        "colab": {
          "base_uri": "https://localhost:8080/",
          "height": 34
        }
      },
      "source": [
        "page = requests.get(url)\n",
        "soup = BeautifulSoup(page.content, 'html.parser')\n",
        "has_content = len(soup.find_all(\"div\", {'class': ['topStory', 'feature']}))\n",
        "print(has_content) "
      ],
      "execution_count": 0,
      "outputs": [
        {
          "output_type": "stream",
          "text": [
            "10\n"
          ],
          "name": "stdout"
        }
      ]
    },
    {
      "cell_type": "code",
      "metadata": {
        "id": "gI0NYXTvew7D",
        "colab_type": "code",
        "colab": {}
      },
      "source": [
        "\n",
        "ticker = \"INFY\"\n",
        "if has_content > 0:\n",
        "  missing_days = 0\n",
        "  for timestamp in date_list:\n",
        "    new_time = timestamp[4:] + timestamp[:4]\n",
        "    page = requests.get(url + \"?date=\" + new_time)\n",
        "    soup = BeautifulSoup(page.content, 'html.parser')\n",
        "    content = soup.find_all(\"div\", {'class': ['topStory', 'feature']})\n",
        "#   fout = open('./news_reuters.csv', 'a+')\n",
        "    j = 0  \n",
        "    for i in range(len(content)):\n",
        "      title = content[i].h2.get_text().replace(\",\", \" \").replace(\"\\n\", \" \")\n",
        "      body = content[i].p.get_text().replace(\",\", \" \").replace(\"\\n\", \" \")\n",
        "      \n",
        "      if i == 0 and soup.find_all(\"div\", class_=\"topStory\"):\n",
        "        news_type = 'topStory'\n",
        "      else:\n",
        "        news_type = 'normal'\n",
        "\n",
        "      df.loc[j] = [ticker, timestamp, title, news_type] \n",
        "      j += 1\n",
        "      #fout.write(str(','.join([timestamp, title, body, news_type]).encode('utf-8') ))\n",
        "      #fout.write('\\n')\n",
        "    #fout.close()\n",
        "    print(url + \"?date=\" + new_time+\"     \"+str(1))\n",
        "    "
      ],
      "execution_count": 0,
      "outputs": []
    },
    {
      "cell_type": "code",
      "metadata": {
        "id": "5Z76JHCs92xC",
        "colab_type": "code",
        "outputId": "48f90634-ff42-4c53-d9c3-be94d407b2bf",
        "colab": {
          "base_uri": "https://localhost:8080/",
          "height": 121
        }
      },
      "source": [
        "print(df.head())"
      ],
      "execution_count": 0,
      "outputs": [
        {
          "output_type": "stream",
          "text": [
            "  ticker timestamp                                              title  newsType\n",
            "0   INFY  20190108  India forms panel to deepen digital payments  ...  topStory\n",
            "1   INFY  20190108  India forms panel to deepen digital payments  ...    normal\n",
            "2   INFY  20190111  India's Infosys Q3 profit falls 29.6 pct  miss...    normal\n",
            "3   INFY  20190111  Indian shares end lower  all eyes on Infosys r...    normal\n",
            "4   INFY  20190111  Indian shares subdued ahead of Infosys results...    normal\n"
          ],
          "name": "stdout"
        }
      ]
    },
    {
      "cell_type": "markdown",
      "metadata": {
        "id": "ijQdIN6FGgPH",
        "colab_type": "text"
      },
      "source": [
        "MoneyControl News Scapping"
      ]
    },
    {
      "cell_type": "code",
      "metadata": {
        "id": "lcjo5-sAB9je",
        "colab_type": "code",
        "colab": {}
      },
      "source": [
        "from bs4 import BeautifulSoup\n",
        "import requests\n",
        "import tweepy \n",
        "import json\n",
        "import csv\n",
        "import sys"
      ],
      "execution_count": 0,
      "outputs": []
    },
    {
      "cell_type": "code",
      "metadata": {
        "id": "Z1E3U2aqGz24",
        "colab_type": "code",
        "colab": {}
      },
      "source": [
        "def get_all_news():\n",
        "  df = pd.DataFrame(columns = ['Timestamp' , 'ImgSrc' , 'Title' , 'Text'])\n",
        "  i=0\n",
        "  for loop in  range(0,100):\n",
        "    url  = \"https://www.moneycontrol.com/news/business/stocks/page-\" + str(loop) + \"/\"\n",
        "    page = requests.get(url)\n",
        "    soup = BeautifulSoup(page.content, 'lxml')\n",
        "    for item in soup.find_all('li'  , class_ = 'clearfix'):\n",
        "        #print(item.find('img').get('src'))\n",
        "        #print(item.find(\"span\").string)\n",
        "        #print(item.find(\"h2\").find('a').get('title'))\n",
        "        #print(item.find(\"p\").string)\n",
        "\n",
        "        df.loc[i] = [ \n",
        "                      str(item.find(\"span\").string) ,\n",
        "                      str(item.find('img').get('src')) ,\n",
        "                      str(item.find(\"h2\").find('a').get('title')) , \n",
        "                      str(item.find(\"p\").string)\n",
        "                    ]\n",
        "        i+=1\n",
        "  df = df.set_index('Timestamp') \n",
        "  return df"
      ],
      "execution_count": 0,
      "outputs": []
    },
    {
      "cell_type": "code",
      "metadata": {
        "id": "WLKZ688AGkZD",
        "colab_type": "code",
        "outputId": "2715db27-3258-4ce8-f437-1ac2a1e9d0ff",
        "colab": {
          "base_uri": "https://localhost:8080/",
          "height": 173
        }
      },
      "source": [
        "df = get_all_news()\n",
        "print(df.tail())"
      ],
      "execution_count": 0,
      "outputs": [
        {
          "output_type": "stream",
          "text": [
            "                                                                        ImgSrc  ...                                               Text\n",
            "Timestamp                                                                       ...                                                   \n",
            "March 07, 2019 12:28 PM IST  https://static-news.moneycontrol.com/static-mc...  ...  Daawat Foods serves as manufacturing arm of LT...\n",
            "March 07, 2019 12:17 PM IST  https://static-news.moneycontrol.com/static-mc...  ...  Post general election and stability in domesti...\n",
            "March 07, 2019 11:54 AM IST  https://static-news.moneycontrol.com/static-mc...  ...  CLSA also reiterated its Buy rating on Zee Ent...\n",
            "March 07, 2019 11:00 AM IST  https://static-news.moneycontrol.com/static-mc...  ...  The orders are in the range of Rs 2,500 to Rs ...\n",
            "March 07, 2019 09:47 AM IST  https://static-news.moneycontrol.com/static-mc...  ...  Promoter ARIIL Trust raises stake in company b...\n",
            "\n",
            "[5 rows x 3 columns]\n"
          ],
          "name": "stdout"
        }
      ]
    },
    {
      "cell_type": "code",
      "metadata": {
        "id": "55Sil-t9RGle",
        "colab_type": "code",
        "outputId": "a284a023-a659-44d1-81ad-f3563decb1cd",
        "colab": {
          "base_uri": "https://localhost:8080/",
          "height": 167
        }
      },
      "source": [
        "# df.to_csv('News.csv' , index = True)"
      ],
      "execution_count": 0,
      "outputs": [
        {
          "output_type": "error",
          "ename": "NameError",
          "evalue": "ignored",
          "traceback": [
            "\u001b[0;31m---------------------------------------------------------------------------\u001b[0m",
            "\u001b[0;31mNameError\u001b[0m                                 Traceback (most recent call last)",
            "\u001b[0;32m<ipython-input-3-f0796bab5b7d>\u001b[0m in \u001b[0;36m<module>\u001b[0;34m()\u001b[0m\n\u001b[0;32m----> 1\u001b[0;31m \u001b[0mdf\u001b[0m\u001b[0;34m.\u001b[0m\u001b[0mto_csv\u001b[0m\u001b[0;34m(\u001b[0m\u001b[0;34m'News.csv'\u001b[0m \u001b[0;34m,\u001b[0m \u001b[0mindex\u001b[0m \u001b[0;34m=\u001b[0m \u001b[0;32mTrue\u001b[0m\u001b[0;34m)\u001b[0m\u001b[0;34m\u001b[0m\u001b[0;34m\u001b[0m\u001b[0m\n\u001b[0m",
            "\u001b[0;31mNameError\u001b[0m: name 'df' is not defined"
          ]
        }
      ]
    },
    {
      "cell_type": "code",
      "metadata": {
        "id": "pzmbZYOcGqk5",
        "colab_type": "code",
        "outputId": "128d3391-555d-4c89-f3f6-70c09fd7c624",
        "colab": {
          "base_uri": "https://localhost:8080/",
          "height": 167
        }
      },
      "source": [
        "# df.describe()"
      ],
      "execution_count": 0,
      "outputs": [
        {
          "output_type": "error",
          "ename": "NameError",
          "evalue": "ignored",
          "traceback": [
            "\u001b[0;31m---------------------------------------------------------------------------\u001b[0m",
            "\u001b[0;31mNameError\u001b[0m                                 Traceback (most recent call last)",
            "\u001b[0;32m<ipython-input-4-ea8415b8a3ee>\u001b[0m in \u001b[0;36m<module>\u001b[0;34m()\u001b[0m\n\u001b[0;32m----> 1\u001b[0;31m \u001b[0mdf\u001b[0m\u001b[0;34m.\u001b[0m\u001b[0mdescribe\u001b[0m\u001b[0;34m(\u001b[0m\u001b[0;34m)\u001b[0m\u001b[0;34m\u001b[0m\u001b[0;34m\u001b[0m\u001b[0m\n\u001b[0m",
            "\u001b[0;31mNameError\u001b[0m: name 'df' is not defined"
          ]
        }
      ]
    },
    {
      "cell_type": "code",
      "metadata": {
        "id": "6_b4chV1u-tr",
        "colab_type": "code",
        "outputId": "70b97a1e-a316-46f3-f972-ef57f8b2f2bd",
        "colab": {
          "base_uri": "https://localhost:8080/",
          "height": 167
        }
      },
      "source": [
        "# print(df.head())"
      ],
      "execution_count": 0,
      "outputs": [
        {
          "output_type": "error",
          "ename": "NameError",
          "evalue": "ignored",
          "traceback": [
            "\u001b[0;31m---------------------------------------------------------------------------\u001b[0m",
            "\u001b[0;31mNameError\u001b[0m                                 Traceback (most recent call last)",
            "\u001b[0;32m<ipython-input-3-873aa293d964>\u001b[0m in \u001b[0;36m<module>\u001b[0;34m()\u001b[0m\n\u001b[0;32m----> 1\u001b[0;31m \u001b[0mprint\u001b[0m\u001b[0;34m(\u001b[0m\u001b[0mdf\u001b[0m\u001b[0;34m.\u001b[0m\u001b[0mhead\u001b[0m\u001b[0;34m(\u001b[0m\u001b[0;34m)\u001b[0m\u001b[0;34m)\u001b[0m\u001b[0;34m\u001b[0m\u001b[0;34m\u001b[0m\u001b[0m\n\u001b[0m",
            "\u001b[0;31mNameError\u001b[0m: name 'df' is not defined"
          ]
        }
      ]
    },
    {
      "cell_type": "code",
      "metadata": {
        "id": "DMk1NitBvFv2",
        "colab_type": "code",
        "colab": {}
      },
      "source": [
        ""
      ],
      "execution_count": 0,
      "outputs": []
    },
    {
      "cell_type": "code",
      "metadata": {
        "id": "rLQFoLg_Z-TX",
        "colab_type": "code",
        "outputId": "d8f08357-590d-4422-bb8d-534b3a52cc58",
        "colab": {
          "base_uri": "https://localhost:8080/",
          "height": 173
        }
      },
      "source": [
        "# print(df.tail())"
      ],
      "execution_count": 0,
      "outputs": [
        {
          "output_type": "stream",
          "text": [
            "                                                                        ImgSrc  ...                                               Text\n",
            "Timestamp                                                                       ...                                                   \n",
            "March 07, 2019 12:28 PM IST  https://static-news.moneycontrol.com/static-mc...  ...  Daawat Foods serves as manufacturing arm of LT...\n",
            "March 07, 2019 12:17 PM IST  https://static-news.moneycontrol.com/static-mc...  ...  Post general election and stability in domesti...\n",
            "March 07, 2019 11:54 AM IST  https://static-news.moneycontrol.com/static-mc...  ...  CLSA also reiterated its Buy rating on Zee Ent...\n",
            "March 07, 2019 11:00 AM IST  https://static-news.moneycontrol.com/static-mc...  ...  The orders are in the range of Rs 2,500 to Rs ...\n",
            "March 07, 2019 09:47 AM IST  https://static-news.moneycontrol.com/static-mc...  ...  Promoter ARIIL Trust raises stake in company b...\n",
            "\n",
            "[5 rows x 3 columns]\n"
          ],
          "name": "stdout"
        }
      ]
    },
    {
      "cell_type": "code",
      "metadata": {
        "id": "FPRh6gZfGErp",
        "colab_type": "code",
        "colab": {}
      },
      "source": [
        "# for i in range(0 , (len(df) - 2420)):\n",
        "#   m , d , c , y , t , k  = df.Timestamp[i].split(\" \")\n",
        "#   print(m)\n",
        "#   print(d)\n",
        "#   print(c)\n",
        "#   print(y)\n",
        "#   print(t)\n",
        "#   print(k)\n",
        "#   d = d[0] + \"\" +d[1]\n",
        "#   print(type(m))\n",
        "#   date = m+\" \"+str(d)+\" \"+str(c)+\" \"+str(y)+\" \"+str(t)+\"\"\n",
        "#   print(date)\n",
        "#   df.Timestamp[i] =  datetime.datetime.strptime( date , '%B %d %Y %I:%M %p')"
      ],
      "execution_count": 0,
      "outputs": []
    },
    {
      "cell_type": "code",
      "metadata": {
        "id": "FJ-oX583bJmY",
        "colab_type": "code",
        "outputId": "56b50761-6cb0-42cc-f5a8-7a248f1732cd",
        "colab": {
          "base_uri": "https://localhost:8080/",
          "height": 173
        }
      },
      "source": [
        "df = pd.read_csv(\"News.csv\")\n",
        "myFormat = \"%Y-%m-%d\"\n",
        "for i in range(len(df)):\n",
        "  m , d , c , y , t , k  = str(df.Timestamp[i]).split(\" \")\n",
        "  d = d[0] + \"\" +d[1]\n",
        "  date = m+\" \"+str(d)+\" \"+str(c)+\" \"+str(y)+\" \"+str(t)+\"\"\n",
        "  df.Timestamp[i] =  datetime.datetime.strptime( date , '%B %d %Y %I:%M %p')\n",
        "  df.Timestamp[i] = df.Timestamp[i].strftime(myFormat)\n",
        "df.set_index(\"Timestamp\" , inplace = True)\n",
        "print(df.head())"
      ],
      "execution_count": 0,
      "outputs": [
        {
          "output_type": "stream",
          "text": [
            "                                                       ImgSrc  ...                                               Text\n",
            "Timestamp                                                      ...                                                   \n",
            "2019-06-15  https://static-news.moneycontrol.com/static-mc...  ...  Investors may tender their shares to enjoy ret...\n",
            "2019-06-14  https://static-news.moneycontrol.com/static-mc...  ...  All eyes remain on the crude movement as well ...\n",
            "2019-06-14  https://static-news.moneycontrol.com/static-mc...  ...  The European agency inspected Bengaluru unit i...\n",
            "2019-06-14  https://static-news.moneycontrol.com/static-mc...  ...  Prabhudas Lilladher recommended accumulate rat...\n",
            "2019-06-14  https://static-news.moneycontrol.com/static-mc...  ...  Prabhudas Lilladher recommended accumulate rat...\n",
            "\n",
            "[5 rows x 3 columns]\n"
          ],
          "name": "stdout"
        }
      ]
    },
    {
      "cell_type": "code",
      "metadata": {
        "id": "t8fs_SYecgra",
        "colab_type": "code",
        "outputId": "b3dae317-ee4e-43d0-87fe-1fcdc259e9cf",
        "colab": {
          "base_uri": "https://localhost:8080/",
          "height": 173
        }
      },
      "source": [
        ""
      ],
      "execution_count": 0,
      "outputs": [
        {
          "output_type": "stream",
          "text": [
            "                                                                ImgSrc  ...                                               Text\n",
            "Timestamp                                                               ...                                                   \n",
            "2019-06-15 10:49:00  https://static-news.moneycontrol.com/static-mc...  ...  Investors may tender their shares to enjoy ret...\n",
            "2019-06-14 23:44:00  https://static-news.moneycontrol.com/static-mc...  ...  All eyes remain on the crude movement as well ...\n",
            "2019-06-14 16:45:00  https://static-news.moneycontrol.com/static-mc...  ...  The European agency inspected Bengaluru unit i...\n",
            "2019-06-14 15:53:00  https://static-news.moneycontrol.com/static-mc...  ...  Prabhudas Lilladher recommended accumulate rat...\n",
            "2019-06-14 15:47:00  https://static-news.moneycontrol.com/static-mc...  ...  Prabhudas Lilladher recommended accumulate rat...\n",
            "\n",
            "[5 rows x 3 columns]\n"
          ],
          "name": "stdout"
        }
      ]
    },
    {
      "cell_type": "code",
      "metadata": {
        "id": "qu3ByFBJKcmd",
        "colab_type": "code",
        "outputId": "15a6f6e7-e532-4abd-c400-f73f3ebadb0b",
        "colab": {
          "base_uri": "https://localhost:8080/",
          "height": 185
        }
      },
      "source": [
        "# df = df.reset_index()\n",
        "# print(str(df.Timestamp[0]))\n",
        "# df.Timestamp[0] = datetime.datetime.strptime( str(df.Timestamp[0]) , '%Y-%m-%d').date()\n",
        "# myFormat = \"%Y-%m-%d\"\n",
        "# print ( df.Timestamp[0].strftime(myFormat))"
      ],
      "execution_count": 0,
      "outputs": [
        {
          "output_type": "error",
          "ename": "AttributeError",
          "evalue": "ignored",
          "traceback": [
            "\u001b[0;31m---------------------------------------------------------------------------\u001b[0m",
            "\u001b[0;31mAttributeError\u001b[0m                            Traceback (most recent call last)",
            "\u001b[0;32m<ipython-input-79-871a978df982>\u001b[0m in \u001b[0;36m<module>\u001b[0;34m()\u001b[0m\n\u001b[1;32m      1\u001b[0m \u001b[0mmyFormat\u001b[0m \u001b[0;34m=\u001b[0m \u001b[0;34m\"%Y-%m-%d\"\u001b[0m\u001b[0;34m\u001b[0m\u001b[0;34m\u001b[0m\u001b[0m\n\u001b[0;32m----> 2\u001b[0;31m \u001b[0mprint\u001b[0m \u001b[0;34m(\u001b[0m \u001b[0mdf\u001b[0m\u001b[0;34m.\u001b[0m\u001b[0mTimestamp\u001b[0m\u001b[0;34m[\u001b[0m\u001b[0;36m0\u001b[0m\u001b[0;34m]\u001b[0m\u001b[0;34m.\u001b[0m\u001b[0mstrftime\u001b[0m\u001b[0;34m(\u001b[0m\u001b[0mmyFormat\u001b[0m\u001b[0;34m)\u001b[0m\u001b[0;34m)\u001b[0m\u001b[0;34m\u001b[0m\u001b[0;34m\u001b[0m\u001b[0m\n\u001b[0m",
            "\u001b[0;31mAttributeError\u001b[0m: 'str' object has no attribute 'strftime'"
          ]
        }
      ]
    },
    {
      "cell_type": "code",
      "metadata": {
        "id": "7Ym4W4-rLDIC",
        "colab_type": "code",
        "outputId": "d4671f07-0c62-4ba1-bb2b-6c9e96bb28b5",
        "colab": {
          "base_uri": "https://localhost:8080/",
          "height": 156
        }
      },
      "source": [
        "# for i in range(len(df)):\n",
        "#   df.Timestamp[i] = df.Timestamp[i].strftime(myFormat)\n",
        "# print(df.head())  "
      ],
      "execution_count": 0,
      "outputs": [
        {
          "output_type": "stream",
          "text": [
            "    Timestamp  ...                                               Text\n",
            "0  2019-06-15  ...  Investors may tender their shares to enjoy ret...\n",
            "1  2019-06-14  ...  All eyes remain on the crude movement as well ...\n",
            "2  2019-06-14  ...  The European agency inspected Bengaluru unit i...\n",
            "3  2019-06-14  ...  Prabhudas Lilladher recommended accumulate rat...\n",
            "4  2019-06-14  ...  Prabhudas Lilladher recommended accumulate rat...\n",
            "\n",
            "[5 rows x 4 columns]\n"
          ],
          "name": "stdout"
        }
      ]
    },
    {
      "cell_type": "code",
      "metadata": {
        "id": "_rmk2B8LM0_P",
        "colab_type": "code",
        "outputId": "70cb0278-a39c-4f9f-df45-6cd08b40b016",
        "colab": {
          "base_uri": "https://localhost:8080/",
          "height": 173
        }
      },
      "source": [
        "# df.set_index(\"Timestamp\" ,inplace = True)\n",
        "# print(df.head())"
      ],
      "execution_count": 0,
      "outputs": [
        {
          "output_type": "stream",
          "text": [
            "                                                       ImgSrc  ...                                               Text\n",
            "Timestamp                                                      ...                                                   \n",
            "2019-06-15  https://static-news.moneycontrol.com/static-mc...  ...  Investors may tender their shares to enjoy ret...\n",
            "2019-06-14  https://static-news.moneycontrol.com/static-mc...  ...  All eyes remain on the crude movement as well ...\n",
            "2019-06-14  https://static-news.moneycontrol.com/static-mc...  ...  The European agency inspected Bengaluru unit i...\n",
            "2019-06-14  https://static-news.moneycontrol.com/static-mc...  ...  Prabhudas Lilladher recommended accumulate rat...\n",
            "2019-06-14  https://static-news.moneycontrol.com/static-mc...  ...  Prabhudas Lilladher recommended accumulate rat...\n",
            "\n",
            "[5 rows x 3 columns]\n"
          ],
          "name": "stdout"
        }
      ]
    },
    {
      "cell_type": "code",
      "metadata": {
        "id": "z4wBw0z0Nhui",
        "colab_type": "code",
        "outputId": "5ecfa6a0-d3d4-40ff-f0f7-5d0ef61aa9f3",
        "colab": {
          "base_uri": "https://localhost:8080/",
          "height": 34
        }
      },
      "source": [
        "df.Title[0]"
      ],
      "execution_count": 0,
      "outputs": [
        {
          "output_type": "execute_result",
          "data": {
            "text/plain": [
              "'Wipro buyback likely to increase EPS, investors may tender their shares'"
            ]
          },
          "metadata": {
            "tags": []
          },
          "execution_count": 91
        }
      ]
    },
    {
      "cell_type": "code",
      "metadata": {
        "id": "tRmyHc9_OyNe",
        "colab_type": "code",
        "colab": {}
      },
      "source": [
        "df[df['Title'].str.contains(\" \")]"
      ],
      "execution_count": 0,
      "outputs": []
    },
    {
      "cell_type": "code",
      "metadata": {
        "id": "NU3SvCRuPiMQ",
        "colab_type": "code",
        "colab": {}
      },
      "source": [
        "from pandas_datareader import data "
      ],
      "execution_count": 0,
      "outputs": []
    },
    {
      "cell_type": "code",
      "metadata": {
        "id": "8XlME-WmQ1R8",
        "colab_type": "code",
        "colab": {}
      },
      "source": [
        "dataset = data.DataReader('infy' , 'yahoo' ,datetime.datetime(2018,11,1),datetime.datetime.now())"
      ],
      "execution_count": 0,
      "outputs": []
    },
    {
      "cell_type": "code",
      "metadata": {
        "id": "fdMo0qyNRsDy",
        "colab_type": "code",
        "colab": {}
      },
      "source": [
        "# Create a list of the opening prices and their corresponding daily headlines from the news\n",
        "price = []\n",
        "headlines = []\n",
        "\n",
        "# for i in range(len(dataset)):\n",
        "#   day = []\n",
        "#   date = dataset.index[i].strftime(myFormat)\n",
        "#   for j in range(len(df)):\n",
        "#     if df.index[j] == date :\n",
        "#       day.append(df.Title[j])\n",
        "  \n",
        "#   print(day[0])      \n",
        "#   headlines.append(day)\n",
        "#   price.append(dataset.Close[i])\n",
        "#   #print(headlines)\n",
        "  \n",
        "for i in range (0,len(dataset)):\n",
        "  day = []\n",
        "  temp = []\n",
        "  date = dataset.index[i].strftime(myFormat)\n",
        "  for j in range(0 , len(df)):\n",
        "    if df.index[j] == date:\n",
        "      day.append(df.Title[j])\n",
        "  print(day)\n",
        "  headlines.append(day)  \n",
        "  price.append(dataset.Close[i])"
      ],
      "execution_count": 0,
      "outputs": []
    },
    {
      "cell_type": "code",
      "metadata": {
        "id": "KdPAMCCDRw_H",
        "colab_type": "code",
        "outputId": "c29a957f-5e2a-4dd0-f3e4-606ef01f3c98",
        "colab": {
          "base_uri": "https://localhost:8080/",
          "height": 52
        }
      },
      "source": [
        "print(len(headlines))\n",
        "print(len(price))"
      ],
      "execution_count": 0,
      "outputs": [
        {
          "output_type": "stream",
          "text": [
            "154\n",
            "154\n"
          ],
          "name": "stdout"
        }
      ]
    },
    {
      "cell_type": "code",
      "metadata": {
        "id": "HA1q3su0nP1J",
        "colab_type": "code",
        "outputId": "5bc1ba19-d7e4-41e0-80b0-f7bbbfef2044",
        "colab": {
          "base_uri": "https://localhost:8080/",
          "height": 54
        }
      },
      "source": [
        "print(headlines)"
      ],
      "execution_count": 0,
      "outputs": [
        {
          "output_type": "stream",
          "text": [
            "[[], [], [], [], [], [], [], [], [], [], [], [], [], [], [], [], [], [], [], [], [], [], [], [], [], [], [], [], [], [], [], [], [], [], [], [], [], [], [], [], [], [], [], [], [], [], [], [], [], [], [], [], [], [], [], [], [], [], [], [], [], [], [], [], [], [], [], [], [], [], [], [], [], [], [], [], [], [], [], [], [], [], [], [], ['Post Q3, which multi-category consumer durables stock should you choose?', 'NELCO gains 1% on in-flight & maritime connectivity licence from DoT', 'D-Street Buzz: PSU banks extend gains led by PNB; Axis Bank hits new 52-week high, Zee Entertainment drags', 'Hold Supreme Industries; target of Rs 1018: Geojit', 'Hold Escorts; target of Rs 680: Geojit', 'Hold V-GUARD Industries; target of Rs 207: Geojit', 'Hold Aarti Industries; target of Rs 1787: Geojit', 'Hold Gabriel India; target of Rs 155: Geojit', 'Sugar stocks trade mixed after Cabinet nod for additional funds to sugar mills', 'Ideas for Profit | Bodal Chemicals: Vertical integration, better product mix holds promise on margin; accumulate', 'Marksans Pharma slips 4% post USFDA inspection at Goa facility', 'SJVN climbs 13% after Cabinet nod to investment in Buxar Thermal Power Project', 'NHPC rallies 8% after Cabinet nod to investment in Chenab valley, acquisition of Lanco Teesta hydro project', 'D-Street Buzz: Nifty PSU Bank outperforms led by PNB; Wipro sheds 2%, RIL most active', 'Gold prices are expected to trade lower today: Angel Commodities', 'Crude Oil prices are expected to trade lower today: Angel Commodities', 'LT Foods rises 7% as co to make investment in its subsidiary', 'Positive momentum in mid, smallcaps likely to continue: Geojit Financial', \"Brokerage calls: Infosys is CLSA's top pick in IT pack, Credit Suisse gives 'outperform' to NTPC\", 'L&T gains 3% as construction arm bags contracts in Telangana, Jharkhand', 'Ajmera Realty jumps 5% as promoter increases stake in company'], ['Closure of coal gasifiers in Morbi a positive for Gujarat Gas', 'Maruti Suzuki dips 1% after Kotak downgrades, cuts price target', 'Brokerage calls: Kotak downgrades Maruti Suzuki, Macquarie starts coverage of Gujarat Gas', 'Balaji Telefilms climbs 5% after report of promoters raised stake in co', 'Glenmark Pharma falls nearly 2% on inspection of Goa unit', 'D-Street Buzz: Tata Motors, Wipro fall 3% each; NTPC gains, PSU banks drag', 'Wipro falls 5% after a block deal worth nearly Rs 700 crore', 'Jubilant Life Sciences dips 5% after USFDA issues warning letter for Roorkee facility', \"'Weak global sentiment, general elections likely to keep market volatile'\", 'D-Street Buzz: Nifty Metal underperforms dragged by Tata Steel, JSPL; Tata Motors falls 3%', 'Lakshmi Vilas Bank slips 7% as QIP issue opens', 'Gold prices are expected to trade lower today: Angel Commodities', 'Granules India surges 7% post co promoters sell shares worth Rs 50cr', 'Tata Motors falls 4% after weakness in China drags JLR global sales 4%', 'Zensar Technologies gains 4% after co selected as IT transformation partner by US co', \"Looking for Midcap plays? Here are Morgan Stanley's 10 favourite picks across sectors\", 'Arvind Fashions debuts at Rs 590.95 on NSE', 'Time to look at beaten-down quality stocks; Kotak Securities lists 6 investment ideas', 'Larsen & Toubro gains as hydrocarbon engineering segment bags significant contract from ONGC', \"Spot the next 'HDFC Bank'?\", 'D-Street Buzz: Nifty IT in red dragged by Wipro; Bharti Airtel rises, Advanced Enzyme zooms 14%', 'Suven Life Sciences rises 2% after JV acquires bankrupt Rising Pharmaceuticals in US', 'KNR Constructions rises 6% on orders win worth Rs 1,055cr', 'Va Tech Wabag gains 2% on big hybrid annuity order from Namami Gange', 'Top buy and sell ideas by Ashwani Gujral, Mitessh Thakkar, Prakash Gaba for short term', 'Podcast | Stock picks of the day: Time to book some profits in small & midcaps', 'Stocks in the news: RIL, Tata Motors, Infosys, Lupin, KNR Constructions, BLS International, LT Foods'], ['Levi Strauss & Co IPO to raise as much as $587 million', 'Is it time to buy smallcap and midcap stocks?', 'Birla Corp shares dive over 5% after NGT order stopping mining at Chittorgarh', 'Bharti Airtel jumps 7% as co to undergo ownership structure change', 'Godfrey Phillips up 10%, hits 52-week high after clarification on violation of FDI laws', 'NBCC jumps 4% on four orders from Raipur SMART City Ltd', \"Central Bank, IOB rally 6-8% after Moody's upgrades ratings\", 'IFCI gains 5% after co exits from two large exposures in thermal power sector', 'Value buys: Motilal Oswal prefers 15 stocks among beaten-down midcaps', 'OMCs gain with HPCL & BPCL rallying up to 6%,  ICICIdirect expects up move in Petronet', 'Reduction in price of BT cotton seeds: Announcement a blow for global players', 'NALCO dips 8% as stock adjusts for dividend', 'Gold prices are expected to trade higher today: Angel Commodities', 'Kalpataru Power rises 3% on orders win worth Rs 1,288cr', 'Crude oil prices are expected to trade lower today: Angel Commodities', \"'As long as Nifty holds 10,800, any dip is likely to bought into'\", 'D-Street Buzz: Auto stocks gain led by Motherson Sumi; Bharti Airtel jumps 5%, Axis Bank hits new 52-week high', 'Power Mech Projects jumps 4% on order win worth Rs 1,238 crore', 'Aurionpro Solutions gains 5% on order wins worth Rs 48 crore', 'Why Punjab National Bank could have upside of about 20%', 'Jet Airways gains 5% on fresh credit from PNB, likely revival plan by Etihad', 'Ashoka Buildcon advances 4% after receiving LoA from NHAI', 'First Cut | SBI ups the ante, but banks unlikely to see any impact on margins', 'Unichem Laboratories rises 3% post USFDA inspection without Form 483', 'GMR Infrastructure gains after arm receives LoA for Nagpur Airport', 'D-Street Buzz: Nifty PSU Bank outperforms led by SBI; ONGC jumps 2%, RIL most active', 'Dilip Buildcon rises 6% after NHAI declares co as lowest bidder for EPC project', 'Top buy and sell ideas by Ashwani Gujral, Sudarshan Sukhani, Mitessh Thakkar for short term', 'Stocks in the news: Tata Motors, Cipla, GMR Infra, Laurus Labs, Dilip Buildcon, Nitesh Estates, OIL'], [\"An evening walk down Dalal Street: ICICI Bank, RIL among 7 stocks that investors can buy after today's rally\", 'Realty stocks get a boost as experts see housing recovery by 2019-end', \"'F&O data indicates support for Nifty shifting higher, 11,500 possible'\", \"HUL gains 1% after Reliance Securities initiates coverage with a 'buy' rating\", 'Buy Or Sell | Nifty likely to head towards 11300; buy Kotak Bank, Cadila Health', 'Sharon Bio Medicine locked at upper circuit on withdrawal of closure notice for its plant', 'D-Street Buzz: Realty stocks advance led by Indiabulls Real Estate; Eicher Motors drags', \"India a 'brilliant' growth play, but valuations are expensive: EM equities manager Tim Love\", 'Upbeat on private banks, auto and cement sector: Kim Eng Securities', \"Ideas for Profit: Here's what investors can expect after Arvind's demerger\", 'D-Street Buzz: Bank Nifty in green led by ICICI Bank, stock hits new 52-week high, Bharti Airtel surges', 'Vidhi Specialty: Beneficiary of strong entry barriers in food colour industry', 'Selan Exploration jumps 4% on 10-year extension for Lohar field contract', 'Cadila Healthcare rises 3% on USFDA approval for drugs to treat high blood pressure', 'Soybean prices to trade sideways to lower: Angel Commodities', 'Gold prices are expected to trade lower today: Angel Commodities', 'DLF spikes 5% as company looks to cut down debt', 'Adani Enterprises rises 3% on LoA from NHAI for 2 projects worth Rs 2,923 crore', 'Advanced Enzyme Technologies falls 3% after promoters sold stake in co last week', 'Remain long on Nifty with a stop loss at 11,000: HDFC Securities', 'KEC International gains 4% on orders of Rs 1,323 cr across various segments', 'JMC Projects jumps 6% on new orders worth Rs 547cr', 'Bharti Airtel surges 6% as company decides to sell stake in Bharti Infratel', 'L&T gains 4% on contracts win in India and abroad', 'HDFC Life slips 5% as offer for sale by JV partner opens today', \"Brokerage calls: Axis advises 'hold' Concor, Jefferies retains 'underperform' on Dr Reddy's\", 'Laurus Labs jumps 2% on USFDA approval for malaria drug', 'GMDC jumps 10% after Edelweiss initiates coverage with buy call, sees 22% upside', 'Jet Airways gains 2% on report of capital infusion by Etihad, new partner', 'Welspun Corp rallies 7% on additional pipe orders from global clients', 'D-Street Buzz: Nifty Energy outperforms led by RIL; ICICI Bank gains, Titan hits new 52-week high', 'Piramal Enterprises gains after launching injection in US market', 'PSP Projects gains nearly 6% on orders win worth Rs 602cr', 'How should investors be positioned ahead of elections?', \"Podcast | Stock Picks of the Day: 'Banking and financials likely to outperform'\", 'Top buy and sell ideas by Sudarshan Sukhani, Mitessh Thakkar, Prakash Gaba for short term', 'Stocks in the news: HDFC Life, PSP Projects, Welspun Corp, Jet Airways, Advanced Enzyme'], ['Unichem Laboratories rises 2% on USFDA approval', 'D-Street Buzz: Yes, IndusInd Bank extend gains, ICICI Bank at new 52-week high', 'Keerthi Industries locked at upper circuit after on contract wins in KG basin', 'Advanced Enzyme Technologies slips 2% after promoter cuts stake again', 'Here are 5 fundamental picks from Centrum Broking to tap mispricing opportunities', 'Hindustan Fluorocarbons gains 5% as co approves sale of surplus land', 'Asian Granito gains 3% as co unveils plan to raise Rs 90 cr via preferential warrants', 'D-Street Buzz: Nifty Media drags led by Zee Ent; RIL, HDFC Bank, Axis Bank at record high', 'TCI Express climbs 5% as co decides to acquire stake in Japanese firm', 'A2Z Infra locked at lower circuit as co lose management control of subsidiary', 'Avenue Supermarts gains as it issues Rs 100-cr commercial paper', 'Infosys gains 2% after Sri Lankan bank selects subsidiary to implement finance network', 'Ramco System surges 5% after Opteon Solutions selects co to digitise payroll operations', 'Expect foreign investments will continue to rise in India: Adrian Mowat', 'Jet Airways, SpiceJet stocks slip after DGCA grounds Boeing 737 MAX 8 aircraft', 'Brokerage calls: Macquarie, CLSA bullish on Nestle, Citi sees 16% upside in Maruti Suzuki', 'D-Street Buzz: Nifty Realty outperforms led by DLF; RIL hits new 52-week high', 'Sun Pharma Advanced gains 3% on research collaboration with Chinese firm', 'CMI rises 3% on execution of export order to Mauritius', 'NMDC rises 3% as board declares interim dividend', 'DLF jumps over 3% after CLSA upgrades stock', 'Top buy and sell ideas by Sudarshan Sukhani, Mitessh Thakkar, Prakash Gaba for short term', \"Podcast | Stock picks of the day: 'Nifty could move towards 11,450; buy on dips'\", 'Stocks in the news: NMDC, Raymond, Advanced Enzyme, Avenue Supermarts, Keerthi'], [\"'HUL driving force behind Nifty FMCG, index could hit 33,000'\", 'ADAG stocks tank after lenders sell pledged RCom shares worth Rs 59 cr', 'D-Street Buzz: Realty stocks jump led by Indiabulls Real Estate; Sun Pharma up 2%', 'eClerx Services rises 6% on buyback approval worth of Rs 262 crore', 'Reliance Infrastructure falls nearly 4% post entire stake sale in subsidiary', 'HUL, Container Corporation among 10 stocks where brokerages initiated coverage in March', 'BSE rises 4% as co says board to consider buyback on May 7', 'Bajaj Consumer Care rises 2% after company hires global management consultant', 'D-Street Buzz: Nifty Pharma in green led by Sun Pharma; IT stocks drag', 'Rajesh Exports gains 2% on order win worth Rs 1,079cr', 'HCL Tech falls 2% on a US firm acquisition; analysts mixed', \"'Buying to sustain in quality mid and smallcaps, but be careful in stock selection'\", 'Lupin rises 2% despite USFDA concerns for Mandideep unit; brokerages maintain buy', 'Slideshow | SBI, Future Supply, VRL Logistics among top buys that can return up to 17%', 'Jubilant Food climbs 3% on block deal; HDFC Sec sees 32% upside', 'Voltas sheds 3% as CLSA maintains sell; 17% downside expected', 'On the charts | Be ready for rally in Eveready after fall of over 40% in past year', 'Essel Propack jumps 4% on redemption of commercial papers', 'Lemon Tree Hotels rises 2% after signing term sheet for acquisition of Keys Hotels', 'Ideas for Profit | This smallcap is ready to ride the affordable housing wave', 'Star Cement climbs 10% on receiving freight subsidy claims from govt', 'GE T&D India gains 3% on bagging grid modernisation project', 'D-Street Buzz: Nifty Media spikes led by Zee Ent; HDFC Bank at new record high', 'Tata Motors falls 2% on JLR vehicle recall', 'Yes Bank gains 4% as Deutsche Bank raises price target', 'Deep Industries rises 13% on orders win from ONGC', 'Top buy and sell ideas by Sudarshan Sukhani, Mitessh Thakkar, Prakash Gaba for short term', 'Podcast | Stock picks of the day: Why PVR & Canara Bank are a buy for short term', 'Stocks in the news: Lupin, HCL Tech, Wipro, Essel Propack, Unichem Labs, Deep Industries'], ['ICICI Bank, HDFC Bank, Titan among 50 stocks to hit new 52-week high on BSE', 'Ideas for Profit | What makes Arvind Fashions investment-worthy?', 'Cement stocks make the most of mid, smallcap recovery; Elara Capital expects earnings to improve', 'Bharti Airtel top loser on Sensex post Jefferies downgrade', 'D-Street Buzz: PSU banks surge led by SBI, PNB; Bharti Airtel falls, FMCG drags', 'HCC gains 8% on report of PE firm buying arbitration exposure', \"Bank Nifty gains 10% in March: Here's what is driving the rally in banking stocks\", 'Aarti Drugs gains 3% on buyback approval at Rs 900/share', 'Prestige Estates Projects climbs 4% as Deutsche Bank gives it a buy', 'BHEL falls 2% on Nomura downgrade, target price cut', 'D-Street Buzz: Nifty IT outshines led by TCS; ICICI Bank at new 52-week high, Zee Ent jumps', \"'Slow economic growth, lack of domestic trigger likely to cap upside to equity markets'\", 'Hindustan Unilever declines 2% on management rejig; analysts remain bullish', 'Ujjivan Financial, Coal India fall 1-2% on interim dividend news', 'Soybean futures expected to trade sideways to lower: Angel Commodities', 'CMI rises 9% after co gets vendor approval from prestigious companies', 'A2Z Infra spikes 5% after co settles debt worth Rs 41 cr with Edelweiss Asset Reconstruction', 'Tech Mahindra gains on Japanese firm acquisition announcement', 'Growth story: Leader in consumer lending space, this NBFC rose 60% in 1 year', \"RIL gains as Brookfield announces acquisition of group's East West Pipeline\", 'TTK Prestige slides over 2% as CLSA downgrades the stock', 'Tide Water Oil gains 2% as co declares 1700% interim dividend', 'Glenmark Pharma rises nearly 2% on USFDA approval', 'D-Street Buzz: Bank Nifty outperforms led by Kotak Bank; ICICI Bank at new 52-week high, HUL drags', 'Top buy and sell ideas by Rajat Bose, Mitessh Thakkar, Prakash Gaba for short term', \"Podcast | Stock picks of the day: 'Bank Nifty could rally another 2,500 points'\", 'Stocks in the news: Infosys, RIL, Chalet Hotels, Jubilant Foodworks, Strides Pharma, CMI, Tide Water'], ['Buy Strides Pharma Science; target of Rs 530: Geojit', 'Hold Cadila Healthcare; target of Rs 358: Geojit', 'Hold Exide Industries; target of Rs 230: Geojit', 'D-Street Buzz: Auto stocks slip further led by Hero Moto, Bharti Airtel sheds 2%; Bajaj Finance gains', 'Prabhat Dairy locked in upper circuit for 2nd day in a row', 'Hindustan Aeronautics gains 6% as company announces hefty dividend', 'Ratnamani Metals gains 2% on order win worth Rs 298 crore', 'Rally in midcaps at early stage of uptrend, 30% upside possible: ICICI Securities', 'D-Street Buzz: Nifty Realty outperforms led by Sunteck Realty; IT stocks drag', 'Bombay Dyeing surges 11% as Mumbai project gets nod', 'IRB Infra falls after rising nearly 2% as it commissions highway project', 'Why Dish TV, BPCL and Power Grid are a buy', 'Lumax Auto Technologies slips nearly 3% as co shuts PCB manufacturing', 'Maruti Suzuki falls 4% amid production cut buzz', 'EURINR is expected to appreciate: Angel Broking', 'Cotton prices to trade sideways to higher: Angel Commodities', 'Majesco advances 3% as co decides to sell India insurance products biz', 'DHFL gains 6% as board approves stake sale in Avanse Financial', 'Kesoram Industries dips 3% after CARE revises rating, promoter creates additional pledge', 'SPML Infra surges 10% on orders worth Rs 883 crore', 'D-Street Buzz: Bank Nifty continues its bull run; auto stocks under pressure led by Maruti', \"'Expect huge short covering in next 10 days, buy every decline'\", 'Bandhan Bank falls 3% as Macquarie sees pressure till promoter stake reduction', \"Lupin slides 5% as global brokerages maintain 'underperform', slash target price\", 'Sensex back above 38K: Here’s how you can allocate Rs 10 lakh right now', 'Ashoka Buildcon rises 2% on contract from Jharkhand Bijli Vitran Nigam', 'How investors should play the race for Mindtree', 'Mindtree rises 2% ahead of board meeting to consider buyback', \"Podcast | Stock picks of the day: 'Expect consolidation before next leg of rally'\", 'Top buy and sell ideas by Sudarshan Sukhani, Mitessh Thakkar, Prakash Gaba for short term', 'Stocks in the news: Oil India, Bandhan Bank, Lumax Auto, Mindtree, Majesco, HDFC, DHFL'], ['Buy Ajanta Pharma; target of Rs 1080: Keynotes Financial Opiniery', 'Movers & Shakers: Eicher Motors, Torrent Power, Thermax, Parsvnath Developers', 'Comment | The many sides to L&T’s acquisition of Mindtree', 'D-Street Buzz: PSU banks extend gains, ITC jumps 2%; RIL most active', 'Buy Sagar Cements; target of Rs 962: Dalmia Securities', 'Buy Capacite Infraprojects; target of Rs 259: CD Equisearch', 'Buy Container Corporation of India; target of Rs 624: Dolat Capital', 'Buy Bharti Airtel; target of Rs 380: Motilal Oswal', 'Buy LIC Housing Finance; target of Rs 600: Motilal Oswal', 'Buy Hindustan Unilever; target of Rs 2125: Motilal Oswal', 'Jet Airways plunges 5% as report claims Etihad may not invest further', 'Kaveri Seed rises 3% on launch of a new facility at Telangana', 'D-Street Buzz: Nifty PSU Bank and Nifty Media surges, auto stocks drag', \"Maruti Suzuki's slump a bummer for investors; brokerages lose confidence\", 'Hotel Leela Venture locked at upper circuit on sale of hotel properties for Rs 3,950 cr', 'Gold are expected to trade higher today: Angel Commodities', \"Slideshow | Brokerages upgrade these 6 stocks to 'buy' with 7-28% upside\", \"Chalet Hotels climbs over 4% after JM Financial initiates coverage with 'buy' call\", 'Coffee Day Enterprises falls 4% on stake sale in Mindtree', 'HCL Technologies gains after a deal with Xerox Corporation', 'Sell USDINR; target of 68.55 - 68.45: ICICI Direct', 'D-Street Buzz: PSU banks gain led by PNB, ADAG stocks rise after debt payment', 'Reliance Communications gains 10% after Rs 550-cr payment to Ericsson', 'AurionPro Solutions gains 10% as company considers buyback', \"Mindtree falls as L&T announces acquisition of company's stake\", 'Why the dream run of HDFC Bank could continue', 'Top buy and sell ideas by Sudarshan Sukhani, Mitessh Thakkar, Prakash Gaba for short term', \"Podcast | Stock picks of the day: 'Nifty could hit 12,400 in medium term, stay long'\", 'Stocks in the news: RComm, Majesco, Orbit Exports, Hotel Leela, Canara Bank, L&T, Mindtree'], ['Buy The Ramco Cements; target of Rs 830: Sharekhan', 'Buy ITC; target of Rs 347: Sharekhan', 'Buy Arvind Fashions; target of Rs 1358: Sharekhan', 'Buy KEC International; target of Rs 375: Sharekhan', 'Buy PI Industries; target of Rs 1200: Sharekhan', 'Buy Kalpataru Power Transmission; target of Rs 552: Sharekhan', 'Buy Larsen and Toubro; target of Rs 1655: Sharekhan', \"RIL remains India's largest listed firm with $127 bn market-cap\", 'Hold Kewal Kiran Clothing; target of Rs 1415: Sharekhan', 'Hold Persistent Systems; target of Rs 720: Sharekhan', 'Hold Bajaj Auto; target of Rs 3100: Sharekhan', 'Buy LIC Housing Finance; target of Rs 590: Sharekhan', 'D-Street Buzz: Nifty Energy in red dragged by HPCL, BPCL; SpiceJet jumps 9%', 'Hold Maruti Suzuki; target of Rs 6950: Sharekhan', 'Buy Torrent Power; target of Rs 315: Motilal Oswal', 'Buy Jindal Steel and Power; target of Rs 287: Motilal Oswal', 'Buy Larsen and Toubro; target of Rs 1610: Motilal Oswal', 'Buy Axis Bank; target of Rs 875: Motilal Oswal', \"PNB climbs 3% after Nirav Modi's arrest in London\", 'Buy Aurbindo Pharma; target of Rs 906: Keynotes Financial Opiniery', 'Accumulate Axis Bank; target of Rs 840: Dolat Capital', 'Hold Mindtree; target of Rs 887: Prabhudas Lilladher', 'Buy Suprajit Engineering; target of Rs 260: Keynotes Financial Opiniery', 'Buy Menon Bearings; target of Rs 105: Keynotes Financial Opiniery', 'Accumulate Axis Bank; target of Rs 845: Prabhudas Lilladher', 'Ideas for Profit | High earnings growth, reasonable valuation makes CreditAccess Grameen a worthy buy', 'D-Street Buzz: Metal stocks fall led by JSPL, HPCL down 4%; Titan hits 52-week high', 'Vodafone Idea tumbles 7% on right issue of Rs 25,000 cr', \"Axis Bank hits 52-week high as brokerages maintain 'buy'\", \"Minda Industries gains 4% as Nomura gives it a 'buy' with 40% upside\", 'Crude Oil are expected to trade lower today: Angel Commodities', 'EURINR is expected to depreciate: Angel Broking', 'Rising competition, slowing growth make the ride bumpy for\\xa0Eicher Motors', 'Viaan Industries locked at upper circuit as co decides to acquire stake in Avalance Technology', 'Datamatics Global Services rises 3% on acquiring additional stake in subsidiary', 'DLF gains 3% as co enters into JV to invest Rs 1,900 cr in Gurugram project', 'Newgen Software gains 9% on securing new patent', 'D-Street Buzz: Zee Ent drags Nifty Media 2%, energy stocks also slip; Infosys gains', 'Top buy and sell ideas by Sudarshan Sukhani, Mitessh Thakkar, Prakash Gaba for short term', 'Podcast | Stock picks of the day: Nifty may move towards 11,700 in coming sessions', 'Stocks in the news: DLF, Centrum Capital, Fortis, Newgen Software, Muthoot Capital'], ['Fed hints at no rate hike in 2019; move positive for Indian equities', 'Nifty may consolidate around 11,600 levels; buy these two stocks for the medium-term', \"eClerx Services buyback: Here's what a retail investor's strategy should be\", 'OMCs rally 19-30% in 1 month; CLSA turns cautious on IOC, BPCL & HPCL'], ['Markets@Moneycontrol  │FIIs fuel market rally', 'Technical View: Nifty forms bearish candle, 11,572 may be key hurdle', 'GVK Power climbs 3% after arm raises stake in Mumbai International Airport', 'Buy Axis Bank; target of Rs 825: ICICI Direct', 'Hold NTPC; target of Rs 123: ICICI Direct', 'Hold Voltas; target of Rs 650: ICICI Direct', 'Hold Sterlite Technologies; target of Rs 230: ICICI Direct', 'Hold Star Cement; target of Rs 110: ICICI Direct', 'Sell VST Tillers Tractors; target of Rs 1250: ICICI Direct', 'Buy KSB Pumps; target of Rs 795: ICICI Direct', 'Buy Larsen and Toubro; target of Rs 1655: ICICI Direct', 'Mindtree dips 1% as share buyback deferred', 'Caplin Point climbs 3% as arm gets USFDA approval for anticholinergic drug', 'Ideas for Profit | M&M Financial Services: Risk reward reasonable; accumulate', 'Kansai Nerolac falls 5% after CLSA downgrade, price target cut', 'Buy Aurobindo Pharma; target of Rs 952: Prabhudas Lilladher', 'Buy Axis Bank; target of Rs 850: Sharekhan', 'Tata Power rises 2% on bagging Rs 1,200-cr contract from Defence Ministry', 'Buy Vodafone Idea; target of Rs 40: Motilal Oswal', 'Buy IGL; target of Rs 340: Keynotes Financial Opiniery', 'Sun Pharma falls 1% on USFDA observation for Baska facility', 'Sell USDINR; target of 68.80 - 68.70: ICICI Direct', 'Soybean prices to trade sideways to higher: Angel Commodities', 'Jubilant Life falls 3% as USFDA raises red flag for Nanjangud unit', 'SpiceJet jumps 14%, Jet & InterGlobe Aviation 2-3% despite low Feb passenger growth', 'Are gold financing companies still worthy of investor attention?', 'Top buy and sell ideas by Ashwani Gujral, Mitessh Thakkar, Prakash Gaba for short term', 'Podcast | Stock picks of the day: Nifty may find resistance at 11,557 on upside', 'Stocks in the news: Bajaj Auto, Infosys, Mindtree, DB Realty, Asian Oilfield, Jet Airways, PFC'], ['Buy Arvind Fashions; target of Rs 1290: ICICI Direct', 'Sell Maruti Suzuki India; target of Rs 6000: ICICI Direct', 'Buy Morepen Laboratories; target of Rs 24: Keynotes Financial Opiniery', 'Buy Brigade Enterprises; target of Rs 316: Motilal Oswal', 'Buy NOCIL; target of Rs 252: Prabhudas Lilladher', 'Buy VIP Industries; target of Rs 579: Prabhudas Lilladher', 'EURINR is expected to move sideways: Angel Broking', 'D-Street Buzz: ICICI Bank, Kotak Bank shed 2% each; Jet Airways zooms 15%', 'Jet Airways surges 15% on report of resignation of Naresh Goyal & Anita Goyal', 'Over 100 stocks hit 52-week low; realty, telecom & metal stocks biggest losers', 'Hero Motocorp touches 52-week low, sheds over 7% in 9 sessions', 'Buy or Sell | Nifty may revisit all-time high, Bank Nifty to witness consolidation', 'Karnataka Bank falls 3% on reporting fraud of Rs 13.26 cr to RBI', 'D-Street Buzz: Media stocks crack led by Zee Entertainment; REC spikes 10%', 'InterGlobe Aviation, SpiceJet rose 27% in March; should you buy, sell or hold?', 'Time Technoplast gains 3% on major order win', 'Gold is expected to trade higher today: Angel Commodities', 'James Warren Tea locked at lower circuit on buyback approval', 'ONGC, CCL Products gain on interim dividend announcement', \"'Strong resistance for Nifty at 11,560-11,590; REC, Infosys look attractive'\", 'Bharat Gears surges 5% on rights issue approval', 'IOC, BPCL gain 1-3% as consortium gets stake in Abu Dhabi Onshore Block', 'D-Street Buzz: Banks take a beating, metals drag; Arvind Fashions jumps 8%', 'Tata Motors slips 2% as co decides to hike passenger vehicles prices', 'Oleochemicals: An additive investment option', \"'Bullish momentum to continue till election outcome; use dips to buy'\", 'Top buy and sell ideas by Ashwani Gujral, Sudarshan Sukhani, Mitessh Thakkar for short term', 'Podcast | Stock picks of the day: Why you should buy Jubilant Food, Sundram Fasteners', 'Stocks in the news: TTK Prestige, Jet Airways, Max India, SBI, Bharat Gears, ONGC, Amber Enterprises'], ['Hold Kewal Kiran Clothing; target of Rs 1300: ICICI Direct', 'Buy Deepak Nitrite; target of Rs 332: CD Equisearch', 'Accumulate Dabur India; target of Rs 491: Arihant Capital', 'Jet Airways climbs 6% after lenders take control of the board, to infuse Rs 1,500 cr', 'Buy Larsen and Toubro Infotech; target of Rs 1950: ICICI Direct', 'RIL climbs 3% on acquisition of menswear brand John Players from ITC', 'Movers & Shakers: Sandhar Tech, GMR Infra, Phoenix Mills and PVR', 'HCC zooms 8% on board approval for monetisation of specified awards & claims', 'D-Street Buzz: Nifty PSU Bank surges led by SBI, RIL also up; TechM falls 2%', 'Laurus Labs jumps 4% on strategic partnership with Global Fund', 'ACC stock declines as LIC reduces stake in company', 'KNR Constructions gains 2% on order to build flyover in Tamil Nadu', 'Trident rallies 5% on receiving US patent for environment-friendly fabric', 'HCL Technologies gains on launch of ADvantage Experience platform', 'D-Street Buzz: Midcap stocks gain led by GMR Infra, PSU banks also rise', 'Lupin gains on PMDA approval for Etanercept biosimilar in Japan', 'Buy Info Edge (India); target of Rs 2100: Sharekhan', 'Buy FIEM Industries; target of Rs 800: Kotak Securities', 'Buy Talwalkars Healthclubs; target of Rs 150: CD Equisearch', 'Sell USDINR; target of 68.90 - 68.80: ICICI Direct', 'Macquarie suggests shifting focus to midcaps; 10 stocks it prefers', 'DLF rallies 8% on launch of QIP to raise over Rs 3,000 crore', 'Larsen & Toubro gains after hydrocarbon engineering division bags order', \"Here's what millennials can do to make money from equity market\", 'Kalpataru Power Transmission jumps 4% on acquisition of Swedish EPC company', 'D-Street Buzz: Oil & gas stocks gain led by IOC; Jet Airways jumps 7%', 'Top buy and sell ideas by Ashwani Gujral, Sudarshan Sukhani, Mitessh Thakkar for short term', \"Podcast | Stock picks of the day: 'Prefer private banks, energy & some infra stocks for long term'\", 'Stocks in the news: Bharti Airtel, Jet Airways, DLF, Indiabulls Real Estate, Titan, Future Retail, Grasim'], ['ICICI Prudential surges 9% after strong response to its offer for sale', 'Technical View: Nifty forms bearish candle ahead of F&O expiry, crucial support at 11,400', 'Buy Kalpataru Power; target of Rs 500: ICICI Direct', 'Strides Pharma climbs 3% after Macquarie upgrades, increases target', 'Buy Kalpataru Power Transmission; target of Rs 552: Sharekhan', 'Buy Sadbhav Engineering; target of Rs 300: Sharekhan', 'Buy Alkem Laboratories; target of Rs 2170: Motilal Oswal', 'Buy HCL Technologies; target of Rs 1070: Keynotes Financial Opiniery', 'D-Street Buzz: Nifty Energy in red dragged by HPCL, RIL; PVR jumps 3%', 'Avanti Feeds, Apex Frozen Foods plunged 40-50% in 1 year; time to buy?', 'D-Street Buzz: YES Bank jumps 6%; Asian Paints hits 52-week high', 'Tata Power gains 2% on MERC nod to supply power from its Trombay plant', 'Buy or Sell | Nifty may face hurdle around 11,572', 'IndusInd Bank hits 6-month high, rallies 7% in 2019; HSBC maintains buy', 'On the charts | Nestle India may be heading for a breakout after steep correction', 'Amber Enterprises gains 2% after analysts see 37-40% upside on Sidwal acquisition', 'Axis Bank hits 52-week high as bank plans to raise funds', 'EURINR is expected to move sideways: Angel Broking', 'Gold is expected to trade lower today: Angel Commodities', 'Frontline Securities rises nearly 6% as board approves buyback proposal', 'Alembic Pharma gains as co gets USFDA approval for Tadalafil tablets', \"How HDB financial services can add to HDFC bank's long rally\", 'Emami rises nearly 3% as Credit Suisse expects growth to pick-up in FY20', 'Nifty Bank at record high; HDFC Bank, RBL Bank hit 52-week highs', 'Voltas gains 2% as HSBC expects strong earnings growth in FY20', 'Wockhardt gains 5% on receiving clearance for a plant by Ireland regulator', 'Pidilite, L&T Finance among 5 stocks to buy ahead of March expiry', 'United Breweries jumps 6% on report of Heineken raising stake in co', 'D-Street Buzz: Bank Nifty hits all-time high, IndusInd Bank biggest gainer; media stocks surge', 'Top buy and sell ideas by Ashwani Gujral, Sudarshan Sukhani, Mitessh Thakkar for short term', 'Podcast | Stock picks of the day: Break above 11,600 could take Nifty towards 12K', 'Stocks in the news: Wockhardt, Mindtree, Jet, GMR Infra, Narayana Hrudayalaya, Sheela Foam'], ['DHFL rallies 10% on news of stake sale; company denies report', 'Bank Nifty jumps 25% in 5 months, propels Nifty higher', 'Buy MT Educare; target of Rs 137: Khambatta Securities', 'Buy Cholamandalam Finance; target of Rs 1681: HDFC Securities', 'Buy Laurus Labs; target of Rs 535: HDFC Securities', 'D-Street Buzz: Banks race ahead as ICICI Bank hits record high; Zee Ent spikes 4%', 'Hold Finolex Cables; target of Rs 535: Sharekhan', \"Brokerages initiate coverage on 11 stocks with a 'buy' for double-digit returns\", 'D-Street Buzz: Nifty Realty outshines led by DLF; Dish TV rallies, Khadim zooms 17%', 'SBI gains as Credit Suisse revises its earnings estimates', \"Here's why Anand Rathi feels Astral Poly Technik, Supreme Industries are a buy\", 'Buy or Sell | Nifty may head above 11,600; buy on dips', 'Nifty Midcap100 moves above 18,000; DHFL, Dilip Buildcon, Hexaware biggest gainers', 'TCNS Clothing falls 2% after rating downgrade, target cut by Citi', 'Infosys rises 2% as it decides to acquire controlling stake in a Dutch firm', 'Ideas for Profit | DIL: Healthy stock in the Vitamin D market; accumulate', 'Future Supply gains 4% on signing multi‐year agreement with Benetton India', 'Escorts falls 2% on Reliance Securities downgrade, cut in price target', \"Why is Kalpataru Power on brokerages' radar?\", 'Buy USDINR; target of 69.50 - 69.60: ICICI Direct', 'Godrej Properties rises 4% as CLSA maintains buy with 17% upside', 'Copper prices are expected to trade higher today: Angel Commodities', \"Dr Reddy’s declines as Credit Suisse maintains 'underperform'\", 'D-Street Buzz: IT stocks gain led by HCL Tech, Infosys; Zee Entertainment jumps 2%', 'HCL Tech rallies 3% as BofAML upgrades stock, expects 20% upside', 'A second chance for Amber Enterprises', 'Podcast | Stock picks of the day: Close above 11,500 on Nifty may negate short-term weakness', 'Top buy and sell ideas by Ashwani Gujral, Mitessh Thakkar, Prakash Gaba for short term', 'Stocks in the news: Godrej Agrovet, NBCC, Sheela Foam, Bharat Financial, Unichem Labs'], ['Markets@Moneycontrol | Bulls charge ahead', 'Buy Mastek; target of Rs 660: HDFC Securities', 'The Voda-Idea rights issue: A Rs 25,000 crore offer you might still want to think about', 'Accumulate Vinati Organics; target of Rs 1799: CD Equisearch', 'Accumulate Infosys; target of Rs 804: Prabhudas Lilladher', 'D-Street Buzz: Auto stocks rally led by Tata Motors; Indiabulls Housing jumps 4%, IndusInd Bank drags', 'Accenture reports strong Q2 earnings, guidance; Indian IT firms to benefit', 'Metal stocks shine after progressive US-China trade talks; JSPL jumps 9%', 'TTK Prestige climbs 5% after bonus issue approval', 'Mastek rallies 2% after HDFC Securities initiates coverage with buy call, sees 50% upside', 'Hold V-Guard Industries; target of Rs 250: Sharekhan', 'Buy ONGC; target of Rs 196: Motilal Oswal', 'Buy Solar Industries India; target of Rs 1088: Keynotes Financial Opiniery', 'D-Street Buzz: Midcaps rise led by JSPL; Tata Motors jumps 3%, Maruti gains', 'SBI Life Insurance falls 6% after BNP Paribas sold 5% stake via block deal', 'Gold prices are expected to trade higher today: Angel Commodities', 'Buy USDINR; target of 69.65 - 69.75: ICICI Direct', 'OMCs in focus as HSBC hikes target price for IOC, BPCL & HPCL', 'Capacite Infraprojects gains as Emkay sees 28% upside', 'Eicher Motors declines 2% on BofAML downgrade, target price cut', 'Technical picks: 15 stocks that experts are betting on for 14-70% returns in FY20', 'D-Street Buzz: Nifty Energy outperforms led by HPCL; Vodafone Idea jumps 10%, Tata Motors gains', 'PNB gains 2% on offloading stake in PNB Housing', 'Accumulate this little-known gas retail stock', 'Podcast | Stock picks of the day: Midcap stocks to play catch-up to the heavyweights', 'Top buy and sell ideas by Ashwani Gujral, Mitessh Thakkar, Prakash Gaba for short term', 'Stocks in the news: Tata Power, Tata Metaliks, Sheela Foam, Lupin, Adani Ports, Wabco India'], ['D-Street Buzz: Tata Motors ends 7% higher, RIL hits 52-week high', 'Buy Godrej Agrovet; target of Rs 610: Motilal Oswal', 'Buy Welspun Corp; target of Rs 161: Kotak Securities', 'Buy GIC Housing Finance; target of Rs 349: CD Equisearch', 'Lupin jumps 4% after launch of erectile dysfunction drug', 'Buy Or Sell | Nifty to face resistance at 11,700-11,800', 'Escorts dips 1% after March sales miss expectations', 'D-Street Buzz: Metals, PSU banks surge, Tata Steel up 4%; Zee Ent falls 2%', 'Nitesh Estates surges 16% after further reduction in debt', \"'Nifty expected to trade between 11,450 and 11,750 with positive bias'\", 'SRF tanks 8% after state pollution board shuts operations at Dahej plant', 'Bharat Electronics gains 2% as FY19 turnover grows 16%', 'BoB jumps 4% after issuing shares to Vijaya, Dena Bank shareholders', 'Bank Nifty at record high; PNB, BOB, ICICI top gainers ahead of RBI policy meet', 'Rushil Decor jumps 3% even as firm receives plant closure notice', 'Growing AC penetration in India will benefit this smallcap', \"'Marubozu candlestick suggests bullish tone in coming sessions; 11,740 crucial'\", 'Muthoot Capital gains 2% as co completes securitisation transaction', 'D-Street Buzz: PSU banks rally led by PNB; Tata Motors jumps 5%', 'Balrampur Chini Mills rises 2% as co to consider share buyback on April 5', 'GAIL, BHEL up 2-3% on signing MoU for development of solar power project', 'Zenith Fibres declines 15% on buyback approval', 'Cement stocks in focus on price hike expectations; Heidelberg Cement hits 52-week high', \"'Expect Nifty to be rangebound, April to see stock-specific rally'\", 'Tata Motors jumps 6% on expectations of improved financial results in Q4', 'CLSA expects 26% upside in Adani Ports post InnovativeB2B acquisition', 'FY20 bets: 10 stocks that offer strong fundamentals with reasonable valuations', 'Welspun Corp climbs 10% on divestment worth Rs 940 crore', 'Cipla falls 2% on 8 GMP observations for Kurkumbh plant', 'L&T gains 2% after getting gas export pipeline contract', 'CLSA sees 20% upside in Aditya Birla Fashion on hopes of robust operating growth', 'HSBC cuts price target for Vedanta, Hindustan Zinc amid lower commodity prices', 'Top buy and sell ideas by Ashwani Gujral, Sudarshan Sukhani, Mitessh Thakkar for short term', 'Podcast | Stock picks of the day: Nifty likely to consolidate in 11,600-11,200 range', 'Stocks in the News: Maruti Suzuki, Tata Motors, Cipla, Indoco Remedies, Welspun Corp, Embassy Office'], ['Abakkus Growth Fund buys stake in Shoppers Stop, SBI MF in CG Consumer', 'Airbnb - OYO deal to help both entities capitalise on shift to branded hotels', 'D-Street Buzz: IT stocks gain led by TCS; Zee Ent drags, Tata Motors most active', 'Buy Petronet LNG; target of Rs 270: Sharekhan', \"Godrej Agrovet jumps 8% as Motilal Oswal initiates coverage with 'buy'\", 'Adani Gas gains 2% on receiving Jhansi, Bilaspur contracts', 'Buy Or Sell | Trend continues to remain bullish', 'D-Street Buzz: Godrej Properties extends gains, Tata Motors spikes 5%', 'Firstsource Solutions rises 5% after rating upgrade by CARE', 'Ramco Systems gains over 3% on successful implementation of aviation suite', 'Here’s why Zee Entertainment is a ‘sell’ based on technicals', \"Cadila Healthcare gains on USFDA's tentative approval to market a drug\", 'Everest Organics climbs 18% as Tamil pollution board revokes factory closure', 'Godrej Properties rallies over 8% on record home sales in Q4', 'Tera Software hits 20% upper circuit on getting Rs 422-cr order', 'Buy USDINR; target of 69.65 - 69.75: ICICI Direct', 'Gold prices are expected to trade lower today: Angel Commodities', 'NTPC gains on capacity addition; Citi maintains buy with target Rs 153', 'Lupin gains 2% on receiving inspection report for Pithampur facility', 'Most power, bank & sugar stocks gain following SC judgment on RBI Feb 12 circular', 'Slideshow | Experts bet on these 10 fundamentally strong picks for FY20', 'D-Street Buzz: Nifty Realty outperforms led by Godrej Properties, Bharti Airtel jumps 2%', 'Should investors bet on this housing finance stock that has risen 90% in past 5 months?', 'Ashish Kacholia offloads shares of Pokarna via bulk deals', \"Podcast | Stock picks of the day: 'Utilise dips to accumulate long positions in Nifty50'\", 'Top buy and sell ideas by Ashwani Gujral, Sudarshan Sukhani, Mitessh Thakkar for short term', 'Stocks in the news: Eicher Motors, Dr Lal PathLabs, Tata Motors, Godrej Properties, PVR'], ['ICICI Prudential MF sells stake in AstraZeneca, Fidelity buys in SH Kelkar', 'Metropolis IPO review – growing diagnostic chain, invest for long term', 'Markets at lifetime highs – a time for caution or celebration?', 'Tata Motors up 27% since Feb 19, but analysts stay cautious', \"A look at the stocks with high volume trades; Airtel's 5-day average volume up 308%\", 'Volatility needs to decrease for the rally to continue: Sanctum Wealth', 'OMCs under pressure as Brent crude inching towards $70', 'D-Street Buzz: PSU banks fall led by SBI, PNB; Maruti jumps 2%, oil & gas stocks drag', 'RBI expected to cut rate in April policy, CSEC Research picks 3 stocks', 'Suzlon Energy declines 4% as CARE downgrades rating', 'Buy or Sell | Bank Nifty may witness volatility ahead of RBI policy', 'Amara Raja Batteries falls 4% after termination of agreement with Johnson Controls', 'SMC Global bets on TVS Motor, Kotak Bank & HDFC for 7-8% returns in short term', 'D-Street Buzz: Metal stocks gain with Tata Steel up 2%; BPCL down 3%, HCL Tech hits 52-week high', 'HEG gains 2% as co to increase stake in Bhilwara Energy', 'Mishra Dhatu Nigam jumps 4% on healthy orderbook', 'L&T slips on stake sale in JV', 'Tata Motors climbs 3% as JLR US sales grow sequentially', 'Eicher Motors slips 2% after Nomura rating downgrade, price target cut', 'EURINR is expected to appreciate: Angel Broking', 'Crude Palm oil prices are expected to trade positive today: Angel Commodities', 'Arvind Fashions slips 2% after analyst maintains sell with target Rs 850/share', \"Marico gains 3% as CLSA maintains 'buy' with target at Rs 465\", 'Lupin gains as USFDA completed inspection without any observations', 'D-Street Buzz: Banks gain led by BoB, IndusInd Bank; Tata Motors up 2%, Godrej Prop at new 52-week high', 'Bharat Forge declines after sharp fall in Class 8 truck orders', \"What's the trigger to watch out for in Reliance Industries?\", 'Top buy and sell ideas by Ashwani Gujral, Sudarshan Sukhani, Mitessh Thakkar for short term', 'Podcast | Stock picks of the day: Why Delta Corp & Torrent Power are a buy', 'Stocks in the news: Infosys, HEG, Lumax Auto, Karnataka Bank, Kamdhenu, Mastek, IGL'], ['Morgan Stanley sells stake in Just Dial, Fidelity buys in Hinduja Global Solutions', 'Cyient Q4 PAT seen up 15.7% QoQ to Rs. 106.6 cr: Prabhudas Lilladher', 'L&T Technology Services Q4 PAT may dip 17.5% QoQ to Rs. 153.5 cr: Prabhudas Lilladher', 'NIIT Tech Q4 PAT seen up 5% QoQ to Rs. 105.2 cr: Prabhudas Lilladher', 'Zensar Q4 PAT seen up 13.6% QoQ to Rs. 63 cr: Prabhudas Lilladher', 'Hexaware Q4 PAT seen up 17.2% QoQ to Rs. 144.7 cr: Prabhudas Lilladher', 'Mphasis Q4 PAT may dip 2.7% QoQ to Rs. 270.4 cr: Prabhudas Lilladher', 'Mindtree Q4 PAT seen up 2.4% QoQ to Rs. 195.8 cr: Prabhudas Lilladher', 'Tech Mahindra Q4 PAT may dip 10.3% QoQ to Rs. 1,078.5 cr: Prabhudas Lilladher', 'HCL Technologies Q4 PAT may dip 2.9% QoQ to Rs. 2,536.4 cr: Prabhudas Lilladher', 'Infosys Q4 PAT seen up 16.4% QoQ to Rs. 4,199.7 cr: Prabhudas Lilladher', 'TCS Q4 PAT may dip 1% QoQ to Rs. 8,024.4 cr: Prabhudas Lilladher', '3 Point Analysis | Markets at record high: What should you do?', 'Mphasis Q4 PAT may dip 3.3% QoQ to Rs. 268.8 cr: Kotak', 'Hexaware Technologies Q4 PAT seen up 18% QoQ to Rs. 145.6 cr: Kotak', 'Mindtree Q4 PAT seen up 1.9% QoQ to Rs. 194.8 cr: Kotak', 'L&T Infotech Q4 PAT seen up 0.8% QoQ to Rs. 378.2 cr: Kotak', 'Tech Mahindra Q4 PAT may dip 5.7% QoQ to Rs. 1,134.3 cr: Kotak', 'HCL Technologies Q4 PAT may dip 4.1% QoQ to Rs. 2,490.5 cr: Kotak', 'Infosys Q4 PAT may dip 1.6% QoQ to Rs. 3,863.7 cr: Kotak', 'TCS Q4 PAT may dip 1.9% QoQ to Rs. 7,948.7 cr: Kotak', 'Banks, realty stocks correct after MPC cuts repo rate by 25 bps, lowers inflation', 'D-Street Buzz: IT stocks slip with TCS down 3%; Tata Motors jumps 2%, HDFC hits 52-week high', 'Ideas for Profit | Edelweiss Financial Services: A resilient business model, buy', 'Gold prices are expected to trade higher today: Angel Commodities', 'Buy or Sell | Trade with positive bias; buy TCS, Tata Steel', 'RBI cuts repo rate: 12 rate-sensitive stocks that will benefit the most', 'D-Street Buzz: Rate sensitive stocks trade mixed post RBI Policy; Airtel gains, YES Bank falls', 'GRUH Finance rises 2% on approval for scheme of amalgamation', \"Johnson Controls' exit shakes Amara Raja stock; what should investors do?\", 'Dish TV jumps 8% on report of Singtel, Bharti Airtel acquiring firm', 'Suven Life Sciences gains 4% after securing 4 product patents', 'Godrej Properties gains 3% as co adds new luxury residential project in Mumbai', 'Wipro declines over 2% on report of likely sale of enemy shares by govt', 'SRF rises nearly 3% as Gujarat plant to resume operations', 'Sell USDINR; target of 68.68 - 68.58 : ICICI Direct', 'Rate sensitive stocks gain as RBI expected to cut repo rate by 25 bps', \"Jio's EBITDA to more than double to $5 bn by FY22: Credit Suisse\", 'D-Street Buzz: Rate sensitives trade mixed ahead of RBI Policy; Tata Motors up 1%, HCL Tech falls', 'L&T gains as hydrocarbon business wins contracts in range of Rs 1,000-2,500 cr', 'Regulatory barriers make this phosgene producer a worthy pick', 'Top buy and sell ideas by Ashwani Gujral, Sudarshan Sukhani, Mitessh Thakkar for short term', 'Buy Federal Bank; target of Rs 110: Sharekhan', 'Buy Marico; target of Rs 425: Sharekhan', 'Stocks in the news: Suven Life, Jet Airways, KPI Global, Coffee Day, RIL, GRUH Finance'], ['India Advantage Fund sold stake in Adlabs, Placid in Bharat Road Network', 'Markets@Moneycontrol | Bulls continue to rally', 'Slideshow | Super Six: Brokerage picks for 3-12 months investment horizon', 'D-Street Buzz: Tata Steel, Cipla jump 3% each; DHFL extends gains, SBI drags', 'Buy Or Sell | Market may correct in near term; buy Indiabulls Housing, Tata Motors', 'Standard Chartered says earnings & election outcome to drive market, bets on these 10 stocks', 'Titan Q4 preview: Strong quarter on the cards', 'D-Street Buzz: Metal stocks shine led by Tata Steel; DHFL jumps 7%, PSU banks drag', 'Copper prices are expected to trade higher today: Angel Commodities', 'Buy Punjab National Bank; target of Rs 110: Sharekhan', 'Buy Shree Cement; target of Rs 20,800: Sharekhan', 'Hold Amara Raja Batteries; target of Rs 630: ICICI Direct', 'Buy Titan Company; target of Rs 1195: Prabhudas Lilladher', 'Buy Titan Company; target of Rs 1300: Motilal Oswal', \"Zee Ent declines as Morgan Stanley assigns 'underweight', expects stock to be volatile\", 'EURINR is expected to appreciate: Angel Broking', 'Alembic Pharma gains on receiving EIR for Panelav formulation facility', 'Titan FY19 revenue may grow 21%, FY20 forecasts strong; what to do with stock?', 'Jyothy Labs jumps 5% after Macquarie initiates coverage with outperform call', 'Weekly Tactical Pick | Marico: Improving margin profile make us constructive', 'D-Street Buzz: Nifty Realty outperforms led by Godrej Properties; HDFC hits new 52-week high', 'Godrej Properties hits 52-week high on taking majority control in Wonder Space Properties', 'Cipla rises 2% on EIR from USFDA for Goa facility', 'Podcast | Stock picks of the day: Nifty likely to consolidate in 11,400-11,800 range', 'Top buy and sell ideas by Ashwani Gujral, Mitessh Thakkar, Prakash Gaba for short term', 'Stocks in the news: Godrej Properties, Cipla, Titan, VST Tillers, Bal Pharma, Zensar Tech'], [\"Societe Generale picks up stake in DLF, Porinju Veliyath's EQ India Fund in HPL Electric\", 'DLF declines 8% on report of block deal trade', 'Buy NIIT Technologies; target of Rs 1539: Prabhudas Lilladher', 'Gold prices are expected to trade higher today: Angel Commodities', 'Buy Gujarat Gas; target of Rs 183: Motilal Oswal', 'Varun Beverages (Consolidated) Q4 PAT seen up 25% YoY to Rs. 23.3 cr: Kotak', 'United Spirits (Standalone) Q4 PAT seen up 9.3% YoY to Rs. 204.1 cr: Kotak', 'United Breweries Q4 PAT seen up 53.9% YoY to Rs. 139.9 cr: Kotak', 'Titan Industries Q4 PAT seen up 37.2% YoY to Rs. 461.4 cr: Kotak', 'Tata Global Beverages (Consolidated) Q4 PAT seen up 25.2% YoY to Rs. 76.5 cr: Kotak', 'SH Kelkar & Company (Consolidated) Q4 PAT seen up 5.3% YoY to Rs. 22.5 cr: Kotak', 'Pidilite Industries (Consolidated) Q4 PAT seen up 11.4% YoY to Rs. 220.1 cr: Kotak', 'Page Industries Q4 PAT seen up 32.5% YoY to Rs. 124.9 cr: Kotak', 'Nestle Q4 PAT seen up 19.3% YoY to Rs. 505.9 cr: Kotak', 'Marico (Consolidated) Q4 PAT seen up 17.1% YoY to Rs. 211.4 cr: Kotak', 'Jubilant Foodworks Q4 PAT seen up 23.1% YoY to Rs. 83.8 cr: Kotak', 'Jyothy Laboratories (Standalone) Q4 PAT may dip 0.4% YoY to Rs. 60.1 cr: Kotak', 'D-Street Buzz: Tata  Motors, YES Bank shed 2% each; IT stocks in green, volatility spikes 10%', 'ITC (Standalone) Q4 PAT seen up 7.8% YoY to Rs. 3,160.4 cr: Kotak', 'HUL (Standalone) Q4 PAT seen up 21.5% YoY to Rs. 1,711.8 cr: Kotak', 'GCPL (Consolidated) Q4 PAT seen up 12.7% YoY to Rs. 477.2 cr: Kotak', 'Overweight cyclicals, financials and real estate sectors: Morgan Stanley', 'Oil marketing companies slip 1-4% as oil prices climb to 5-month high', 'Buy or Sell | Nifty likely to remain range bound; buy Tata Motors, Mindtree', 'GSK Consumer Q4 PAT seen up 15.7% YoY to Rs. 245.1 cr: Kotak', 'Dabur (Consolidated) Q4 PAT seen up 14.1% YoY to Rs. 451.9 cr: Kotak', 'Colgate Q4 PAT seen up 11.2% YoY to Rs. 198.8 cr: Kotak', 'Britannia Industries (Consolidated) Q4 PAT seen up 19.9% YoY to Rs. 316 cr: Kotak', 'Bajaj Consumer Care Q4 PAT seen up 8.4% YoY to Rs. 60.1 cr: Kotak', 'Asian Paints (Consolidated) Q4 PAT seen up 37.5% YoY to Rs. 661.3 cr: Kotak', \"'As long as Nifty is above 11,520, can trade with buy on dip strategy'\", 'D-Street Buzz: DLF tanks 6% as Nifty Realty underperforms; PSU banks gain, NIIT zooms 17%', 'Ideas for Profit: Which footwear stocks offer you the best comfort?', 'Yes Bank Q4 Net Profit may dip 27.7% YoY to Rs. 853.2 cr: Kotak', 'State Bank of India Q4 Net Profit seen up 70.9% QoQ to Rs. 6,759.4 cr: Kotak', 'Shriram Transport Q4 Net Profit seen up 337.3% YoY to Rs. 632.3 cr: Kotak', 'RBL Bank Q4 Net Profit seen up 42.7% YoY to Rs. 254.2 cr: Kotak', 'PNB Housing Finance Q4 Net Profit may dip 6.7% YoY to Rs. 204.3 cr: Kotak', 'Muthoot Finance Q4 Net Profit seen up 0.6% YoY to Rs. 454.1 cr: Kotak', 'Magma Fincorp Q4 Net Profit seen up 18.7% YoY to Rs. 84.8 cr: Kotak', 'Mahindra & Mahindra Financial Q4 Net Profit may dip 10.9% YoY to Rs. 378.3 cr: Kotak', 'Cadila Healthcare gains on tentative approvals from USFDA', 'UltraTech Cement erases early gains; CLSA upgrades stock to buy', 'LIC Housing Finance Q4 Net Profit seen up 6.2% YoY to Rs. 572.6 cr: Kotak', 'Karur Vysya Bank Q4 Net Profit may dip 97.1% YoY to Rs. 1.4 cr: Kotak', 'J&K Bank Q4 Net Profit seen up 211.3% YoY to Rs. 88.4 cr: Kotak', 'Indusind Bank Q4 Net Profit may dip 37.1% YoY to Rs. 599.5 cr: Kotak', 'ICICI Bank Q4 Net Profit seen up 179.6% YoY to Rs. 2,851.7 cr: Kotak', 'Caplin Point gains 3% as arm enters into license and supply agreement with Baxter', 'HDFC Bank Q4 Net Profit seen up 20.5% YoY to Rs. 5,784.6 cr: Kotak', 'Kernex Micro gains 5% despite receiving notice for tax non-payment', 'HDFC Q4 Net Profit may dip 3.8% YoY to Rs. 2,739.3 cr: Kotak', 'Federal Bank Q4 Net Profit seen up 135% YoY to Rs. 340.7 cr: Kotak', 'Equitas Holdings Q4 Net Profit seen up 109.2% YoY to Rs. 73.1 cr: Kotak', 'DCB Bank Q4 Net Profit seen up 34.1% YoY to Rs. 86.1 cr: Kotak', 'Algo trading: Here are five steps to set up your own algorithm', 'NIIT Tech loses 3% after promoters offload stake, NIIT locked in 20% upper circuit', 'City Union Bank Q4 Net Profit seen up 18% YoY to Rs. 179.5 cr: Kotak', 'NBCC rises 4% as Citi maintains buy given large order book', 'Cholamandalam Q4 Net Profit seen up 2.8% YoY to Rs. 299.1 cr: Kotak', 'Bank of Baroda Q4 Net Profit may increase 209% QoQ to Rs 1,455.9 cr: Kotak', 'Bajaj Finance Q4 Net Profit seen up 42.4% YoY to Rs. 1,026.3 cr: Kotak', 'Axis Bank Q4 Net Profit may dip 5.5% QoQ to Rs. 1,588.1 cr: Kotak', 'Buy USDINR; target of 69.65 - 69.75 : ICICI Direct', 'Buy Deepak Nitrite with a target of Rs 346: Anand Rathi', 'Sun Pharma gains on launch of ready-to-infuse Infugem in US', 'Buy Hindustan Unilever, target Rs 2,250: Anand Rathi', 'Buy ICICI Lombard with target at Rs 1,210: Anand Rathi', 'L&T Infotech Q4 PAT may dip 3% QoQ to Rs. 364.3 cr: Prabhudas Lilladher', 'Persistent Q4 PAT seen up 17.4% QoQ to Rs. 107.8 cr: Prabhudas Lilladher', 'D-Street Buzz: Oil & gas stocks slide led by BPCL, HPCL; DLF down 3%, HDFC at new 52-week high', 'Torrent Pharmaceuticals slips as USFDA issues observations for Dahej plant', 'Indiabulls Housing eyes a banking licence via merger with Lakshmi Vilas Bank: Here’s what investors should do', \"'Expect Nifty to remain rangebound, stay stock specific'\", 'Top buy and sell ideas by Ashwani Gujral, Sudarshan Sukhani, Mitessh Thakkar for short term', \"Podcast | Stock picks of the day: Here's why Tata Steel and Ultratech Cement are a buy\", \"Why Reliance Retail's e-commerce foray is crucial for a re-rating in Reliance Industries' stock\", 'Stocks in the news: NIIT Tech, Lakshmi Vilas Bank, HPL Electric, Muthoot Finance, Torrent Pharma'], ['GMO Emerging Illiquid Mauritius Fund sells shares in MEP Infra, IFCI in Zee News', 'Accumulate Siemens; target of Rs 1221: Prabhudas Lilladher', 'Buy Dilip Buildcon; target of Rs 833: HDFC Securities', 'ICICI Prudential Life Q4 Net Profit may dip 21% YoY to Rs. 269.2 cr: Motilal Oswal', 'HDFC Standard Life Q4 Net Profit seen up 16.6% YoY to Rs. 404.4 cr: Motilal Oswal', 'State Bank of India Q4 Net Profit may dip 7.7% QoQ to Rs. 3,649.8 cr: Motilal Oswal', 'Punjab National Bank Q4 Net Profit seen up 78.5% QoQ to Rs. 440 cr: Motilal Oswal', 'Buy Hindustan Unilever, target Rs 1,923: Akash Jain', 'Indian Bank Q4 Net Profit seen up 37% YoY to Rs. 180.8 cr: Motilal Oswal', 'Bank of Baroda Q4 Net Profit seen up 39.4% QoQ to Rs. 656.7 cr: Motilal Oswal', 'Yes Bank Q4 Net Profit may dip 17.7% YoY to Rs. 970.9 cr: Motilal Oswal', 'Buy L&T Finance Holdings, target Rs 180: Akash Jain', 'RBL Bank Q4 Net Profit seen up 34.7% YoY to Rs. 240 cr: Motilal Oswal', 'Kotak Mahindra Bank Q4 Net Profit seen up 23.5% YoY to Rs. 1,388 cr: Motilal Oswal', 'Indusind Bank Q4 Net Profit may dip 44.8% YoY to Rs. 526.1 cr: Motilal Oswal', 'ICICI Bank Q4 Net Profit seen up 112% YoY to Rs. 2,162.8 cr: Motilal Oswal', 'HDFC Bank Q4 Net Profit seen up 20.9% YoY to Rs. 5,803.3 cr: Motilal Oswal', 'Federal Bank Q4 Net Profit seen up 143.2% YoY to Rs. 352.6 cr: Motilal Oswal', 'Equitas Holdings Q4 Net Profit seen up 102.4% YoY to Rs. 70.5 cr: Motilal Oswal', 'Opto Circuits falls 2% as co enters into one time settlement with Yes Bank', 'DCB Bank Q4 Net Profit seen up 44.5% YoY to Rs. 92.8 cr: Motilal Oswal', 'Paint, tyre stocks under pressure as crude price crosses $71/bbl mark', 'D-Street Buzz: Banks gain led by YES Bank, ICICI Bank; HDFC hits fresh 52-week high', 'Axis Bank Q4 Net Profit may dip 9.7% QoQ to Rs. 1518.5 cr: Motilal Oswal', 'AU Small Finance Bank Q4 Net Profit seen up 27.1% YoY to Rs. 105.5 cr: Motilal Oswal', 'J Kumar Infra slips nearly 2% on cancellation of work order', 'Morgan Stanley lists 22 companies that are likely to report strong earnings over 2 years', 'Tech Mahindra gains on approval to acquire 18% in 2 cos', 'EURINR is expected to depreciate: Angel Broking', 'Buy MOIL; target of Rs 200: Kotak Securities', 'Crude Oil prices are expected to trade higher today: Angel Commodities', 'Indiabulls Housing Finance falls 3% on report of realty biz exit', 'Slideshow | These 9 stocks could fetch 9-27% return in short to medium term', 'D-Street Buzz: IT stocks gain led by Wipro, HCL Tech; Bharti Airtel down 2%, YES Bank gains', \"'Stay bullish on Nifty as a close above 11,761 could take it towards 12,000'\", 'Sobha gains 2% on robust sales, CLSA sees 26% upside', 'JSW Steel slips on weak crude steel production in Q4FY19', 'Prabhat Telecoms hits 52-week high on signing distributor agreement', 'CLSA downgrades Asian Paints to sell; stock declines 2%', \"Container Corporation dips 2% after HSBC retains 'reduce' call\", 'D-Street Buzz: Nifty IT outperforms, Infosys hits new 52-week high; RIL gains', 'Voltas gains as co enters into distribution agreement with Japanese firm', 'Endurance Tech: A premium bet!', 'Top buy and sell ideas by Ashwani Gujral, Sudarshan Sukhani, Mitessh Thakkar for short term', \"Podcast | Stock picks of the day: 'Nifty likely to consolidate in 11,450-11,800 range'\", 'Stocks in the news: Panacea Biotec, Bharti Airtel, Fortis, Voltas, Asian Paints, Majesco, Coffee Day'], ['Wabco India Q4 PAT may dip 2.2% YoY to Rs. 75.5 cr: Prabhudas Lilladher', 'TVS Motors Q4 PAT may dip 3.3% YoY to Rs. 160.1 cr: Prabhudas Lilladher', 'Motherson Sumi Systems Q4 PAT seen up 63.4% YoY to Rs. 880.5 cr: Prabhudas Lilladher', 'Maruti Suzuki Q4 PAT may dip 11% YoY to Rs. 1,674.4 cr: Prabhudas Lilladher', 'Mahindra & Mahindra Q4 PAT may dip 22.1% YoY to Rs. 787.4 cr: Prabhudas Lilladher', 'Hero Motocorp Q4 PAT may dip 25.3% YoY to Rs. 722.8 cr: Prabhudas Lilladher', 'Exide Industries Q4 PAT seen up 6% YoY to Rs. 200.9 cr: Prabhudas Lilladher', 'Eicher Motors Q4 PAT may dip 17.5% YoY to Rs. 535.1 cr: Prabhudas Lilladher', 'CEAT Q4 PAT may dip 29.4% YoY to Rs. 71.4 cr: Prabhudas Lilladher', 'Bajaj Auto Q4 PAT may dip 2.9% YoY to Rs. 1,048.4 cr: Prabhudas Lilladher', 'Bharat Forge Q4 PAT seen up 168.8% YoY to Rs. 269.7 cr: Prabhudas Lilladher', 'Ashok Leyland Q4 PAT may dip 0.9% YoY to Rs. 655.6 cr: Prabhudas Lilladher', 'Mahanagar Gas Q4 PAT seen up 41% YoY to Rs. 147.4 cr: Kotak', 'Indraprastha Gas Q4 PAT seen up 9% YoY to Rs. 206.3 cr: Kotak', 'Petronet LNG Q4 PAT seen up 9% YoY to Rs. 571.1 cr: Kotak', 'GSPL Q4 PAT seen up 28% YoY to Rs. 202.2 cr: Kotak', 'GAIL (India) Q4 PAT seen up 45% YoY to Rs. 1,483.8 cr: Kotak', 'Oil India Q4 PAT may dip 46% YoY to Rs. 467.1 cr: Kotak', 'ONGC Q4 PAT may dip 19% YoY to Rs. 4,774.1 cr: Kotak', 'Castrol India Q4 PAT seen up 27% YoY to Rs. 230 cr: Kotak', 'IOCL Q4 PAT seen up 46% YoY to Rs. 7,621.9 cr: Kotak', 'HPCL Q4 PAT seen up 74% YoY to Rs. 3,034.2 cr: Kotak', 'BPCL Q4 PAT seen up 45% YoY to Rs. 3,883.6 cr: Kotak', 'Reliance industries (Consolidated) Q4 PAT seen up 10% YoY to Rs. 10,338 cr: Kotak', 'Reliance industries (Standalone) Q4 PAT may dip 1% YoY to Rs. 8,616 cr: Kotak', 'Bajaj Consumer Care seeing strong rural growth, accumulate', 'Tata Motors jumps 5% after March global wholesales surge 32% MoM, FADA comments', 'RSWM gains nearly 4% as co to sell its stake in associate company', 'D-Street Buzz: Bank Nifty in red as HDFC Bank falls 2%; TCS top IT loser, Tata Motors surges', 'Brokerages are betting on these 15 mid & smallcap stocks for double-digit returns', 'Buy or Sell | Crucial level for Nifty at 11,550; buy IGL, Siemens', 'D-Street Buzz: Tata Motors jumps 4%; HDFC Bank drags, volatility spikes 3%', 'Further increase in volatility to cap gains in Nifty: Ashish Chaturmohta', 'Gold prices are expected to trade higher today: Angel Commodities', 'Info Edge India rises 2% on investing Rs 6 crore in Bizcrum Infotech', \"Aavas Financiers' performance makes it an outlier in a troubled housing finance space, buy on dips\", 'Mindtree gains as board to consider special dividend on April 17', 'Panacea Biotec slips 3% after one-time settlement with consortium lenders', 'Usha Martin gains 6% as Tata Sponge completes acquisition of steel biz', 'Century Plyboards falls 4% on CLSA downgrade, cut in price target', 'Hindalco Industries falls nearly 3% as operations suspended at Jharkhand plant', 'D-Street Buzz: Realty stocks shine led by Indiabulls Real Estate; Cipla jumps 2%, HDFC Bank most active', 'HSBC retains buy on Reliance Industries, expects strong growth in grocery business', 'Top buy and sell ideas by Ashwani Gujral, Sudarshan Sukhani, Mitessh Thakkar for short term', 'Podcast | Stock picks of the day: Why Maruti, PVR & Marico are good short-term buys', 'Stocks in the news: SBI, Lakshmi Vilas Bank, Praj Ind, Avenue Supermarts, Info Edge'], ['Cox & Kings Financial Service locked at lower circuit on first day of trade', 'IT index falls for second straight day as TCS, Infosys extend losses on caution ahead of Q4 earnings', 'Zee Media Corporation (Standalone) Q4 PAT seen up 12.7% YoY to Rs. 16.2 cr: Prabhudas Lilladher', 'Music Broadcast Q4 PAT seen up 5.4% YoY to Rs. 17.1 cr: Prabhudas Lilladher', 'Entertainment Network (India) Q4 PAT seen up 46.6% YoY to Rs. 17.2 cr: Prabhudas Lilladher', 'UltraTech Cement Q4 PAT seen up 28.7% YoY to Rs. 813.1 cr: Prabhudas Lilladher', 'The Ramco Cement Q4 PAT may dip 12.4% YoY to Rs. 120.4 cr: Prabhudas Lilladher', 'Buy Titan Company; target of Rs 1290: ICICI Direct', 'Hold Zee Entertainment; target of Rs 410: ICICI Direct', 'Buy Laurus Labs; target of Rs 470: Motilal Oswal', 'Shree Cement Q4 PAT may dip 2.4% YoY to Rs. 389.6 cr: Prabhudas Lilladher', 'JK Lakshmi Cement Q4 PAT seen up 6.3% YoY to Rs. 36 cr: Prabhudas Lilladher', 'Heidelberg Cement Q4 PAT seen up 21.9% YoY to Rs. 63.5 cr: Prabhudas Lilladher', 'Ambuja Cement Q1 PAT seen up 14.8% YoY to Rs. 312 cr: Prabhudas Lilladher', 'ACC Q1 PAT seen up 24.6% YoY to Rs. 312 cr: Prabhudas Lilladher', 'Voltamp Transformers Q4 PAT seen up 27.5% YoY to Rs. 25.6 cr: Prabhudas Lilladher', 'Triveni Turbine Q4 PAT may dip 1.6% YoY to Rs. 34.8 cr: Prabhudas Lilladher', 'Thermax Q4 PAT seen up 15.8% YoY to Rs. 87.7 cr: Prabhudas Lilladher', 'Siemens Q4 PAT seen up 29.4% YoY to Rs. 284.3 cr: Prabhudas Lilladher', 'Accumulate Dilip Buildcon; target of Rs 692: Dolat Capital', 'Power Grid Corporation of India Q4 PAT seen up 47.1% YoY to Rs. 2,948.8 cr: Prabhudas Lilladher', 'Larsen & Toubro Q4 PAT may dip 16% YoY to Rs. 2,660.5 cr: Prabhudas Lilladher', 'Kalpataru Power Transmission Q4 PAT seen up 23.1% YoY to Rs. 129 cr: Prabhudas Lilladher', 'D-Street Buzz: Nifty FMCG in green led by HUL; oil & gas stocks gain, DHFL jumps 3%', 'Cummins India Q4 PAT seen up 28.8% YoY to Rs. 207.6 cr: Prabhudas Lilladher', 'KEC International Q4 PAT seen up 14% YoY to Rs. 223.7 cr: Prabhudas Lilladher', 'GE T&D India Q4 PAT seen up 10.9% YoY to Rs. 30.8 cr: Prabhudas Lilladher', 'Engineers India Q4 PAT seen up 41.2% YoY to Rs. 97.3 cr: Prabhudas Lilladher', 'BHEL Q4 PAT seen up 38.6% YoY to Rs. 633.4 cr: Prabhudas Lilladher', 'Bharat Electronics Q4 PAT may dip 20% YoY to Rs. 446.9 cr: Prabhudas Lilladher', 'Apar Industries Q4 PAT seen up 7.4% YoY to Rs. 43 cr: Prabhudas Lilladher', 'ABB Q4 PAT seen up 12.9% YoY to Rs. 115.7 cr: Prabhudas Lilladher', 'Time to go on a ride: Tata Motors, TVS Motor among auto stocks with over 20% upside', 'Slideshow | These six stocks could give 15-71% return in medium term', 'Accumulate Bajaj Consumer Care; target of Rs 359: Dolat Capital', 'Soybean prices to trade sideways to negative: Angel Commodities', 'D-Street Buzz: Nifty Metal underperforms dragged by JSPL; Vedanta falls 3%, Tata Motors most active', 'Buy or Sell | Expect further upside in Nifty; buy BoB, Maruti', 'Expect strong Q4 earnings for cement sector on price hike, better demand', 'Sell USDINR; target of 69.25 - 69.15 : ICICI Direct', 'Wipro gains as board to consider buyback on April 16', 'L&T gains on acquiring entire stake in subsidiary', 'Spicejet Q4 PAT seen up 183.1% YoY to Rs. 130.6 cr: Prabhudas Lilladher', 'InterGlobe Aviation Q4 PAT seen up 189.9% YoY to Rs. 341.1 cr: Prabhudas Lilladher', \"'IT majors to post strong revenue growth, but margins may falter'\", 'Bharti Airtel gains 2% as co fixed record date for right issue', 'Lok Sabha polling begins: 15 election-safe stocks to beat market volatility', 'NBCC rises 2% on orders win worth Rs 3,030 crore in March', 'D-Street Buzz: Realty stocks gain led by Indiabulls Real Estate; Bharti Airtel rises, Infosys drags', 'Wockhardt gains 3% on USFDA approval for cancer drug', \"Podcast | Stock picks of the day: 'If Nifty goes below 11,530 downward move could continue'\", 'Top buy and sell ideas by Ashwani Gujral, Sudarshan Sukhani, Mitessh Thakkar for short term', 'Stocks in the news: Wipro, TCS, NBCC, Wockhardt, Jet Airways, Info Edge, Welspun Corp'], ['Markets@Moneycontrol │ Markets consolidate', 'The Market Podcast | Stocks cool as poll fever heats up, macro news not promising', 'Buy Tata Steel; target of Rs 625: ICICI Direct', 'Accumulate PNB Housing Finance; target of Rs 998: Arihant Capital', 'Adani Power jumps 5% after CERC approves higher tariff for Mundra unit', 'Va Tech Wabag Q4 PAT seen up 8.5% YoY to Rs. 67.8 cr: ICICI Direct', 'Timken India Q4 PAT seen up 11.7% YoY to Rs. 26.5 cr: ICICI Direct', 'Thermax Q4 PAT seen up 20.3% YoY to Rs. 121.1 cr: ICICI Direct', 'SKF India Q4 PAT seen up 14.5% YoY to Rs. 81.9 cr: ICICI Direct', 'NRB Bearings Q4 PAT seen up 9.4% YoY to Rs. 28.8 cr: ICICI Direct', 'L&T Q4 PAT seen up 24.5% YoY to Rs. 2,866.5 cr: ICICI Direct', 'KSB Pumps Q4 PAT seen up 3.6% YoY to Rs. 11.6 cr: ICICI Direct', 'KEC International Q4 PAT seen up 5.5% YoY to Rs. 207.1 cr: ICICI Direct', 'Kalpataru Power Q4 PAT seen up 31.4% YoY to Rs. 137.7 cr: ICICI Direct', 'Grindwell Norton Q4 PAT seen up 1.4% YoY to Rs. 44.6 cr: ICICI Direct', 'Elgi Equipments Q4 PAT seen up 16.6% YoY to Rs. 31.6 cr: ICICI Direct', \"Movers & Shakers: Mahindra Lifespace tops the charts, ITC's 5-day average volume jumps 300%\", 'Greaves Cotton Q4 PAT seen up 8% YoY to Rs. 51.6 cr: ICICI Direct', 'Engineers India Q4 PAT seen up 14.1% YoY to Rs. 78.7 cr: ICICI Direct', 'Cochin Shipyard Q4 PAT seen up 8.7% YoY to Rs. 99.6 cr: ICICI Direct', 'BHEL Q4 PAT may dip 7.4% YoY to Rs. 423.2 cr: ICICI Direct', 'Bharat Electronics Q4 PAT may dip 38.8% YoY to Rs. 342.1 cr: ICICI Direct', 'Ideas for Profit | Giant size makes GIC Re a safe bet in the risk business; buy for the long term', 'Motherson Sumi Systems slips as HSBC cuts price target', 'AIA Engineering Q4 PAT may dip 5.8% YoY to Rs. 143.1 cr: ICICI Direct', 'D-Street Buzz: ITC, Maruti jump 2% each, push market higher; PC Jeweller zooms 15%', 'Greenply Industries Q4 PAT may dip 14.5% YoY to Rs. 27.9 cr: ICICI Direct', 'Century Plyboards Q4 PAT seen up 20.4% YoY to Rs. 43 cr: ICICI Direct', 'Somany Ceramics Q4 PAT may dip 41.3% YoY to Rs. 17 cr: ICICI Direct', 'Kajaria Ceramics Q4 PAT seen up 21.2% YoY to Rs. 79.9 cr: ICICI Direct', 'Bajaj Consumer Care climbs 3% as promoter releases pledge on 5.5% equity', 'Thyrocare Technologies Q4 PAT seen up 18.1% YoY to Rs. 29.7 cr: Prabhudas Lilladher', 'Sun Pharma Q4 PAT may dip 36.1% YoY to Rs. 837 cr: Prabhudas Lilladher', 'Lupin Q4 PAT may dip 62.8% YoY to Rs. 253.2 cr: Prabhudas Lilladher', 'Jubilant Life Sciences Q4 PAT seen up 36.3% YoY to Rs. 211.2 cr: Prabhudas Lilladher', 'IPCA Laboratories Q4 PAT seen up 106.1% YoY to Rs. 105.8 cr: Prabhudas Lilladher', 'Lemon Tree Hotels gains 3% as CLSA maintains buy, sees 14% upside', 'Glenmark Pharmaceuticals Q4 PAT seen up 30% YoY to Rs. 196.4 cr: Prabhudas Lilladher', 'Eris Lifesciences Q4 PAT seen up 15.1% YoY to Rs. 64.2 cr: Prabhudas Lilladher', 'Dr. Reddy’s Laboratories Q4 PAT seen up 88.4% YoY to Rs. 512.7 cr: Prabhudas Lilladher', 'Dr. Lal Pathlabs Q4 PAT seen up 26.2% YoY to Rs. 50.6 cr: Prabhudas Lilladher', 'Cipla Q4 PAT seen up 58.5% YoY to Rs. 283.1 cr: Prabhudas Lilladher', 'Cadila Healthcare Q4 PAT may dip 28.9% YoY to Rs. 419.9 cr: Prabhudas Lilladher', 'Aurobindo Pharma Q4 PAT seen up 18.2% YoY to Rs. 624.9 cr: Prabhudas Lilladher', 'D-Street Buzz: Nifty FMCG in green led by ITC; RIL most active, 63 Moons zooms 20%', 'Reliance Industries Q4 PAT may dip 2.5% YoY to Rs. 8,478.5 cr: Prabhudas Lilladher', 'Petronet LNG Q4 PAT seen up 4.7% YoY to Rs. 547.1 cr: Prabhudas Lilladher', 'ONGC Q4 PAT may dip 12.7% YoY to Rs. 5,163.7 cr: Prabhudas Lilladher', 'Oil India Q4 PAT may dip 33.1% YoY to Rs. 579.9 cr: Prabhudas Lilladher', 'NOCIL Q4 PAT may dip 14.8% YoY to Rs. 43.4 cr: Prabhudas Lilladher', 'Mahanagar Gas Q4 PAT seen up 48.3% YoY to Rs. 155.4 cr: Prabhudas Lilladher', 'Indian Oil Corporation Q4 PAT seen up 0.9% YoY to Rs. 5,265.3 cr: Prabhudas Lilladher', 'EURINR is expected to appreciate: Angel Broking', 'Lupin gains 2% as co launches Testosterone gel in US', 'I.G. Petrochemicals Q4 PAT may dip 10.3% YoY to Rs. 30 cr: Prabhudas Lilladher', 'Indraprastha Gas Q4 PAT seen up 22.2% YoY to Rs. 213.5 cr: Prabhudas Lilladher', 'Avenue Supermarts falls as Morgan Stanley sees 24% downside', 'HPCL Q4 PAT seen up 81.6% YoY to Rs. 3,173.5 cr: Prabhudas Lilladher', 'GAIL (India) Q4 PAT seen up 49.5% YoY to Rs. 1,484.7 cr: Prabhudas Lilladher', 'BPCL Q4 PAT seen up 25.9% YoY to Rs. 3,365.6 cr: Prabhudas Lilladher', 'April buys: Sobha, HDFC AMC among 10 stocks that brokerages are betting on', 'Tata Steel (Consolidated) Q4 PAT may dip 31.4% YoY to Rs. 2,415.6 cr: Prabhudas Lilladher', 'Tata Steel Q4 PAT seen up 7.1% YoY to Rs. 2,115.8 cr: Prabhudas Lilladher', 'Steel Authority of India Q4 PAT seen up 70.8% YoY to Rs. 748.2 cr: Prabhudas Lilladher', 'NMDC Q4 PAT may dip 13.4% YoY to Rs. 958.3 cr: Prabhudas Lilladher', 'JSW Steel Q4 PAT may dip 22.1% YoY to Rs. 1706.2 cr: Prabhudas Lilladher', 'Jindal Steel & Power Q4 PAT may dip 99.2% YoY to Rs. 1.1 cr: Prabhudas Lilladher', 'Hindustan Zinc Q4 PAT may dip 21.3% YoY to Rs. 2,001 cr: Prabhudas Lilladher', 'D-Street Buzz: IT stocks gain led by Wipro; Tata Motors dargs, Infosys most active', 'Hindalco Industries Q4 PAT may dip 44.7% YoY to Rs. 208.4 cr: Prabhudas Lilladher', 'Coal India Q4 PAT seen up 364.1% YoY to Rs. 6,006.5 cr: Prabhudas Lilladher', 'Weekly Tactical Pick: Jyothy Laboratories', 'Lumax Auto Technologies rises 5% on JV with German company', 'Why investors in private banks should stay invested despite their outperformance?', 'Top buy and sell ideas by Ashwani Gujral, Mitessh Thakkar, Prakash Gaba for short term', \"Podcast | Stock picks of the day: 'Rise in VIX indicates limited upside in market'\", 'Stocks in the news: TCS, Infosys, Jet Airways, Prabhat Dairy, Lumax Auto, Sterlite Tech'], ['Bright Star Investments, Smaller Cap World Fund pick up stake in Metropolis Healthcare', 'Himadri Speciality Chemicals Q4 PAT seen up 6% YoY to Rs. 75.5 cr: ICICI Direct', 'Dredging Corporation Q4 PAT may dip 20.6% YoY to Rs. 13.6 cr: ICICI Direct', 'Cox & Kings Q4 PAT seen up 448.9% YoY to Rs. 7.4 cr: ICICI Direct', 'Tata Steel Q4 PAT may dip 51.2% YoY to Rs. 1,617.6 cr: ICICI Direct', 'Vedanta Q4 PAT may dip 77% YoY to Rs. 1,106.4 cr: ICICI Direct', 'NMDC Q4 PAT seen up 31.7% YoY to Rs. 1,456.8 cr: ICICI Direct', 'JSW Steel Q4 PAT may dip 51% YoY to Rs. 1,402.8 cr: ICICI Direct', 'Ratnamani Metals & Tubes Q4 PAT seen up 14.5% YoY to Rs. 64.4 cr: ICICI Direct', 'Hindalco Q4 PAT may dip 3.6% YoY to Rs. 593.8 cr: ICICI Direct', 'HEG Q4 PAT may dip 30% YoY to Rs. 444 cr: ICICI Direct', 'Graphite India Q4 PAT seen up 17.5% YoY to Rs. 533.1 cr: ICICI Direct', 'Transport Corp Q4 PAT may dip 5.4% YoY to Rs. 30.9 cr: ICICI Direct', 'TCI Express Q4 PAT seen up 4.8% YoY to Rs. 18.7 cr: ICICI Direct', 'Gujarat Pipavav Q4 PAT seen up 9.8% YoY to Rs. 53.3 cr: ICICI Direct', 'Container Corporation Q4 PAT may dip 2.3% YoY to Rs. 286.8 cr: ICICI Direct', 'Metropolis Healthcare lists at Rs 960: What should investors do now?', 'Buy Tata Consultancy Services; target of Rs 2400: Sharekhan', 'Buy Infosys; target of Rs 840: Sharekhan', 'Accumulate TCS; target of Rs 2225: Dolat Capital', 'Tata Motors top auto gainer, ends 7% higher; 34% upside expected', 'Accumulate Infosys; target of Rs 782: Prabhudas Lilladher', 'Blue Dart Q4 PAT may dip 33.9% YoY to Rs. 22.6 cr: ICICI Direct', 'Sell Infosys; target of Rs 700: Dolat Capital', 'Zee Enterprises Q4 PAT seen up 35.6% YoY to Rs. 313.2 cr: ICICI Direct', 'TV Today Q4 PAT seen up 9.5% YoY to Rs. 35.7 cr: ICICI Direct', 'Buy Tata Consultancy Services; target of Rs 2312: Prabhudas Lilladher', 'Sun TV Q4 PAT seen up 15.4% YoY to Rs. 334.4 cr: ICICI Direct', 'PVR Q4 PAT seen up 77.8% YoY to Rs. 46.6 cr: ICICI Direct', 'Inox Leisure Q4 PAT may dip 33.1% YoY to Rs. 38.6 cr: ICICI Direct', 'Entertainment Network Q4 PAT seen up 41.8% YoY to Rs. 16.8 cr: ICICI Direct', 'DB Corp Q4 PAT may dip 13.2% YoY to Rs. 49.6 cr: ICICI Direct', 'Taj GVK Hotels Q4 PAT seen up 18.6% YoY to Rs. 11.3 cr: ICICI Direct', 'Indian Hotel Q4 PAT seen up 74.5% YoY to Rs. 132 cr: ICICI Direct', 'EIH Q4 PAT seen up 46% YoY to Rs. 81.9 cr: ICICI Direct', 'D-Street Buzz: TCS jumps 4%, Tata Motors extends gains; PC Jeweller zooms 15%', \"'Nifty is likely to swing between 11,540-11,760; opportunities in selective stocks'\", 'VST Industries Q4 PAT seen up 16.8% YoY to Rs. 56.4 cr: ICICI Direct', 'Varun Beverages Q4 PAT seen up 25.1% YoY to Rs. 24.7 cr: ICICI Direct', 'Tata Global Beverages Q4 PAT seen up 22% YoY to Rs. 87.3 cr: ICICI Direct', 'Nestle India Q4 PAT may dip 5.8% YoY to Rs. 399.3 cr: ICICI Direct', 'Marico Q4 PAT seen up 15.8% YoY to Rs. 212.2 cr: ICICI Direct', 'Jyothy Laboratories Q4 PAT may dip 7.4% YoY to Rs. 55.9 cr: ICICI Direct', 'ITC Q4 PAT seen up 10% YoY to Rs. 3,226.5 cr: ICICI Direct', 'HUL Q4 PAT seen up 7.5% YoY to Rs. 1,452.4 cr: ICICI Direct', 'D-Street Buzz: Nifty Metal outshines led by Tata Steel; TCS jumps 3%, Infosys top loser', 'GSK Consumer Q4 PAT seen up 10.1% YoY to Rs. 233.1 cr: ICICI Direct', 'Dabur India Q4 PAT may dip 2.5% YoY to Rs. 387.1 cr: ICICI Direct', 'Colgate Palmolive Q4 PAT seen up 10.2% YoY to Rs. 208 cr: ICICI Direct', 'Upbeat on IT, private banks and pharma: Saurabh Mukherjea', 'Time Technoplast Q4 PAT may dip 0.1% YoY to Rs. 55.7 cr: ICICI Direct', 'Buy or Sell | Positive on market, stay stock specific', 'Voltas Q4 PAT may dip 15.6% YoY to Rs. 163.8 cr: ICICI Direct', \"'Nifty must sustain above 11,670 for upside move'\", 'V-Guard Industries Q4 PAT seen up 0.8% YoY to Rs. 27.8 cr: ICICI Direct', 'Supreme Industries Q4 PAT may dip 9.9% YoY to Rs. 161.4 cr: ICICI Direct', 'Pidilite Industries Q4 PAT seen up 16.3% YoY to Rs. 287.8 cr: ICICI Direct', \"Dr Reddy's falls despite ANDA portfolio acquisition in US; Nomura sees 22% upside\", 'Kansai Nerolac Q4 PAT may dip 6.7% YoY to Rs. 98.7 cr: ICICI Direct', 'Havells Q4 PAT seen up 0.1% YoY to Rs. 225.9 cr: ICICI Direct', 'Essel Propack Q4 PAT seen up 10.8% YoY to Rs. 50.4 cr: ICICI Direct', 'Bajaj Electricals Q4 PAT seen up 637.3% YoY to Rs. 53.9 cr: ICICI Direct', 'Astral Poly Technik Q4 PAT seen up 8.5% YoY to Rs. 70.9 cr: ICICI Direct', 'Asian Paints Q4 PAT seen up 26.9% YoY to Rs. 629.3 cr: ICICI Direct', 'Pennar Industries rises 4% as co to increase hydraulic cylinders capacity', 'UltraTech Cement Q4 PAT seen up 25.7% YoY to Rs. 613.5 cr: ICICI Direct', 'Star Cement Q4 PAT may dip 12.2% YoY to Rs. 94.7 cr: ICICI Direct', 'Cotton prices to trade sideways to lower: Angel Commodities', 'Shree Cement Q4 PAT seen up 15.6% YoY to Rs. 461.4 cr: ICICI Direct', 'Sagar Cement Q4 PAT seen up 285.5% YoY to Rs. 18.3 cr: ICICI Direct', 'Buy USDINR; target of 69.35 - 69.45: ICICI Direct', 'Ramco Cement Q4 PAT seen up 19.9% YoY to Rs. 130.2 cr: ICICI Direct', 'ITI gains 2% on record turnover of Rs 2,051cr for FY19', 'Adani Power falls 4% after CLSA retains sell call despite CERC order', 'Mangalam Cement Q4 PAT seen up 674.1% to Rs. 6.1 cr: ICICI Direct', 'Cosmo Films gains 11% on launching CPP high barrier films', 'JK Laxmi Cement Q4 PAT seen up 27.3% YoY to Rs. 43.1 cr: ICICI Direct', 'JK Cement Q4 PAT seen up 32.5% YoY to Rs. 127.8 cr: ICICI Direct', 'India Cement Q4 PAT seen up 45.4% YoY to Rs. 51.3 cr: ICICI Direct', 'Global brokerages upgrade TCS, raise target price after Q4 results; time to buy?', 'Heidelberg Cement Q4 PAT seen up 14.2% YoY to Rs. 58.9 cr: ICICI Direct', 'Ambuja Cement Q1 PAT seen up 8.5% YoY to Rs. 294.8 cr: ICICI Direct', 'ACC Q1 PAT seen up 20.6% YoY to Rs. 302 cr: ICICI Direct', 'Infosys hit by slew of downgrades post Q4 results; should you buy, sell or hold?', 'APL Apollo Tubes gains 3% on acquisition of tube manufacturing unit', 'D-Street Buzz: Realty stocks gain led by Oberoi Realty; Tata Motors jumps 4%, Infosys falls', 'SpiceJet gains 7% on launching new international direct flights', 'Wockhardt gains 2% on zero observations from USFDA', 'Ideas for Profit | Infosys or TCS — Where should you invest your money?', \"'Betting on BHEL & Britannia with medium-to-long term investment horizon'\", 'Podcast | Stock picks of the day: Why ITC and Kajaria Ceramics are top buys this week', 'Refrigerant gas plays turn investment worthy as they re-position for fluorine chemistry', 'Top buy and sell ideas by Ashwani Gujral, Sudarshan Sukhani, Mitessh Thakkar for short term', \"Stocks in the news: TCS, Infosys, Dr Reddy's, Metropolis, Suven Life, Jet Airways, APL Apollo\"], ['Polycab India closes with 22% premium at Rs 655 on the listing day', 'Buy Infosys; target of Rs 805: ICICI Direct', 'Hold Greaves Cotton; target of Rs 155: Sharekhan', 'Buy Bajaj Finance; target of Rs 3400: Sharekhan', 'Buy Sequent Scientific; target of Rs 116: Joindre Capital Services', 'Hold Infosys; target of Rs 761: KR Choksey', 'Hold Infosys; target of Rs 735: Nalanda Securities', 'Buy AIA Engineering; target of Rs 2218: Anand Rathi', 'Buy Endurance Technologies; target of Rs 1399: LKP Research', 'Accumulate Infosys; target of Rs 849: Arihant Capital', 'Hold Tata Consultancy Services; target of Rs 2065: ICICI Direct', 'Simplex Infra Q4 PAT seen up 39% YoY to Rs. 40.8 cr: ICICI Direct', 'D-Street Buzz: IndusInd Bank, ICICI Bank extend gains; Interglobe Aviation hits new 52-week high', 'NCC Q4 PAT seen up 30.5% YoY to Rs. 134.1 cr: ICICI Direct', 'NBCC Q4 PAT may dip 21.1% YoY to Rs. 111.7 cr: ICICI Direct', 'Sadbhav Eng. Q4 PAT seen up 1.4% YoY to Rs. 70.9 cr: ICICI Direct', 'PNC Infratech Q4 PAT may dip 49.5% YoY to Rs. 56.4 cr: ICICI Direct', 'IRB Infra Q4 PAT seen up 2% YoY to Rs. 244.6 cr: ICICI Direct', 'Polycab India sees stellar listing, what should investors do now?', 'Wipro Q4 PAT may dip 0.3% QoQ to Rs. 2,503.1 cr: Prabhudas Lilladher', 'Wipro Q4 PAT seen up 0.8% QoQ to Rs. 2,530 cr: Kotak', 'While Sensex, Nifty reclaimed record highs, 19 stocks rose 10-50% since April 3', 'Jet Airways plunges 18% on likely shutdown of operations', 'Ashoka Buildcon Q4 PAT may dip 30% YoY to Rs. 73.8 cr: ICICI Direct', '54 stocks hit 52-week high on BSE; volumes of Ujaas Energy, Deepak Fert rise the most', 'Soybean prices to trade sideways to negative: Angel Commodities', 'EURINR is expected to depreciate: Angel Broking', 'Buy or Sell | High volatility points to nervousness at high levels; buy ITC', 'Trent Q4 PAT seen up 22.4% YoY to Rs. 14.3 cr: ICICI Direct', 'Titan Company Q4 PAT seen up 19% YoY to Rs. 364.6 cr: ICICI Direct', 'Shoppers Stop Q4 PAT may dip 10.4% YoY to Rs. 18.6 cr: ICICI Direct', 'Bata India Q4 PAT seen up 40.6% YoY to Rs. 73.2 cr: ICICI Direct', 'Aditya Birla Fashion & Retail Q4 PAT may dip 52.4% YoY to Rs. 53.8 cr: ICICI Direct', 'The Phoenix Mills Q4 PAT may dip 10.8% YoY to Rs. 82.5 cr: ICICI Direct', 'Brigade Enterprises Q4 PAT seen up 153.9% YoY to Rs. 45.9 cr: ICICI Direct', 'Sunteck Realty Q4 PAT seen up 16.2% YoY to Rs. 71.6 cr: ICICI Direct', 'Sobha Developers Q4 PAT may dip 4.4% YoY to Rs. 62.5 cr: ICICI Direct', 'Mahindra Lifespace Q4 PAT may dip 19.4% YoY to Rs. 13.3 cr: ICICI Direct', 'Oberoi Realty Q4 PAT may dip 7.4% YoY to Rs. 132.3 cr: ICICI Direct', 'Slideshow | Analysts bet on these 11 stocks for 2-15% return in short to mid term', 'Wonderla Holidays Q4 PAT seen up 181.6% YoY to Rs. 10.4 cr: ICICI Direct', 'VST Tillers & Tractors Q4 PAT may dip 53.1% YoY to Rs. 15.8 cr: ICICI Direct', 'United Breweries Q4 PAT seen up 29.5% YoY to Rs. 117.7 cr: ICICI Direct', \"'Balrampur Chini buyback: Investors should not participate through fresh investment'\", 'United Spirits Q4 PAT may dip 20.9% YoY to Rs. 166.8 cr: ICICI Direct', 'TeamLease Services Q4 PAT seen up 36.1% YoY to Rs. 28.9 cr: ICICI Direct', 'TTK Prestige Q4 PAT seen up 21% YoY to Rs. 44.8 cr: ICICI Direct', 'Solar Industries Q4 PAT seen up 12.3% YoY to Rs. 76.1 cr: ICICI Direct', 'Rallis India Q4 PAT may dip 14.3% YoY to Rs. 16.8 cr: ICICI Direct', 'D-Street Buzz: Bank Nifty outshines led by ICICI Bank; L&T jumps 2%, Bharti Airtel drags', 'Dr Reddy’s Laboratories gains on EIR from USFDA', 'Prestige Estates rises 3% on acquiring entire stake in Babji Realtors', 'ICICI Bank spikes 3% after Goldman Sachs retains buy, raises target price to Rs 492 per share', 'Tata Metaliks gains 2% on better Q4 numbers', 'Navneet Publications Q4 PAT seen up 0.9% YoY to Rs. 15.2 cr: ICICI Direct', 'Mah. Seamless Q4 PAT seen up 23% YoY to Rs. 108.7 cr: ICICI Direct', 'Ideas for Profit | Which leisurewear stocks offer you the best value?', 'SpiceJet jumps 5% on inducting 5 more Q400s aircrafts & launch of new direct international flights', 'Deepak Fertilisers rises 9% on start of commercial production at Dahej plant', 'Metropolis Healthcare hits record high after Damani’s Bright Star picks 7 lakh shares', 'Pledged shares could be a time bomb', 'Top buy and sell ideas by Sudarshan Sukhani, Mitessh Thakkar, Prakash Gaba for short term', \"Podcast | Stock picks of the day: 'Nifty may consolidate, prefer hedged positions'\", 'Stocks in the news: Wipro, Cipla, Prestige Estates, Jet Airways, Polycab India, Deepak Fertilizers'], ['Sterlite Technologies Q4 PAT seen up 42.2% QoQ to Rs. 159.9 cr: ICICI Direct', 'Buy Hikal; target of Rs 220: Keynotes Financial Opiniery', 'Buy S H Kelkar; target of Rs 194: Keynotes Financial Opiniery', 'Buy Banco Products India; target of Rs 192: Keynotes Financial Opiniery', 'Buy TV 18 Broadcast; target of Rs 43: KR Choksey', 'Hold Wipro; target of Rs 247: Prabhudas Lilladher', 'SRF Q4 PAT seen up 10.2% YoY to Rs. 136.6 cr: Kotak', 'Castrol India Q4 PAT seen up 26.5% YoY to Rs. 230 cr: Kotak', 'Hold Wipro; target of Rs 305: Sharekhan', 'Torrent Pharmaceuticals Q4 PAT may dip 12.6% YoY to Rs. 199.3 cr: Kotak', 'Dr Reddy’s Laboratories Q4 PAT seen up 36.9% YoY to Rs. 413.6 cr: Kotak', 'Cipla Q4 PAT seen up 93.2% YoY to Rs. 295.8 cr: Kotak', 'Biocon Q4 PAT seen up 35.2% YoY to Rs. 176.2 cr: Kotak', 'Buy Tata Consultancy Services; target of Rs 2323: Nalanda Securities', 'Aurobindo Pharma Q4 PAT seen up 17.8% YoY to Rs. 641.6 cr: Kotak', 'Narayana Hrudayalaya Q4 PAT seen up 91.6% YoY to Rs. 18.8 cr: Kotak', 'Accumulate Tata Consultancy Services; target of Rs 2236: KR Choksey', 'Dr Lal Pathlabs Q4 PAT seen up 28.3% YoY to Rs. 51.4 cr: Kotak', 'Aster DM Healthcare Q4 PAT may dip 6.7% YoY to Rs. 177.4 cr: Kotak', 'Accumulate Entertainment Network (India); target of Rs 662: Prabhudas Lilladher', 'Apollo Hospitals Q4 PAT seen up 45.7% YoY to Rs. 52 cr: Kotak', 'Petronet LNG Q4 PAT seen up 9.3% YoY to Rs. 571.1 cr: Kotak', 'Mahanagar Gas Q4 PAT seen up 40.7% YoY to Rs. 147.4 cr: Kotak', 'Q4 FY19 result review: Is Wipro an ideal defensive bet now?', 'Indraprastha Gas Q4 PAT seen up 8.6% YoY to Rs. 206.3 cr: Kotak', 'GSPL Q4 PAT seen up 28.4% YoY to Rs. 202.2 cr: Kotak', 'GAIL (India) Q4 PAT seen up 45.3% YoY to Rs. 1,483.8 cr: Kotak', 'UPL Q4 PAT seen up 24.5% YoY to Rs. 916.1 cr: Kotak', 'Rallis India Q4 PAT may dip 15.6% YoY to Rs. 16.7 cr: Kotak', 'PI Industries Q4 PAT seen up 28.2% YoY to Rs. 135.1 cr: Kotak', 'Godrej Agrovet Q4 PAT seen up 33.1% YoY to Rs. 33.4 cr: Kotak', 'Dhanuka Agritech Q4 PAT may dip 56.4% YoY to Rs. 12.5 cr: Kotak', 'Power Grid Q4 PAT seen up 30.9% YoY to Rs. 2,416.4 cr: Kotak', 'NTPC Q4 PAT may dip 7.4% YoY to Rs. 2,708.1 cr: Kotak', 'NHPC Q4 PAT seen up 7.7% YoY to Rs. 204 cr: Kotak', 'CESC Q4 PAT may dip 27.3% YoY to Rs. 212.3 cr: Kotak', 'Tata Chemicals Q4 PAT may dip 20% YoY to Rs. 247.7 cr: Kotak', 'Auto, metal stocks look strong, create longs with proper stop loss: HDFC Securities', 'Asian Paints Q4 PAT seen up 37.5% YoY to Rs. 661.3 cr: Kotak', 'Teamlease Services Q4 PAT seen up 41.3% YoY to Rs. 30.4 cr: Kotak', 'Security & Intelligence Services Q4 PAT seen up 62% YoY to Rs. 59.8 cr: Kotak'], ['Reliance Industries Q4FY19 – Consumer business takes up the baton', 'Escorts Q4 PAT seen up 22.3% YoY to Rs. 137.6 cr: Sharekhan', 'GNA Axles Q4 PAT seen up 6.5% YoY to Rs. 17.5 cr: Sharekhan', 'Sundram Fasteners Q4 PAT seen up 23.9% YoY to Rs. 118 cr: Sharekhan', 'Subros Q4 PAT seen up 19% YoY to Rs. 22.1 cr: Sharekhan', 'Bharat Forge Q4 PAT seen up 4.2% YoY to Rs. 243.4 cr: Sharekhan', 'Exide Industries Q4 PAT seen up 8% YoY to Rs. 204.7 cr: Sharekhan', 'Gabriel Q4 PAT may dip 13.2% YoY to Rs. 22.3 cr: Sharekhan', 'Greaves Cotton Q4 PAT seen up 26.9% YoY to Rs. 55 cr: Sharekhan', 'Ashok Leyland Q4 PAT seen up 9.1% YoY to Rs. 721.5 cr: Sharekhan', 'TVS Motors Q4 PAT may dip 10.2% YoY to Rs. 148.7 cr: Sharekhan', 'Bajaj Auto Q4 PAT may dip 5.8% YoY to Rs. 1,017.1 cr: Sharekhan', 'Hero Motocorp Q4 PAT may dip 27.8% YoY to Rs. 698.3 cr: Sharekhan', 'Maruti Suzuki Q4 PAT may dip 6.3% YoY to Rs. 1,764.3 cr: Sharekhan', 'Buy Mastek; target of Rs 670: Anand Rathi', 'Buy Mindtree; target of Rs 1100: Anand Rathi', 'Sell Wipro; target of Rs 250: HDFC Securities', 'Shriram Transport Finance Q4 PAT seen up 81.9% YoY to Rs. 626.8 cr: Motilal Oswal', 'Shriram City Union Q4 PAT seen up 351.2% YoY to Rs. 212.2 cr: Motilal Oswal', 'D-Street Buzz: Nifty Energy outperforms led by RIL; YES Bank drags, Reliance Power falls 10%', 'Repco Home Finance Q4 PAT seen up 1.1% YoY to Rs. 57.3 cr: Motilal Oswal', 'PNB Housing Q4 PAT seen up 26.1% YoY to Rs. 278.1 cr: Motilal Oswal', 'Star Cement rises 6% as co receives Rs 174cr from Central govt', 'Muthoot Finance Q4 PAT seen up 11.3% YoY to Rs. 502.5 cr: Motilal Oswal', 'MAS Financial Q4 PAT seen up 44.6% YoY to Rs. 43.2 cr: Motilal Oswal', 'M&M Financial Q4 PAT may dip 14% YoY to Rs. 365 cr: Motilal Oswal', 'LIC Housing Finance Q4 PAT seen up 24.6% YoY to Rs. 671.8 cr: Motilal Oswal', 'L&T Finance Holdings Q4 PAT seen up 46.3% YoY to Rs. 594 cr: Motilal Oswal', 'Indiabulls Housing Q4 PAT seen up 4.8% YoY to Rs. 1,080 cr: Motilal Oswal', 'HDFC Q4 PAT may dip 10.8% YoY to Rs. 2,374 cr: Motilal Oswal', 'Cholamandalam Investment & Finance Q4 PAT seen up 2.3% YoY to Rs. 307 cr: Motilal Oswal', 'Bajaj Finance Q4 PAT seen up 42.1% YoY to Rs. 1,062 cr: Motilal Oswal', 'Sasken Technologies gains 11% as co to consider share buyback', 'GRUH Finance, Bandhan Bank gain 3-4% on CCI approval', 'Just Dial falls 3% after news of data breach of 100 mn users, management clarifies', 'Rakesh Jhunjhunwala reduces stake in Federal Bank; muted Q4 on cards?', 'Buy USDINR; target of 69.80 - 69.90: ICICI Direct', 'Gold prices are expected to trade sideways today: Angel Commodities', 'Another acquisition for Reliance Retail on the cards?', 'CRISIL slips nearly 5% on poor Q4 numbers; declares interim dividend', 'D-Street Buzz: RIL, Tata Motors jump 2% each, Bharti Airtel down 3%; Indigo hits new 52-week high', 'Reliance Industries gains over 2% on stake sale in six group cos', 'What should investors do with Wipro post Q4: Buy, sell or hold?', 'Ashoka Buildcon gains 2% on order wins worth Rs 443cr from RVNL', 'Top buy and sell ideas by Rajat Bose, Sudarshan Sukhani, Mitessh Thakkar for short term', 'Ideas for Profit: Why investors should stay put in Mindtree', \"Podcast | Stock picks of the day: 'Buy ICICI Bank, Indian Hotels for short-term gains'\", 'Stocks in the news: RIL, Wipro, Mindtree, InterGlobe, Jet Airways, Cipla, Bandhan Bank'], ['Buy Shriram Transport Finance; target of Rs 1568: Prabhudas Lilladher', 'Buy DCB Bank; target of Rs 250: ICICI Direct', 'Buy Reliance Industries; target of Rs 1638: Nalanda Securities', 'KPIT Technologies ends at Rs 103.95 on NSE', 'Buy ICICI Bank; target of Rs 450: Keynotes Financial Opiniery', 'Buy HDFC Bank; target of Rs 2700: Prabhudas Lilladher', 'Accumulate HDFC Bank; target of Rs 2550: Dolat Capital', 'Buy Sunteck Realty; target of Rs 608: Arihant Capital', 'D-Street Buzz: Oil & gas stocks slip further, YES Bank extends loses; volumes of Marico, HPCL rise the most', 'As market favourites fall out of favour, Motilal Oswal lists 10 contrarian stock ideas', 'Copper prices are expected to trade lower today: Angel Commodities', 'KPR Mill climbs 5% as board to consider buy back of shares', 'Avoid Neogen Chemicals: Choice Broking', 'Buy & Sell | Trade cautiously; buy Bajaj Auto, sell Tata Comm', \"'Uptrend in Nifty may continue in mid term; range for Bank Nifty is 30,600-29,700'\", 'D-St Buzz: Weak rupee pushes IT stocks higher; YES Bank falls 3%, volatility spikes', 'GVK Power surges 10% as co to sell 49% stake in airport arm', 'EURINR is expected to appreciate: Angel Broking', 'Syngene International rises 5% as board to consider bonus issue', \"'Non-stop rise in VIX alarming sign for traders'\", 'Gravita India gains 4% after commencing commercial production of lead', 'Alembic Pharma gains 1% on USFDA nod for Teriflunomide tablets that treat sclerosis', 'HDFC Bank reports healthy numbers in Q4; what should investors do now?', 'ICICI Lombard: Robust growth in FY19 premium led by motor insurance; buy on dips', 'Tata Coffee rises 3% on better Q4 numbers; recommends 150% dividend', 'Brokerages mixed on RIL post Q4; should you buy, sell or hold?', 'Jet Airways regains some lost ground, closes 5% lower on spike in volumes', 'D-Street Buzz: OMCs take a beating amid jump in crude oil prices; Bharti Airtel falls 2%', 'Ideas for Profit | HDFC Bank Q4 review: Steady show aided by robust loan growth; must buy', 'Top buy and sell ideas by Ashwani Gujral, Sudarshan Sukhani, Mitessh Thakkar for short term', \"Podcast | Stock picks of the day: Here's is why HUL, Hero Moto and IndusInd Bank are buys\", 'Stocks in the news: RIL, HDFC Bank, GVK Power, SBI, Jet Airways, L&T, Tata Coffee'], ['Buy HDFC Bank; target of Rs 2700: ICICI Direct', 'Buy Welspun Corp; target of Rs 161: Kotak Securities', 'Buy RBL Bank; target of Rs 753: Cholamandalam Securities', 'Buy HDFC Bank; target of Rs 2635: Nalanda Securities', 'Accumulate DCB Bank; target of Rs 232: Arihant Capital', 'Goa Carbon: Unfavourable supply-demand balance weighs on Q4 margin; remain on sidelines', 'Buy HDFC Bank; target of Rs 2750: Sharekhan', 'Buy Jiya Eco Products; target of Rs 109: Khambatta Securities', 'Buy DCB Bank; target of Rs 242: SPA Securities', 'Brokerages raise target for SpiceJet, IndiGo even as stocks tank due to peaking oil price', 'D-St Buzz: Nifty Pharma outshines led by Sun Pharma; volumes of Tejas Networks rise the most', 'Jiya Eco Products gains 2% after Khambatta initiates coverage with buy call', 'As Met department predicts ‘near normal’ monsoon, analysts recommend these 10 stocks', 'D-Street Buzz: PSU banks gain led by PNB; Jet Airways spikes 10%, Bata hits new 52-week high', \"Kotak Equities bearish on OMCs, reiterates 'buy' call for GAIL and ONGC\", 'Aurionpro Solutions rises 5% on order wins worth Rs 18 crore', 'Tata Coffee: Volume growth visibility improves in Q4; accumulate on dips', 'Sell USDINR; target of 69.55 - 69.45: ICICI Direct', 'Gold prices are expected to trade higher today: Angel Commodities', 'Capacite Infraprojects rises 2% on orders win worth Rs 324cr', 'Lupin gains 4% after Morgan Stanley increases target price by 40%', 'D-St Buzz: Nifty Media outperforms led by Zee Ent; HDFC Bank gains, Bharti Airtel drags', 'Slideshow | RIL, HDFC Bank among top six buying ideas with 9-36% upside', 'Zee Entertainment rallies 6% amid stake sale buzz', 'Tejas Networks jumps 10% on strong Q4 numbers', 'Ideas for Profit | RBL Bank: Expensive for a reason', 'Essel Propack gains 2% as Blackstone eyes majority stake in company', 'Why Inox Leisure could be a worthy investment idea', 'Podcast | Stock picks of the day: Nifty likely to find support near 11,550 ahead of expiry', 'Top buy and sell ideas by Ashwani Gujral, Sudarshan Sukhani, Mitessh Thakkar for short term', 'Stocks in the news: Jet Airways, Essel Propack, Lux Industries, Tejas Networks, GAIL'], ['HRITHIK stocks fuel rally ahead of F&O expiry: What should investors do now?', 'Hold Essel Propack; target of Rs 136: ICICI Direct', 'Buy Bajaj Holdings and Investment; target of Rs 3924: Sharekhan', 'Buy ACC; target of Rs 1735: Prabhudas Lilladher', 'Buy DCB Bank; target of Rs 247: Cholamandalam Securities', 'Buy AU Small Finance Bank; target of Rs 680: HDFC Securities', 'D-St Buzz: UltraTech spikes 4% on impressive Q4 numbers; HCL Tech at new 52-week high', 'Hold Sterlite Technologies; target of Rs 216: Nalanda Securities', 'UltraTech Cement gains 4% on robust Q4 numbers', '3 Point Analysis | Jet crisis causes turbulence in industry', 'Top 5 stocks to buy ahead of F&O expiry for 10-13% returns in May series', 'D-Street Buzz: OMCs gain, HCL Tech jumps 2% as volatility cools off', 'Buy or Sell | Major resistance for Nifty at 11,850', 'IndusInd Bank adds 2% on NCLT nod for merger with BFIL', 'EURINR is expected to move sideways: Angel Broking', 'Soybean prices are expected to trade sideways today: Angel Commodities', 'L&T gains as analysts see 20% upside on likely strong order inflows, Schneider deal', 'AU Small Finance Bank Q4 review: Great execution & good outlook', 'Lupin falls 3% after Jefferies remains underweight, sees 21% downside', 'D-St Buzz: Tata Motors falls 5%; Wipro at new 52- week high, Indiabulls Real Estate jumps 12%', 'Tata Global slips 3% on weak Q4 nos; to acquire branded tea biz of Dhunseri Tea', 'Coromandel International rises 6% on strong Q4 numbers', 'ACC falls 4% despite better Q1 numbers; CLSA maintains buy with target Rs 2,000', 'An FMCG ingredient stock whose earnings growth is set to get a new flavour', 'Top buy and sell ideas by Ashwani Gujral, Sudarshan Sukhani, Mitessh Thakkar for short term', 'Podcast | Stock picks of the day: Key resistance for Nifty at 11,700 ahead of expiry', 'Stocks in the news: ACC, Tata Global, Sterlite Tech, Lupin, Tiger Logistics, Tata Power'], ['Buy UltraTech Cement; target of Rs 5000: Sharekhan', 'Accumulate ACC; target of Rs 1871: Arihant Capital', 'Buy Finolex Industries; target of Rs 599: CD Equisearch', 'Hold ACC; target of Rs 1742: Nalanda Securities', 'Buy Ultratech Cement; target of Rs 4850: Nalanda Securities', 'Buy Coromandel International; target of Rs 500: Nalanda Securities', 'Buy ACC; target of Rs 1900: HDFC Securities', 'Buy UltraTech Cement; target of Rs 5140: HDFC Securities', 'Accumulate Ultratech Cement; target of Rs 4700: Prabhudas Lilladher', 'M&M Financial Services: Great execution in Q4; use weakness to accumulate', 'Accumulate Mahindra and Mahindra Financial Services; target of Rs 527: Prabhudas Lilladher', 'Buy ICICI Prudential Life Insurance Company; target of Rs 511: Prabhudas Lilladher', 'Buy Tata Global Beverages; target of Rs 240: ICICI Direct', 'Buy Hexaware Technologies; target of Rs 430: HDFC Securities', 'Buy Mahindra and Mahindra Financial Services; target of Rs 504: HDFC Securities', 'D-Street Buzz: Nifty Metal underperforms dragged by Tata Steel; Bharti Infratel falls 9%', '3-Point Analysis | Sterlite Technologies Q4 review', \"Grasim Industries trades at 6-month high after UltraTech's stellar Q4\", 'Buy or Sell | Remain stock specific in short term; buy ONGC, Sun Pharma', 'Gold prices are expected to trade lower today: Angel Commodities', 'Brokerages positive on UltraTech Cement, see double-digit upside; stock rallies', 'Nelco jumps 7% on partnership with Speedcast International in Sydney', 'ITC’s hospitality forays – the less talked about business interest of tobacco/FMCG giant', 'Yes Bank climbs 4% on reports of management rejig ahead of Q4 earnings', 'D-St Buzz: Pharma stocks gain led by Aurobindo Pharma, RIL at record high; UltraTech spikes', \"Indiabulls Housing Finance recovers from day's low, brokerages mixed on Q4 show\", 'Buy USDINR; target of 70.55 - 70.65: ICICI Direct', 'Titan hits record high taking market cap above Rs 1 lakh crore', 'Top buy and sell ideas by Ashwani Gujral, Sudarshan Sukhani, Mitessh Thakkar for short term', 'Podcast | Stock picks of the day: M&M Financial among top 3 short-term bets', 'Stocks in the news: Maruti, Axis Bank, Bharti Infratel, Indiabulls Housing, Automotive Stampings, L&T'], ['Buy Axis Bank; target of Rs 882: Nalanda Securities', 'Accumulate Axis Bank; target of Rs 837: Prabhudas Lilladher', 'Accumulate Cyient; target of Rs 621: Prabhudas Lilladher', 'Buy Axis Bank; target of Rs 896: HDFC Securities', 'Buy Can Fin Homes; target of Rs 417: CD Equisearch', 'Hold Maruti Suzuki; target of Rs 7150: Sharekhan', 'Buy AU Small Finance Bank; target of Rs 732: Cholamandalam Securities', 'Buy Maharashtra Seamless; target of Rs 825: Kotak Securities', 'Hold Maruti Suzuki; target of Rs 7352: Arihant Capital', 'Hold Ultratech Cement; target of Rs 4887: Arihant Capital', 'Buy Syngene International; target of Rs 715: ICICI Direct', 'Hold ACC; target of Rs 1800: ICICI Direct', 'Hold Mahindra Lifespace Developers; target of Rs 410: ICICI Direct', 'Accumulate Axis Bank; target of Rs 840: Dolat Capital', 'Buy Coromandel International; target of Rs 544: Dolat Capital', 'Buy Axis Bank; target of Rs 900: Sharekhan', 'Buy Tata Steel; target of Rs 685: Prabhudas Lilladher', 'Buy Maruti Suzuki; target of Rs 7808: LKP Research', 'Buy Maruti Suzuki; target of Rs 7217: Nalanda Securities', 'Buy Biocon; target of Rs 730: ICICI Direct', 'Tata Steel gains 6% post Q4 nos; CLSA maintains sell', \"Dalal Street witnesses robust gains: Here's a look the top stocks that hit new 52-week high on BSE\", 'HCL Tech hits record high on launch of cybersecurity fusion center in US', 'MCX shares climb 5% on strong earnings growth in Q4; Motilal Oswal sees 19% upside', 'Torrent Pharma gains 2% as Ahmedabad unit receives USFDA observations', 'D-Street Buzz: Nifty Auto underperforms dragged by Tata Motors; Aurobindo Pharma at 4-month high', 'Polycab India gains after Equirus initiates coverage with long call', 'Buy or Sell | Nifty likely to move towards 11,856', 'SBI Life climbs 4% as brokerages raise price target after Q4 earnings', 'EURINR is expected to move sideways: Angel Broking', 'Crude oil prices to trade sideways to lower: Angel Commodities', 'Axis Bank Q4 net profit at Rs 1,505 crore; should you buy, sell or hold?', 'D-St Buzz: Metal stocks shine led by Tata Steel; HCL Tech at new 52-week high, autos drag', 'Avenue Supermarts falls 2% as Credit Suisse sees 13% downside', 'Don’t give up on Maruti Suzuki yet; brokerages say stock could touch Rs 8,000', 'Cyient jumps 8% on robust Q4 nos; Morgan Stanley maintains overweight rating', 'Ideas for Profit | Axis Bank: Q4 earnings suggest investors should stay put for the long-term', 'Top buy and sell ideas by Mitessh Thakkar, Prakash Gaba for short term', 'Podcast | Stock picks of the day: Nifty likely to trade in a range; 11480 crucial support', 'Stocks in the news: Tata Steel, Axis Bank, Biocon, HCL Tech, CES, Yes Bank, Apcotex Industries'], ['Macquarie apologises, says got the Yes Bank call all wrong, downgrades stock', 'Buy HDFC Bank; target of Rs 2683: KR Choksey', 'Buy Tata Elxsi; target of Rs 1200: KR Choksey', 'Buy Maruti Suzuki India; target of Rs 7984: KR Choksey', 'Buy Cyient; target of Rs 684: Kotak Securities', 'Hold Axis Bank; target of Rs 811: Arihant Capital', 'Buy HDFC Life Insurance Company; target of Rs 465: Prabhudas Lilladher', 'Accumulate Rallis India; target of Rs 173: Prabhudas Lilladher', 'Buy Hero MotoCorp; target of Rs 2972: Nalanda Securities', 'Buy Yes Bank; target of Rs 275: Sharekhan', 'Hold Hero MotoCorp; target of Rs 2800: Sharekhan', 'Buy SBI Life Insurance; target of Rs 800: ICICI Direct', 'Buy UltraTech Cement; target of Rs 5300: ICICI Direct', 'Sell Maruti Suzuki India; target of Rs 5815: ICICI Direct', 'Buy Axis Bank; target of Rs 880: ICICI Direct', 'Hold Cyient; target of Rs 620: ICICI Direct', 'Buy Sterlite Technologies; target of Rs 267: KR Choksey', \"'See 20% upside for Wipro, HCL Tech and Tech Mahindra; sell private banks'\", 'Buy ICICI Lombard General Insurance Company, target Rs 1,210: Anand Rathi', 'Buy Bajaj Finance, target Rs 3,370: Anand Rathi', 'Buy Tata Consultancy Services, target Rs 2,510: Anand Rathi', 'HDFC Life Insurance: A solid show in FY19; premium valuations may sustain', \"What should Yes Bank's shareholders do after its kitchen sinking quarter?\", \"'Pharma sector to excel; volume and value growth create win-win situation for cement cos'\"], ['Bhansali Engineering Q4: Pricey inventory, end market slowdown take a big toll', 'Accumulate Hero Motocorp; target of Rs 2784: Prabhudas Lilladher', 'Buy HDFC Standard life; target of Rs 475: Motilal Oswal', 'Hold Hero Motocorp; target of Rs 2700: ICICI Direct', 'Accumulate Lumax Industries; target of Rs 2040: CD Equisearch', 'Sell Yes Bank; target of Rs 160: Dolat Capital', 'Yes Bank plunges 29% on weak Q4 result; Macquarie, HSBC & Citi downgrade stock', 'Godrej Properties slips nearly 5% despite robust Q4 numbers', 'Buy Tata Steel; target of Rs 635: ICICI Direct', 'Hold Yes Bank; target of Rs 180: ICICI Direct', 'Buy Cyient; target of Rs 717: Cholamandalam Securities', 'Buy Shriram City Union Finance; target of Rs 2000: Cholamandalam Securities', 'Sell USDINR; target of 69.95 - 69.85: ICICI Direct', 'Cotton prices to trade sideways to lower: Angel Commodities', \"Why Dr Reddy's and DCM Shriram are among top 5 short-term trading ideas\", 'HCL Technologies touches 52-week high as co partners with Cherwell Software', 'BoB, PNB fall 3-5% each as PSU banks bleed, IDBI Bank hits 52-week low', 'Hero MotoCorp Q4 PAT tanks 25% YoY: should investors buy, sell or hold?', 'Oil & gas stocks trade mixed despite fall in global crude oil prices', 'Bank of Maharashtra hits 52-week high on reporting profit in Q4', 'Don’t be in a rush, buy after May 23; here are 10 stocks that could return 20-40% in a year', 'Top buy and sell ideas by Sudarshan Sukhani, Mitessh Thakkar for short term', \"Podcast | Stock picks of the day: 'Nifty likely to be in 11,549-11,856 range; avoid aggressive positions'\", 'Stocks in the news: Yes Bank, Hero Moto, Ambuja Cements, GMM Pfaudler, JSW Energy'], [\"'Bet on TechM, Wipro and Mindtree for better return among IT stocks'\"], ['Hold TVS Motors; target of Rs 474: Prabhudas Lilladher', 'Buy Persistent Systems; target of Rs 715: Nalanda Securities', 'Buy Kotak Mahindra Bank; target of Rs 1554: Nalanda Securities', 'Buy Cholamandalam Investment; target of Rs 1665: Prabhudas Lilladher', 'Hold Persistent Systems; target of Rs 618: Prabhudas Lilladher', 'Hold Kotak Mahindra Bank; target of Rs 1385: Prabhudas Lilladher', 'Hold Ambuja Cement; target of Rs 205: Prabhudas Lilladher', 'D-Street Buzz: IT stocks in red, Infosys sheds 2%; Zee Entertainment drags, volatility spikes', 'Reliance Nippon Life: Soft FY19 earnings, but ADAG stake sale may move the needle', 'Buy Indian Hotels Co; target of Rs 176: HDFC Securities', 'Buy Kotak Mahindra Bank; target of Rs 1481: HDFC Securities', 'Buy Cholamandalam Investment and Finance; target of Rs 1671: HDFC Securities', 'Hold Persistent Systems; target of Rs 720: Sharekhan', 'Hold TVS Motors; target of Rs 530: Sharekhan', 'Buy Ipca Laboratories; target of Rs 1135: Sharekhan', 'Greaves Cotton gains 4% as board approves buyback worth Rs 240cr', 'Buy Ambuja Cements; target of Rs 239: Nalanda Securities', 'Accumulate Kotak Mahindra Bank; target of Rs 1550: Dolat Capital', 'Buy Orient Cement; target of Rs 143: Anand Rathi', 'Hold Yes Bank; target of Rs 187: Arihant Capital', 'Accumulate GHCL; target of Rs 272: Kotak Securities', 'Hold Persistent System; target of Rs 697: Arihant Capital', 'Accumulate Cholamandalam Investment; target of Rs 1550: Dolat Capital', 'Buy Exide Industries; target of Rs 277: Dolat Capital', 'Sell TVS Motor Company; target of Rs 456: Dolat Capital', 'Hold TVS Motors; target of Rs 513: Nalanda Securities', 'D-St Buzz: Infra stocks gain led by Bharti Infratel; RIL, HDFC Bank at record highs', 'Buy or Sell | Trade cautiously; buy Colgate, Aurobindo Pharma', 'JBF Industries declines nearly 5% on CEO, CFO resignation', 'Indian Hotels touches 52-week high on strong Q4 results', 'EURINR is expected to appreciate: Angel Broking', 'Soybean prices are expected to trade sideways today: Angel Commodities', 'Lupin gains as co receives USFDA approval for Bosentan tablets', 'Capacite Infraprojects rises 2% on order wins worth Rs 229 crore', 'Are buy-backs an easy way for investors to make a quick buck?', 'M&M rises 2% despite poor April sales number', 'Ambuja Cements gains 2% on healthy Q1 numbers', 'Kotak Mahindra Bank Q4 profit jumps 25% YoY; should you buy, sell or hold?', 'Britannia Industries: Steady execution in Q4 but recent demand moderation needs a close watch', 'Maruti Suzuki slips nearly 2% on weak April sales data', 'Ideas for Profit | Kotak Mahindra Bank: Look to own this stock on any correction', 'Top buy and sell ideas by Sudarshan Sukhani, Mitessh Thakkar, Prakash Gaba for short term', \"Podcast | Stock picks of the day: 'Key support for Nifty at 11,500, Bank Nifty at 29,400'\", 'Stocks in the news: Dabur, TVS Motor, BHEL, Maruti Suzuki, ICICI Bank, Lupin', 'Slideshow | Brokerages bet on 6 stocks for upside of 14-40% in medium term', 'Promoters raise stake in nearly 500 companies in Q4; time to buy?'], ['L&T Infotech – quarterly miss, but doesn’t tarnish long-term story', 'Hold Greaves Cotton; target of Rs 155: Sharekhan', 'Buy Britannia Industries; target of Rs 3475: Sharekhan', 'Sell Kansai Nerolac; target of Rs 393: Dolat Capital', 'Buy Bandhan Bank; target of Rs 725: ICICI Direct', 'Hold Kansai Nerolac Paints; target of Rs 455: ICICI Direct', 'Zensar Technologies Q4 review: Steady execution and strong outlook', 'Buy Intellect Design Arena; target of Rs 313: HDFC Securities', 'Hold Kotak Mahindra Bank; target of Rs 1500: ICICI Direct', 'Accumulate Britannia Industries; target of Rs 3145: Prabhudas Lilladher', 'Hold Hindustan Zinc; target of Rs 275: Prabhudas Lilladher', 'Buy Syngene International; target of Rs 700: Globe Capital Market', 'Buy Persistent Systems; target of Rs 735: Kotak Securities', 'Buy Hindustan Unilever; target of Rs 1830: Keynotes Financial Opiniery', 'Hold Ambuja Cements; target of Rs 232: Arihant Capital', 'Buy Dabur India; target of Rs 464: HDFC Securities', 'Buy Zensar Technologies; target of Rs 305: HDFC Securities', 'Buy Future Lifestyle Fashions; target of Rs 585: Motilal Oswal', 'Buy Britannia Industries; target of Rs 3350: Motilal Oswal', 'Hold Shoppers Stop; target of Rs 510: ICICI Direct', 'Buy Hero Motocorp; target of Rs 3080: HDFC Securities', 'Buy Container Corporation of India; target of Rs 625: ICICI Direct', \"This retail stock trades at lofty valuations, but here's why you should take a look\", 'Buy Container Corporation of India; target of Rs 600: Dolat Capital', 'D-St Buzz: Over 100 stocks hit new 52-week low on BSE; Tata Motors jumps 2%, IT drags', 'Accumulate Castrol India; target of Rs 174: Dolat Capital', 'Buy Trent; target of Rs 415: ICICI Direct', 'Hold Ajanta Pharmaceuticals; target of Rs 1060: ICICI Direct', 'Hold Apcotex Industries; target of Rs 575: ICICI Direct', 'Hold Rallis India; target of Rs 155: ICICI Direct', 'Hold Persistent Systems; target of Rs 650: ICICI Direct', 'Slideshow | Hero Moto, Maruti among 10 stocks to buy for medium term', 'Gold prices are expected to trade lower today: Angel Commodities', 'Sell USDINR; target of  69.45 - 69.35: ICICI Direct', 'Ideas for Profit | Indian Hotels: Another solid quarter, buy on any weakness', \"'Rise in India VIX suggests wild gyrations in the offing ahead of election verdict'\", 'D-Street Buzz: RIL, HDFC Bank hit new record highs; TCS, HCL Tech shed 2% each', 'Britannia Industries falls 2% as brokerages cut target price', \"Godrej Properties gains 5% after co buys R.K. Studios' land in Mumbai\", 'Dabur: Q4 result hit by rural sluggishness; market share gains in key categories positive', 'Bombay Dyeing rises nearly 12% as co turns profitable in Q4', 'Top buy and sell ideas by Prakash Gaba, Rajat Bose, Mitessh Thakkar for short term', 'Podcast | Stock picks of the day: PVR, Aurobindo Pharma & Indian Hotels expected to gain', 'Stocks in the news: Tata Motors, Hero MotoCorp, HUL, Orient Paper, Godrej Properties, Blue Star'], ['Marico Q4 review: Volume growth on expected lines; improving margin profile key positive', 'Buy Federal Bank; target of Rs 112: Prabhudas Lilladher', 'Hold Hindustan Unilever; target of Rs 1764: Prabhudas Lilladher', 'Accumulate Zensar Technologies; target of Rs 260: Prabhudas Lilladher', 'Buy NIIT Technologies; target of Rs 1539: Prabhudas Lilladher', 'Hold Hindustan Unilever; target of Rs 1900: ICICI Direct', 'Accumulate LIC Housing Finance; target of Rs 597: Prabhudas Lilladher', 'Accumulate Hindustan Unilever; target of Rs 1877: Dolat Capital', 'Buy Larsen and Toubro Infotech; target of Rs 1940: ICICI Direct', 'Buy Dabur India; target of Rs 450: ICICI Direct', 'Buy Indian Hotels; target of Rs 175: ICICI Direct', 'Hold Ambuja Cement; target of Rs 245: ICICI Direct', 'Hold Greaves Cotton; target of Rs 150: ICICI Direct', 'Buy Larsen and Toubro Infotech; target of Rs 1981: Prabhudas Lilladher', 'Buy Federal Bank; target of Rs 120: Motilal Oswal', 'Buy Tata Chemicals; target of Rs 703: Motilal Oswal', 'Buy Birla Corporation; target of Rs 583: Motilal Oswal', 'Buy Laurus Labs; target of Rs 470: Motilal Oswal', 'Blue Star Q4 review: A good all-round performance', 'Firstsource Solutions gains 5% after Q4 show; board approves 20% dividend', 'Hold Godrej Consumer Products; target of Rs 734: Sharekhan', 'Buy Hindustan Unilever; target of Rs 1990: Sharekhan', 'Hold Bandhan Bank; target of Rs 658: Arihant Capital', 'Hold Greaves Cotton; target of Rs 165: Arihant Capital', 'Accumulate Dabur India; target of Rs 446: Arihant Capital', 'Raymond Q4 review: Branded apparels lead the way', 'Buy L&T Technology Services; target of Rs 1860: HDFC Securities', 'D-St Buzz: Over 100 stocks hit new 52-week low on NSE; Zee Ent, Tata Motors shed 3-5% each', 'Godrej Consumer: Domestic business a tough nut to crack; stay on the sidelines', 'Tata Chemicals rises 6% post Q4 numbers; board recommends 125% dividend', 'Tata Motors may phase out small diesel cars, stock falls 4%', 'EURINR is expected to move sideways: Angel Broking', 'Crude Oil prices are expected to trade lower today: Angel Commodities', \"YES Bank falls 3% after ICRA downgrades bank's long-term bond ratings\", 'Morepen Laboratories surges 16% on robust Q4 numbers', 'Why Federal Bank is our top pick among mid-cap banks', 'Alembic Pharmaceuticals rises 3% on EIR for Karakhadi unit from USFDA', 'LIC Housing Finance gains on better Q4 nos; Nomura maintains buy', 'Hindustan Unilever: Strong operating performance in Q4; accumulate on dips', 'What should investors do with Federal Bank post Q4; buy, sell or hold?', 'Bharti Airtel slips ahead of Q4 numbers', \"D-Street's focus is on growth; 12 stocks to buy ahead of election outcome\", 'Ideas for Profit | Distribution momentum and new launches to aid double-digit volume growth at Britannia', 'Q4 result impact: Brokerages mixed on HUL; CLSA cuts target to Rs 1,950', 'Why this Indian MNC beverage company is looking attractive at current levels?', 'Top buy and sell ideas by Sudarshan Sukhani, Mitessh Thakkar, Prakash Gaba for short term', 'Podcast | Stock picks of the day: Nifty likely to be in 11,480-11,850 range this week', 'Stocks in the news: Bharti Airtel, Vodafone Idea, ICICI Bank, HUL, Yes Bank, Cadila Health, HIL'], ['Buy Marico; target of Rs 435: Arihant Capital', 'Buy ICICI Bank; target of Rs 493: Nalanda Securities', 'Buy Zensar Technologies; target of Rs 307: Cholamandalam Securities', 'Buy ICICI Bank; target of Rs 475: Prabhudas Lilladher', 'Hold Marico; target of Rs 351: Prabhudas Lilladher', 'Buy Marico; target of Rs 425: ICICI Direct', 'NIIT Technologies Q4 review: Soft quarter but medium-term outlook steady', 'Buy LIC Housing Finance; target of Rs 556: Cholamandalam Securities', 'D-St Buzz: Over 100 stocks hit 52-week low on BSE; Zee Ent falls 5%, DHFL top midcap loser', 'Buy Radico Khaitan; target of Rs 440: Kotak Securities', 'Hold VST Industries; target of Rs 3900: ICICI Direct', 'Hold LIC Housing Finance; target of Rs 540: ICICI Direct', 'Hold Sunteck Realty; target of Rs 520: ICICI Direct', 'Hold NIIT Technologies; target of Rs 1395: ICICI Direct', 'Buy Kewal Kiran Clothing; target of Rs 1500: ICICI Direct', 'Buy Federal Bank; target of Rs 125: ICICI Direct', 'Buy Sunteck Realty; target of Rs 569: Arihant Capital', 'Buy Federal Bank; target of Rs 126: Arihant Capital', 'VIP Industries declines 5% on poor Q4 show', 'Hold NIIT Technologies; target of Rs 1416: Arihant Capital', 'Accumulate NIIT Technologies; target of Rs 1400: Dolat Capital', 'Accumulate ICICI Bank; target of Rs 450: Dolat Capital', 'Buy Federal Bank; target of Rs 118: Sharekhan', 'Buy Marico; target of Rs 425: Sharekhan', 'Buy ICICI Bank; target of Rs 450: Sharekhan', 'Hold LIC Housing Finance; target of Rs 550: Sharekhan', 'Buy LIC Housing Finance; target of Rs 580: Motilal Oswal', \"Blue Star climbs 6% as Anand Rathi recommends 'buy' after Q4 earnings\", 'Buy Or Sell | Caution is the key going ahead; buy Kotak Bank, sell HUL', 'Lemon Tree gains 2% on opening Red Fox Hotel in Rajasthan', 'D-St Buzz: FMCG stocks gain led by Marico, HUL; HDFC jumps 2%, OMCs drag', 'Buy Marico; target of Rs 425: Motilal Oswal', 'Buy ICICI Bank; target of Rs 470: Motilal Oswal', 'Accumulate Marico; target of Rs 388: Dolat Capital', 'Stay with largecaps in the short term: HDFC Securities', 'Astec Life falls 5% as company calls off merger with Godrej Agrovet', 'PNC Infratech climbs 4% on divestment of stake in Ghaziabad-Aligarh road project', 'Navin Fluorine declines nearly 3% on poor Q4 show', 'Sell USDINR; target of 69.40 - 69.30: ICICI Direct', 'Soybean prices are expected to trade sideways today: Angel Commodities', 'Sterlite Tech jumps 7% on pledge share release', 'Majesco gains 3% on alliance with Capgemini', 'Gujarat Gas rallies 4% as CLSA increases target by 30% after Q4 earnings', 'With Q4 results out; should you buy, sell or hold ICICI Bank?', 'Q4 earnings shows Tata Chemicals is on the mend, but Europe sours', 'Marico rallies over 7% as PAT zooms 2-fold; Macquarie raises target price', 'Ideas for Profit | Strong earnings visibility and compelling valuation make ICICI Bank a must buy', 'Bharti Airtel gains 2% as Q4 numbers beat the Street', 'HDFC Bank touches 52-week high as board says it will consider stock split', 'Why HDFC AMC is a buy despite its rich valuations', 'Top buy and sell ideas by Sudarshan Sukhani, Mitessh Thakkar, Prakash Gaba for short term', \"Podcast | Stock picks of the day: 'If Nifty breaks the 11,550-level, expect further correction'\", 'Stocks in the news: HDFC Bank, Vedanta, ICICI Bank, Marico, Bharti Airtel, RCF, IOB'], ['Catalyst Trusteeship sells 86 lakh shares of Zee, Ganesh Trading buys stake in Neogen', 'Navin Fluorine Q4 review: Improving margin profile in specialty chemicals a key positive', 'Accumulate ICICI Bank; target of Rs 440: KR Choksey', 'Jyothy Laboratories sees soft Q4; valuation discount to peers merits attention', 'Volume Shockers: Zee Entertainment, Dhanlaxmi Bank, Emami, Nestle tops the chart', 'Dhanlaxmi Bank jumps 7% on reporting profit in Q4', 'D-St Buzz: Zee Entertainment extends loses, Tata Motors down 3%; CG Power spikes 10%', \"Shree Cements, DCB Bank and Petronet LNG on Sanctum Wealth's shopping list\", 'Buy Gujarat Gas; target of Rs 190: ICICI Direct', 'Buy Firstsource Solutions; target of Rs 60: ICICI Direct', 'Buy Mahindra CIE Automotive; target of Rs 275: ICICI Direct', 'Buy Or Sell | Expect some volatility going forward; buy Godrej Consumer', 'Sell Gujarat Gas; target of Rs 153: Dolat Capital', 'Zee Ent tanks 12% on rumours; co says it is in advanced stage of stake sale', 'Buy V.I.P. Industries; target of Rs 564: Prabhudas Lilladher', 'Buy ICICI Bank; target of Rs 454: HDFC Securities', 'D-St Buzz: Over 150 stocks hit new 52-week low on NSE; RIL, Zee Ent fall 2-5% each', 'Hold Kewal Kiran Clothing; target of Rs 1415: Sharekhan', 'Hold Supreme Industries; target of Rs 1120: Sharekhan', 'Buy Petronet LNG; target of Rs 315: Motilal Oswal', 'Supreme Industries falls 3% as brokerages slash target price', 'UPL gains as board to consider issue of bonus shares on May 17', 'Ideas for Profit | Marico’s steady diversification adds to earnings visibility', 'Buy Sanofi India; target of Rs 6930: Motilal Oswal', 'Buy Bharti Airtel; target of Rs 350: Sharekhan', 'Kansai Nerolac falls after CLSA maintains sell call', 'BSE Limited slips 4% on poor Q4 show; recommends dividend of Rs 25', 'Buy Mahindra CIE; target of Rs 290: Motilal Oswal', 'Buy Bharti Airtel; target of Rs 410: Motilal Oswal', 'EURINR is expected to appreciate: Angel Broking', 'Gold prices are expected to trade higher today: Angel Commodities', 'Brokerages mixed on Escorts Q4 earnings, Credit Suisse cuts price target', 'Global brokerages maintain rating on Vedanta post Q4; CLSA cuts target price', 'Slideshow | Here are 9 stocks that brokerages upgraded post Q4 result', 'Why investors should look at this high quality consumption name in a weak phase', 'Alembic Pharma gains 3% on JV with Chinese firms; to announce Q4 results today', 'Top buy and sell ideas by Sudarshan Sukhani, Mitessh Thakkar, Prakash Gaba for short term', \"Podcast | Stock picks of the day: 'Fresh Call writing at 11,500-11,550 indicates limited upside'\", 'Stocks in the news: Titan, Vedanta, RCF, DHFL, Neogen, Mahindra Logistics, Vakrangee'], ['Expect market conditions to stabilize from H2FY20: Dabur CFO', 'Buy Supreme Industries; target of Rs 1147: Cholamandalam Securities', 'Buy KEC Intl; target of Rs 347: Motilal Oswal', 'Hold Essel Propack; target of Rs 136: ICICI Direct', 'Hold Alembic Pharma; target of Rs 560: ICICI Direct', 'Buy CDSL; target of Rs 335: HDFC Securities', 'Buy Brigade Enterprises; target of Rs 289: HDFC Securities', 'Buy KEC International; target of Rs 375: Sharekhan', 'Buy Titan Company; target of Rs 1260: Sharekhan', 'Buy MAS Financial Services; target of Rs 700: Motilal Oswal', 'Buy CEAT; target of Rs 1277: Motilal Oswal', 'Buy KEC International; target of Rs 350: Dolat Capital', 'Hold Star Cement; target of Rs 120: ICICI Direct', 'Buy KSB; target of Rs 810: ICICI Direct', 'Hold CEAT; target of Rs 1100: Prabhudas Lilladher', 'Accumulate Hindalco Industries; target of Rs 245: Prabhudas Lilladher', 'Buy Titan Company; target of Rs 1264: Prabhudas Lilladher', 'Buy Shriram Transport Finance; target of Rs 1481: Prabhudas Lilladher', 'Buy KEC International; target of Rs 352: Prabhudas Lilladher', 'Buy Supreme Industries; target of Rs 1165: ICICI Direct', 'Buy Balkrishna Industries; target of Rs 900: Keynotes Financial Opiniery', 'Hold ABB; target of Rs 1506: Nalanda Securities', 'Buy NIIT Technologies; target of Rs 1440: Cholamandalam Securities', 'Accumulate CEAT; target of Rs 1160: Dolat Capital', 'Buy Navin Fluorine International; target of Rs 812: HDFC Securities', 'Buy Bharti Airtel; target of Rs 374: HDFC Securities', 'Hold Escorts; target of Rs 600: ICICI Direct', 'Buy Jyothy Laboratories; target of Rs 220: ICICI Direct', 'D-St Buzz: Over 200 stocks hit 52-week low on BSE; JSPL down 4%, Bharti Airtel falls', 'RBL Bank, ICICI Lombard among 4 stocks that could be included in MSCI India index', 'D-St Buzz: Nifty Media outperforms led by Zee Entertainment; YES Bank jumps 4%, RIL drags', 'Lupin gains on exclusive rights to sell Aptissen products in Canada', 'Buy USDINR; target of 70.20 - 70.30: ICICI Direct', 'Crude Oil prices are expected to trade lower today: Angel Commodities', 'Brokerages positive on Shriram Transport post Q4, but cut target price', 'Balrampur Chini Mills gains 3% as buyback to open on May 16', 'Deepak Fertilisers gains nearly 3% on raising 30 mn via FCCBs', 'Global Brokerages raise target price on Titan post Q4 show', 'Ideas for Profit | Titan posts strong Q4 sales growth, but one-offs cause margins to contract', 'What makes Bandhan the most expensive bank in the country?', 'Yes Bank falls 2% after India Ratings downgrades long term ratings', 'Rain Industries: Operational improvement on track; end-market headwind remains', 'Top buy and sell ideas by Sudarshan Sukhani, Mitessh Thakkar, Prakash Gaba for short term', \"Podcast | Stock picks of the day: 'Nifty could go towards 11,300-11,200 in short term'\", 'Stocks in the news: HCL Tech, Asian Paints, Titan, Dilip Buildcon, Alembic Pharma, Yes Bank'], ['Buy Asian Paints; target of Rs 1525: ICICI Direct', 'Hold Varun Beverages; target of Rs 1040: ICICI Direct', 'Delta Corp tanks 7% on report of Rs 6,189-cr GST evasion; co denies allegations', 'D-St Buzz: Nifty Metal drags as Tata Steel tanks 7%; Zee Ent jumps 4%, SBI rises', 'Buy HCL Technologies; target of Rs 1250: Nalanda Securities', 'Accumulate Supreme Industries; target of Rs 1122: Dolat Capital', 'Buy PNB Housing Finance; target of Rs 875: Motilal Oswal', 'Buy Or Sell | Nifty likely to trend lower; buy Federal Bank', 'Buy HCL Technologies; target of Rs 1250: Sharekhan', 'Thyssenkrupp expects its joint venture with Tata Steel to fail; stock tanks 7%', 'Accumulate Asian Paints; target of Rs 1433: Prabhudas Lilladher', 'Buy HCL Technologies; target of Rs 1250: HDFC Securities', 'Buy KEC International; target of Rs 351: Cholamandalam Securities', 'Accumulate HCL Technologies; target of Rs 1230: Dolat Capital', 'Hold KEC International; target of Rs 315: ICICI Direct', 'Hold Tata Communications; target of Rs 540: ICICI Direct', 'Buy Titan Company; target of Rs 1290: ICICI Direct', 'Buy Brigade Enterprises; target of Rs 330: ICICI Direct', 'D-Street Buzz: Nifty IT in red dragged by HCL Tech; Bharti Airtel jumps 3%, PSU banks gain', 'EURINR is expected to move sideways: Angel Broking', 'Soybean prices to trade sideways to higher: Angel Commodities', 'Macquarie, Deutsche Bank and Credit Suisse raise target price for HCL Tech post Q4', 'Reliance Industries gains nearly 2% on acquisition of Hamleys', 'Asian Paints Q4 misses estimates; global brokerages slash target price', 'Welspun Corp gains nearly 3% as board to consider buyback', 'Weekly Tactical Pick: ICICI Bank', 'Podcast | Stock picks of the day: Why Britannia and HUL are a buy for short term', 'Top buy and sell ideas by Sudarshan Sukhani, Mitessh Thakkar, Prakash Gaba for short term', 'Stocks in the news: Reliance Industries, SBI, L&T, Voltas, HCL Tech, Welspun Corp, GSPL'], ['Buy State Bank of India; target of Rs 427: Prabhudas Lilladher', 'Buy Larsen and Toubro; target of Rs 1744: Prabhudas Lilladher', 'Buy Titan Company; target of Rs 1264: Prabhudas Lilladher', 'Buy Kalpataru Power Transmission; target of Rs 565: Prabhudas Lilladher', 'Hold Eicher Motors; target of Rs 20161: Prabhudas Lilladher', 'Buy State Bank of India; target of Rs 400: ICICI Direct', 'Buy Larsen and Toubro; target of Rs 1680: ICICI Direct', \"Chart check | Here's what should investors should do with Sun Pharma, Eicher Motors now\", 'Buy Voltas; target of Rs 690: Dolat Capital', 'Buy Castrol India; target of Rs 175: Keynotes Financial Opiniery', 'Accumulate Cyient; target of Rs 621: Prabhudas Lilladher', 'Hold Avenue Supermarts; target of Rs 1228: Prabhudas Lilladher', 'Hold Voltas; target of Rs 584: Prabhudas Lilladher', 'Buy HCL Technologies; target of Rs 1186: Prabhudas Lilladher', 'Buy Larsen and Toubro; target of Rs 1850: Motilal Oswal', 'Buy Strides Pharma; target of Rs 635: Motilal Oswal', 'Buy State Bank of India; target of Rs 380: Motilal Oswal', 'Buy State Bank of India; target of Rs 390: Sharekhan', 'Buy Larsen and Toubro; target of Rs 1655: Sharekhan', 'Buy Apollo Tyres; target of Rs 230: Sharekhan', 'Buy Kalpataru Power Transmission; target of Rs 552: Sharekhan', 'Accumulate Kalpataru Power Transmission; target of Rs 530: Dolat Capital', 'Sell Gujarat State Petronet; target of Rs 172: Dolat Capital', 'Sun Pharma shares dive 21% just days after US lawsuit over inflated prices', 'Buy Titan Company; target of Rs 1245: Dolat Capital', 'Hold Gujarat State Petronet; target of Rs 180: ICICI Direct', 'Hold Apollo Tyres; target of Rs 180: ICICI Direct', 'ITC Q4 review: Cigarette volume play, broader growth levers positive; accumulate', 'Hold HCL Technologies; target of Rs 1190: ICICI Direct', 'D-St Buzz: Over 300 stocks hit new 52-week low on BSE; Sun Pharma, Eicher Motors crack', 'Delta Corp touches 52-week low on report of GST evasion', \"'Momentum favours a down move, but Nifty in a strong technical support zone'\", 'Buy Mahanagar Gas; target of Rs 1050: ICICI Direct', 'Buy Hikal; target of Rs 205: ICICI Direct', 'Buy Kalpataru Power; target of Rs 550: ICICI Direct', 'Buy Apollo Tyres; target of Rs 242: Dolat Capital', 'Buy Or Sell | Trade cautiously, be very stock specific', 'Welspun Corp falls 4% as NCLT approves scheme of amalgamation', 'D-St Buzz: Nifty PSU Bank underperforms dragged by PNB, BoB; Eicher Motors, YES Bank fall 3-5% each', 'Vakrangee falls 4% on poor Q4 show', 'Buy USDINR; target of 70.20 - 70.30: ICICI Direct', 'Cotton prices to trade sideways to lower: Angel Commodities', 'L&T falls 2% as board approves merger with L&T Shipbuilding', 'Cadila Healthcare hits 52-week low after CLSA downgrades to sell, target cuts', 'IDFC First Bank plunges 8% on Q4 loss of Rs 218 crore', 'Eicher Motors falls 5% post Q4 results; CLSA cuts target price', 'Is the worst over for SBI? Brokerages see up to 30% upside post Q4 result', 'Jet Airways falls 5% after Etihad emerges as the only non-binding bidder out of 4 suitors', 'Indiabulls Housing Finance falls 2% post Moody’s corporate family rating', 'Ideas for Profit | SBI: Profits in FY20 likely to surge on improving asset quality; buy', \"Podcast | Stock picks of the day: 'Watch out for 11,260–11,200 on Nifty, this week'\", 'Top buy and sell ideas by Sudarshan Sukhani, Mitessh Thakkar, Prakash Gaba for short term', 'Stocks in the news: ITC, HDFC, Eicher Motors, Indiabulls Housing, Relaxo Footwears, SRF'], ['Buy Dilip Buildcon; target of Rs 737: HDFC Securities', 'Buy Gujarat State Petronet; target of Rs 209: HDFC Securities', 'Buy ITC; target of Rs 320: Dolat Capital', 'Buy Relaxo Footwear; target of Rs 967: Dolat Capital', 'Buy NOCIL; target of Rs 221: Prabhudas Lilladher', 'Buy HDFC; target of Rs 2274: Prabhudas Lilladher', 'Buy ITC; target of Rs 369: Prabhudas Lilladher', 'Hold Eicher Motors; target of Rs 19000: ICICI Direct', 'Hold Tata Steel; target of Rs 475: ICICI Direct', 'Buy Cyient; target of Rs 730: Motilal Oswal', 'Buy HDFC; target of Rs 2330: Motilal Oswal', 'Buy State Bank of India; target of Rs 383: HDFC Securities', 'Buy ITC; target of Rs 398: HDFC Securities', 'Buy Larsen and Toubro; target of Rs 1794: HDFC Securities', 'Buy Vinati Organics; target of Rs 2034: HDFC Securities', 'Buy Parag Milk Foods; target of Rs 305: Motilal Oswal', 'Buy Equitas Holdings; target of Rs 160: Motilal Oswal', 'Buy PVR; target of Rs 1950: Motilal Oswal', 'Buy Oberoi Realty; target of Rs 628: Motilal Oswal', 'Buy Housing Development Finance Corporation; target of Rs 2300: Sharekhan', 'Buy ITC; target of Rs 347: Sharekhan', 'D-St Buzz: Nifty PSU Bank ends 3% higher, Bharti Airtel jumps 5%, IT stocks close in red', 'Buy Relaxo Footwears; target of Rs 969: Sharekhan', 'Buy Inox Leisure; target of Rs 375: Sharekhan', 'Hold GlaxoSmithKline Consumer Healthcare; target of Rs 7931: Sharekhan', 'Gold prices are expected to trade higher today: Angel Commodities', 'Buy IDFC First Bank; target of Rs 55: Prabhudas Lilladher', 'Accumulate PNB Housing; target of Rs 835: Arihant Capital', 'Buy Larsen and Toubro; target of Rs 1600: Dolat Capital', 'Tariff Play | Trade war cloud darkens, but India sees a silver lining', 'Buy Or Sell | Stay cautious; buy Tech Mahindra, sell BEL', 'Hold Solar Industries India; target of Rs 1075: ICICI Direct', 'Hold PVR; target of Rs 1910: ICICI Direct', 'Buy GSK Consumer; target of Rs 8340: ICICI Direct', 'Hold Voltas; target of Rs 605: ICICI Direct', 'Voltas Q4: Cooling products disappoint yet again', 'D-Mart: Healthy revenue growth in Q4 but margins contract', 'D-St Buzz: 300 stocks hit 52-week low on BSE; TCS, Tech Mahindra down 2% each, BHEL spikes', 'EURINR is expected to depreciate: Angel Broking', 'Ideas for Profit | HDFC’s consistent performance makes it a safe bet in uncertain times; must buy', 'D-St Buzz: Nifty IT underperforms dragged by Tech Mahindra; Tata Steel down 2%, PSU banks gain', 'ITC Q4 review: Improving FMCG margin profile indicates operating leverage at work', 'Top buy and sell ideas by Sudarshan Sukhani, Mitessh Thakkar, Prakash Gaba for short term', 'Stocks in the news: Siemens, Godrej Industries, Avadh Sugar, Engineers India, Aarti Industries', 'Why investors should consider Trent despite its stretched valuations?'], ['Buy MT Educare; target of Rs 145: Khambatta Securities', 'Buy Parag Milk Foods; target of Rs 342: SPA Securities', 'Accumulate Shakti Pumps; target of Rs 465: Arihant Capital', 'Hold Oberoi Realty; target of Rs 568: Arihant Capital', 'Buy Indian Bank; target of Rs 300: ICICI Direct', 'Buy Nestlé India; target of Rs 12000: ICICI Direct', 'Accumulate Nestle India; target of Rs 10742: Prabhudas Lilladher', 'Accumulate Mahanagar Gas; target of Rs 998: Dolat Capital', 'Buy Mahanagar Gas; target of Rs 1036: KR Choksey', 'Buy Minda Corporation; target of Rs 173: KR Choksey', 'Accumulate State Bank of India; target of Rs 351: KR Choksey', 'SRF: Growth in chemicals adds shine to Q4; accumulate', 'Buy JMC Projects; target of Rs 173: HDFC Securities', \"DCB Bank, UPL and SRF among Sanctum's picks that could give double-digit returns\", 'Buy Dalmia Bharat; target of Rs 1450: HDFC Securities', 'D-St Buzz: Over 200 stocks hit new 52-week low on BSE; Tata Motors, YES Bank fall 7-8% each', 'Buy Vodafone Idea; target of Rs 20: Motilal Oswal', 'Hold HDFC; target of Rs 2195: ICICI Direct', 'V-Mart Retail: Growing competition could impact future margin', 'Buy Inox Leisure; target of Rs 385: ICICI Direct', 'Buy Oberoi Realty; target of Rs 600: ICICI Direct', 'Buy Trident; target of Rs 81: Motilal Oswal', 'Buy Indian Bank; target of Rs 280: Motilal Oswal', 'Karur Vysya Bank dips 5% post Q4 numbers', 'Hold Vardhman Textiles; target of Rs 1230: ICICI Direct', 'Ideas for Profit | Nestle: Steady domestic showing in Q1 CY19 with continued focus on new launches', 'Buy ITC; target of Rs 340: ICICI Direct', 'Buy USDINR; target of 70.70 - 70.80: ICICI Direct', \"'Auto sector at its bottom; three stocks to trade on technicals'\", 'Nifty Media underperforms as Zee Ent falls 5%; Titan hits new 52-week high', 'Union Bank of India net loss widens; brokerages cut target price', 'Will a stable government unleash a market rally similar to 2014?', 'Nestle Q1 in line with estimates: Should investors buy, sell or hold?', 'Orchid Pharma locked at upper circuit on USFDA nod', 'Podcast | Stock picks of the day: A close above 11,300-11,350 could trigger short coverings', 'Top buy and sell ideas by Sudarshan Sukhani, Mitessh Thakkar, Prakash Gaba for short term', 'Stocks in the news: Lupin, Torrent Power, Orchid Pharma, UCO Bank, PTC India, Nestle'], ['Demerger of consumer business – what it means for Tata Chemicals', \"Chart Check: Here's what you should do with Tata Chemicals and Tata Global\", 'Bajaj Finance rises 4% on strong Q4 numbers', 'Buy Or Sell | Nifty will remain volatile till May 23', 'Soybean futures expected to trade sideways to higher: Angel Commodities', 'Expect Gold futures to trade sideways: Angel Commodities', 'Chart Check: Here’s what to do with SRF, Titan Co that hit 52-week high', 'Phoenix Mills rises 5% on better Q4 show', 'D-St Buzz: Nifty Pharma underperforms dragged by Sun Pharma; Zee Ent, Tata Motors down 3% each', 'Jubilant FoodWorks Q4 profit rises 8%: should investors buy, sell or hold?', 'Slideshow | 10 buying ideas from brokerages to give 7-60% return in medium term', 'Ashok Leyland gains on order win for 400 minibuses from Senegal', 'Deutsche Bank raise target price on Tata Chemicals post merger announcement', 'Lupin falls after Q4 results, USFDA observations; CLSA maintains sell call', 'Central Bank of India falls 8% on widening losses in Q4', 'Tata consumer business: Not just a consolidation, aims to be an FMCG giant', 'Podcast | Stock picks of the day: A close below 11,100 could take Nifty towards 10,900', 'Top buy and sell ideas by Sudarshan Sukhani, Mitessh Thakkar, Prakash Gaba for short term', 'Stocks in the news: Hindalco, Tata Chemicals, Lupin, J&K Bank, Mahindra Holidays, Central Bank'], ['The Market Podcast | Stocks struggle as foreign funds turn sellers, local traders edgy ahead of poll results', 'Hold SKF India; target of Rs 1845: ICICI Direct', 'Hold DB Corp; target of Rs 210: ICICI Direct', 'Hold Petronet LNG; target of Rs 245: ICICI Direct', 'Hold Gujarat Pipavav; target of Rs 90: ICICI Direct', 'Hold Shankara Building Products; target of Rs 485: ICICI Direct', 'Hold Mangalore Refinery and Petrochem; target of Rs 70: ICICI Direct', 'Buy Pidilite Industries; target of Rs 1335: ICICI Direct', 'Buy Tata Global Beverages; target of Rs 250: ICICI Direct', 'Buy Aditya Birla Fashion and Retail; target of Rs 240: ICICI Direct', 'Constructive on Indian stocks in medium-term; like steel and cement space: Bharat Iyer', 'D-St Buzz: FMCG stocks rally led by Godrej Cons, Tata Global; Maruti jumps 2%, pharma drags', 'Top 10 large, mid & smallcap stocks MFs bought in April; do you own any?', 'Buy Petronet LNG; target of Rs 300: Motilal Oswal', 'Buy Torrent Power; target of Rs 300: Motilal Oswal', 'Buy Or Sell | Expect strong pullback from current level', 'Ideas for Profit | Bajaj Finance’s stellar FY19 earnings make it stand out in the troubled NBFC space', 'Buy Amara Raja Batteries; target of Rs 761: Motilal Oswal', 'Buy D B Corp; target of Rs 215: Motilal Oswal', 'Buy Siemens; target of Rs 1290: Motilal Oswal', 'Buy Phoenix Mills; target of Rs 785: Motilal Oswal', 'Buy Hindalco; target of Rs 253: Motilal Oswal', 'Soybean prices to trade sideways to higher: Angel Commodities', 'D-St Buzz: FMCG stocks gain led by HUL; Bajaj Finance spikes 5%, Kotak Bank at new 52-week high', 'Buy USDINR; target of 70.55 - 70.65: ICICI Direct', 'Why should you look at this quality NBFC amid the crisis in the space?', 'Bajaj Finance hits 52-week high, brokerages up target price post Q4 show', 'Weekly Tactical Pick: Tata Consumer Products aka Tata Global Beverages', 'Mindtree gains as L&T increases stake to 26.48%', 'Aurobindo Pharma falls 6% as USFDA classified inspection as OAI', 'Podcast | Stock picks of the day: Avoid creating short positions; use volatility to buy stocks', 'Top buy and sell ideas by Sudarshan Sukhani, Mitessh Thakkar, Prakash Gaba for short term', 'Stocks in the news: Bajaj Auto, PNB, Manappuram Finance, Blue Dart, ACE, Mindtree'], ['Soybean futures expected to trade sideways: Angel Commodities', 'D-St Buzz: PSU banks surge led by SBI, BoB; HDFC hits 52-week high, RIL jumps 4%', \"Editor's Take | Markets surge post exit polls, will rally sustain?\", 'A2Z Infra Engineering locked at 10% upper circuit on OTS', 'VRL Logistics gains 4% on strong Q4 numbers', 'Gold prices are expected to trade lower today: Angel Commodities', 'Welspun Enterprises rises 10% on provisional completion certificate', 'As exit polls suggest thumping victory for Modi, experts pick these 10 stocks', 'Cipla gains 2% on zero observations for Indore facility', 'Buy Larsen & Toubro with target Rs 1,894: Anand Rathi', 'Deepak Nitrite may touch Rs 346: Anand Rathi', 'Buy ICICI Lombard General Insurance with target Rs 1,210: Anand Rathi', 'Which companies are best placed to ride out the slowdown in consumption?', 'Podcast | Stock picks of the day: A favourable outcome could attract attention towards midcaps', 'Top buy and sell ideas by Sudarshan Sukhani, Mitessh Thakkar, Prakash Gaba for short term', 'Stocks in the news: Tata Motors, BPCL, Cipla, Alkem Lab, Fortis Health, TRF'], ['Buy CESC; target of Rs 860: Sharekhan', 'Buy PI Industries; target of Rs 1280: Sharekhan', 'Hold Shree Cement; target of Rs 22,130: Sharekhan', 'Hold Bajaj Finserv; target of Rs 8250: Sharekhan', 'Hold Gabriel India; target of Rs 145: Sharekhan', 'Hold Arvind; target of Rs 95: Sharekhan', 'Hold Bajaj Auto; target of Rs 3250: Sharekhan', 'Buy UPL; target of Rs 1086: Sharekhan', 'Balaji Amines Q4: Volume play, green nod for key projects big positives', 'Marico and Axis Bank among top three picks by Religare Broking', 'D-Street Buzz: Nifty Auto underperforms dragged by Tata Motors; Zee Ent falls 3%, VIX spikes', 'Tata Motors slips 8% on dismal Q4 numbers; CLSA maintains sell', 'Is the exit poll euphoria here to stay?', 'Soybean futures expected to trade sideways: Angel Commodities', 'Gold prices are expected to trade lower today: Angel Commodities', \"Here's why Maruti, Ashok Leyland & Hero Moto are poised for a good upmove\", \"'Sustained trade above 11,870 can take Nifty towards 12,200'\", \"D-St Buzz: Pharma stocks gain led by Dr Reddy's Labs, RIL gains, Tata Motors falls 4%\", 'Nearly 200 BSE500 stocks more than double investor’s wealth during Modi’s tenure; time to sell?', 'Panacea Biotec gains 9% on USFDA approval for Azacitidine Injection', 'Podcast | Stock picks of the day: Nifty likely to consolidate till May 23; Small & midcaps eyed', 'Top buy and sell ideas by Sudarshan Sukhani, Mitessh Thakkar, Prakash Gaba for short term', 'Stocks in the news: Tata Motors, DLF, Tech Mahindra, Adani Green, HPCL, Panacea Biotec, GAIL'], ['Hold Shree Cement; target of Rs 19,370: Prabhudas Lilladher', 'Hold Bharat Forge; target of Rs 513: Prabhudas Lilladher', 'Accumulate Sharda Cropchem; target of Rs 401 Prabhudas Lilladher', 'Accumulate Pidilite Industries; target of Rs 1184 Prabhudas Lilladher', 'Buy Tech Mahindra; target of Rs 847 Prabhudas Lilladher', 'Buy Tata Motors; target of Rs 192 Prabhudas Lilladher', 'Buy Dhanuka Agritech; target of Rs 578 Prabhudas Lilladher', 'Buy Triveni Turbine; target of Rs 124 Prabhudas Lilladher', 'Buy Indian Oil Corporation; target of Rs 207 Prabhudas Lilladher', 'Buy P.I. Industries; target of Rs 1278 Prabhudas Lilladher', 'PRIDX sells Dish TV shares worth Rs 35 crore, Nomura Singapore buys stake in Vikas Multicorp', 'Arvind Q4 review: Near-term challenges to persist', 'D-St Buzz: Bank Nifty in green led by IndusInd Bank; L&T hits new 52-week high, VIX zooms', \"Here's why PI Industries and Manappuram Finance are among Sanctum's top 4 picks\", '3 Point Analysis | OMCs report healthy Q4, should you invest ?', 'Buy or Sell | Market will see upmove after election results', 'Soybean futures expected to trade sideways: Angel Commodities', 'Gold prices expected to trade lower today: Angel Commodities', 'Triveni Engineering slips 3% despite reporting profit in Q4', 'D-Street Buzz: OMCs gain led by BPCL & HPCL; ITC falls 2%, Kotak Bank at fresh 52-week high', 'What should investors do with Tech Mahindra post Q4: buy, sell or hold?', 'Ideas for Profit | Tech Mahindra posts a subdued Q4; caution advised', 'Sintex Plastics Technology gains 5% as company to sell its auto division', 'Alkali Metals rises 8% on EIR from USFDA; board may consider dividend on May 27', 'Podcast | Stock picks of the day: Nifty to trade in a broader range of 11,400-12,000 for this week', 'Edelweiss Financial Services: Near-term headwinds, but long-term outlook promising', 'Top buy and sell ideas by Sudarshan Sukhani, Mitessh Thakkar, Prakash Gaba for short term', 'Stocks in the news: Tech Mahindra, Cipla, Alkali Metals, JB Chemicals, Edelweiss Financial'], ['Accumulate Chambal Fertilizers; target of Rs 185: Dolat Capital', 'Sell Infosys; target of Rs 700: Dolat Capital', 'Sell Khadim India; target of Rs 343: Dolat Capital', 'Buy Crompton Greaves Consumer Electricals; target of Rs 275: Dolat Capital', 'Buy Subros; target of Rs 323: Dolat Capital', 'Buy Jubilant Life Sciences; target of Rs 750: Dolat Capital', 'Buy UPL; target of Rs 1206: Dolat Capital', 'Buy Lumax Industries; target of Rs 1800: Dolat Capital', 'Buy Gulf Oil Lubricant; target of Rs 1017: Dolat Capital', 'Buy KEI Industries; target of Rs 505: Dolat Capital', 'Blue-Chips that doubled investor wealth in last 5 years would continue to do so under Modi 2.0', 'D-St Buzz: Nifty FMCG in red with ITC down 3%; Zee Entertainment jumps 5%, VIX plunges', 'How should investors be positioned for Modi 2.0?', 'PSU banks rally 3-13%, SBI hits record high', 'D-St Buzz: Nifty PSU Bank zooms 7% led by BoB; Adani group stocks spikes, SBI at new 52-week high', 'IndusInd Bank jumps 5% as brokerages remain strong despite weak Q4 earnings', 'Podcast | Stock picks of the day: Nifty will find support at 11,100-11,000 despite volatility on Thursday', 'Top buy and sell ideas by Sudarshan Sukhani, Mitessh Thakkar, Prakash Gaba for short term', 'Stocks in the news: BoB, HDFC Bank, Thermax, Biocon, Cummins, Bodal Chemicals, GSFC', 'As market prepares for Modi 2.0, here are 13 stocks to invest in for five years'], [\"ADAG's exit from Reliance Nippon AMC to allay investor fears, may trigger re-rating\", 'Gruh Finance tanks 8% after HDFC offloads stake to meet RBI conditions', 'D-St Buzz: PSU banks surge led by BoB; ICICI Bank at record high, auto stocks rally', 'Ashok Leyland jumps 6% ahead of March quarter earnings', 'Unichem Laboratories gains 6% on strong Q4 show', 'Salzer up 15%, SPIC 10% on strong Q4 earnings', 'Bodal Chemicals Q4: Weak quarter, but strategic decisions hold promise; accumulate', 'Thermax gains 1% as Q4 profit beats estimates; brokerages offer mixed outlook', 'HPCL, BPCL, IOC rally up to 5% as oil stares at biggest weekly loss in 2019', 'Soybean futures expected to trade sideways: Angel Commodities', 'Gold prices are expected to trade higher today: Angel Commodities', 'Why should Relaxo be on your buy list?', 'Sun TV tanks 6% on weak Q4 results; brokerages cut price target', 'Jet Airways tanks 8% after Etihad & Hinduja fail to strike a deal', 'Time to build equity exposure for medium to long term, these 5 stocks could give double digit return', 'Glenmark Pharma falls 1% after USFDA issues VAI status', 'Zydus Wellness gains as NCLT approves scheme of amalgamation', 'Weekly Tactical Pick: Federal Bank has room for a re-rating', 'D-Street Buzz: Zee Entertainment, L&T rise 3-5% each, PSU banks gain, VIX dives', 'Ideas for Profit | Add IndusInd Bank after soft Q4 on IL&FS recognition', 'OM Metals Infraprojects rises 6% on partly sale of packing division', 'JMC Projects gains 9% on orders win of Rs 616 crore', 'Investors are advised to remain cautious as upside in Nifty seems limited', 'Stocks in the news: Cipla, Ashok Leyland, Reliance Capital, eClerx, Om Metals, Moil', 'Top buy and sell ideas by Sudarshan Sukhani, Mitessh Thakkar, Prakash Gaba for short term', 'Podcast | Stock picks of the day: Nifty likely to move in a range of 11,450-11,800 in next few days'], [\"'Buy these 3 PSU banks that formed bullish patterns'\", 'Aster DM, Vascon, Kingfa, Insecticides, AVT Natural rally 7-11% after Q4 show', 'D-Street Buzz: Over 100 stocks hit new 52-week low on BSE; PNB down 3%, Zee Ent most active', 'Page Industries: Don’t overlook long-term prospects amid short-term disappointment', 'JBM Auto jumps 5% on better Q4 show', 'D-Street Buzz: Bank Nifty drags led by ICICI Bank, SBI; Zee Ent jumps 5%, HDFC slips', 'Buy Or Sell | Midcap, smallcap are the sectors to watch out for; buy DLF', 'Emami Q4 hit by seasonality and rural slowdown, but some headwinds easing', 'Gold prices are expected to trade higher today: Angel Commodities', 'Brokerages remain bullish on Motherson Sumi despite weak Q4, see 24-59% upside', 'Slideshow | Super six picks by brokerages that can return 12-83%', \"IndiGo hits record high after Q4 earnings beat estimates; brokerages' opinion mixed\", 'D-Street Buzz: Bank Nifty is green led by YES Bank, Zee Ent up 2%; metals shine', 'HEG – Margin pressure to intensify before it gets better; accumulate', 'Adani Ports gains 3% on strong Q4 show; CLSA maintains buy', 'Colgate Q4 impact: Global brokerages maintain positive view but cut price target', 'Global brokerage firms downgrade ZEE Ent, cut target price post Q4 results', 'Stock picks of the day: HSIL, Surya Roshni could see Golden Crossover breakout; here’s why', 'Top buy and sell ideas by Sudarshan Sukhani, Rajat Bose, Prakash Gaba for short term', 'Stocks in the news: Sun Pharma, Reliance Capital, Adani Ports, Zee Entertainment, Natco Pharma'], ['Buy Phoenix Mills; target of Rs 765: ICICI Direct', 'Buy Jubilant Life Sciences; target of Rs 710: ICICI Direct', 'Buy Siyaram Silk Mills; target of Rs 410: ICICI Direct', 'Buy Torrent Pharmaceuticals; target of Rs 1940: ICICI Direct', 'Buy Bajaj Finance; target of Rs 3700: ICICI Direct', 'Buy Jammu and Kashmir Bank; target of Rs 65: ICICI Direct', 'Buy Wonderla Holidays; target of Rs 380: ICICI Direct', 'Buy TV Today Network; target of Rs 340: ICICI Direct', 'Buy CESC; target of Rs 845: ICICI Direct', 'Buy City Union Bank; target of Rs 240: ICICI Direct', 'Buy JK Cement; target of Rs 1150: ICICI Direct', 'Buy Navneet Education; target of Rs 130: ICICI Direct', 'Buy Bharat Forge; target of Rs 535: ICICI Direct', 'Buy Phillips Carbon Black; target of Rs 160: ICICI Direct', 'Buy TCI Express; target of Rs 780: ICICI Direct', 'Buy Ramco Cement; target of Rs 950: ICICI Direct', 'Buy Somany Ceramics; target of Rs 475: ICICI Direct', 'Buy Bank of Baroda; target of Rs 170: ICICI Direct', 'Buy IndusInd Bank; target of Rs 1860: ICICI Direct', 'Buy Thermax; target of Rs 1170: ICICI Direct', 'Buy Sagar Cements; target of Rs 800: ICICI Direct', 'Buy JK Lakshmi Cement; target of Rs 485: ICICI Direct', 'Info Edge climbs 4% to hit record high after Q4 show; CLSA raises target', 'D-Street Buzz: Nifty PSU Bank down 2.5% led by SBI, PNB; Zee Entertainment top loser', 'Bata Q4: Steep valuations restrict upside', 'Ideas for Profit | Aarti Industries Q4: Strong domestic demand aids outlook; accumulate on dips', 'Short covering can push Nifty towards 12,200: SMC Global', 'PNB falls 4% on reporting huge loss in Q4; Morgan Stanley remains bearish', 'ICICI Lombard shares gain 3% on reports of likely stake sale by Warburg Pincus', 'Prestige Estates Projects hits 52-week high; brokerages bullish on stock, raise target', 'CreditAccess Grameen – A reasonably valued micro-lending NBFC defying slowdown', 'Global brokerages stay positive on Sun Pharma, see 14-31% upside after Q4', \"'Sustained trade above 11,950 can take Nifty beyond 12K'\", 'Top buy and sell ideas by Sudarshan Sukhani, Rajat Bose, Prakash Gaba for short term', 'Podcast | Stock picks of the day: Nifty likely to trade in 11,500-12,000 levels ahead of expiry', 'Stocks in the news: Sun Pharma, Aurobindo, Jaypee Infratech, NMDC, Gati, Adani Power'], ['Volume Shockers: Jindal Drilling, Deep Industries, Jagran Prakashan, Jubilant Life top the charts', 'Alkem Laboratories gains 3% post Q4 nos', \"World Cup portfolio: IIFL picks winning combo of 11 'players' for investors\", 'D-Street Buzz: TCS, Bharti Airtel jump 2% each; RIL most active, autos drag', 'Vaibhav Global rises 4% as board approves buyback', \"CLSA downgrades Mahindra's on weak Q4 show, other brokerages cut target\", 'Buy Or Sell | Expect any corrections to be short lived as trend is firmly up', 'June F&O series: 5 stocks that can give double-digit returns', \"Havells India Q4 profit falls to Rs 207 cr; here's what global brokerages say\", 'Gold prices are expected to trade sideways today: Angel Commodities', 'Soybean futures expected to trade sideways: Angel Commodities', 'D-Street Buzz: Infra stocks gain led by NTPC; Bharti Airtel gains, Eicher Motors falls', 'TTK Prestige falls 2%; Credit Suisse downgrades stock after Q4 show', 'Q4 impact: Global brokerages cut target price for Cadila Healthcare', 'Strong investment push may take Nifty to 15K in 2 years; bet on these 10 stocks', 'United Spirits falls nearly 4% on poor Q4 show; Macquarie maintains neutral', 'West Coast Paper jumps 13% on decision to acquire stake in International Paper APPM', 'Top buy and sell ideas by Sudarshan Sukhani, Rajat Bose, Prakash Gaba for short term', 'Podcast | Stock picks of the day: Nifty has major support between 11,600-11,500', 'Stocks in the news: Power Grid, United Spirits, Nava Bharat, BEL, SJVN, GNFC, Manpasand, Cholamandalam'], ['D-St Buzz: PSU banks fall the most led by Union Bank; TCS gains, YES Bank down 4%', 'Buy Or Sell | Stay stock specific, trade cautiously', 'D-Street Buzz: Banking index in red dragged by YES Bank, Union Bank; VIX jumps', 'PC Jeweller slips nearly 9% on posting losses in Q4', 'Buy midcaps as history suggests broader market performs well in the first year of new govt', 'Weekly Tactical Pick: Dabur', 'ONGC trims marginally on dismal Q4 show, brokerages maintain positive outlook', 'Galaxy Surfactants Q4: FMCG growth slowdown tempers near-term outlook', 'Glenmark Pharma wilts 3% on muted Q4 show, CLSA downgrades to sell', 'D-Street Buzz: IT stocks gain led by Tech Mahindra; HDFC Bank at record high, Just Dial falls', 'GIC Re: Muted premium growth and higher taxes mar FY19 earnings', 'Gold prices are expected to trade higher today: Angel Commodities', 'Coal India surges 2% on strong Q4 earnings; brokerages raise price target', 'Berger Paints gains 7% on better Q4 show', 'Podcast | Stock picks of the day: IT index showing signs of strength; TCS top buy', 'Top buy and sell ideas by Sudarshan Sukhani, Rajat Bose, Prakash Gaba for short term', 'Is there more steam left in gold financing companies?', 'Stocks in the news: ONGC, Coal India, IDBI Bank, Jain Irrigation, Jet Airways'], ['Hold V-Guard Industries; target of Rs 255: Sharekhan', 'Hold Finolex Cables; target of Rs 515: Sharekhan', 'Hold Rico Auto Industries; target of Rs 70: Sharekhan', 'Hold Glenmark Pharmaceuticals; target of Rs 595: Sharekhan', 'Hold Century Plyboards (India); target of Rs 190: Sharekhan', 'Hold Max Financial Services; target of Rs 480: Sharekhan', 'Hold Cadila Healthcare; target of Rs 290: Sharekhan', 'Buy Sadbhav Engineering; target of Rs 285: Sharekhan', 'Aurobindo Pharma slips 5% after detailed USFDA observations to unit 3', 'Buy Ratnamani Metals and Tubes; target of Rs 1150: Sharekhan', 'Buy Titan Company; target of Rs 1375: Sharekhan', 'D-St Buzz: RIL, TCS, Maruti jump 2% each; Titan Company hits new record high', \"'Long build-up in Bank Nifty ahead of RBI policy meet; range capped at 32K'\", \"'These three IT stocks poised for an up move in coming days'\", 'TVS Motor Company jumps 4% after May sales increase sequentially', 'D-Street Buzz: Metal stocks shine led by Tata Steel; Asian Paints jumps 3%, RIL most active', 'M&M gains 2% after Canadian fund buys stake for Rs 1,244 cr', 'EURINR is expected to appreciate: Angel Broking', 'Buy Larsen & Toubro with target of Rs 1,894: Anand Rathi', 'Buy Tata Consultancy Services, target Rs 2,510: Anand Rathi', 'Buy ITC with a target at Rs 352: Anand Rathi', 'Ideas for Profit: Why you should look at Shaily Engineering Plastics despite weak Q4', 'Nifty in medium term uptrend; buy on dips: Axis Securities', 'D-St Buzz: Nifty Auto outperforms led by Hero Moto, Bajaj Auto; HDFC hits new 52-week high', 'Hero MotoCorp climbs 5% after reporting better than expected sales for May', 'Brokerages initiate coverage on these 10 mid & small-cap stocks in May; 15-36% returns expected', 'Bajaj Auto gains 3% after May sales beat analyst expectations', \"'Nifty Bank likely to see resistance at 32,000; deploy Bull Call Spread'\", 'Top buy and sell ideas by Ashwani Gujral, Sudarshan Sukhani, Mitessh Thakkar for short term', \"Podcast | Stock picks of the day: Here's why you should buy Godrej Consumer and Raymond\", 'Stocks in the news: Eicher Motors, Escorts, Dilip Buildcon, SML Isuzu, Atul Auto, NTPC'], ['A rate cut appears certain, but may be weak medicine', 'Buy Lupin; target of Rs 930: HDFC Securities', 'Buy Jubilant FoodWorks; target of Rs 1739: HDFC Securities', 'Buy Capacite Infraprojects; target of Rs 351: HDFC Securities', 'Buy Bajaj Auto; target of Rs 3330: HDFC Securities', 'Buy Jubilant Life Sciences; target of Rs 915: HDFC Securities', 'Buy Neuland Labs; target of Rs 920: HDFC Securities', 'Buy City Union Bank; target of Rs 240: HDFC Securities', 'Buy Sobha; target of Rs 652: HDFC Securities', 'Buy Indian Oil Corporation; target of Rs 190: HDFC Securities', 'Buy Balaji Amines; target of Rs 525: HDFC Securities', \"Ideas for Profit: Ruchira Papers' future hinges on success of its ambitious capex plans\", 'Buy or Sell | Stay stock specific, trade cautiously', 'BHEL gains 2% on order win from Indian Railways', 'Sell USDINR; target of 69.05 - 68.95: ICICI Direct', 'Soybean prices to trade sideways to lower: Angel Commodities', 'PSU banks turn top gainers on hopes of repo rate cut, FY20 fund infusion', 'Should one look at Equitas Holdings and Ujjivan Financial Services now?', \"'ICICI, Axis Bank fall after Fitch downgrade; CLSA sees no impact on earnings'\", 'Q4 stars: Nearly 200 cos more than doubled their profit; should you buy?', \"'Technical setup for Indian markets bullish; target for Nifty at 12,430'\", 'Podcast | Stock picks of the day: Any dip towards 12,040 could be used to create long positions', 'Top buy and sell ideas by Ashwani Gujral, Sudarshan Sukhani, Mitessh Thakkar for short term', 'Stocks in the news: Dr Reddys, Wipro, ICICI Bank, L&T Technology, GE Power, M&M'], [], ['RBI rate cut – A non-event that raises more questions on the market rally', 'Marksans Pharma rallies 5% after Goa unit receives EIR from USFDA', 'Buy PSP Projects; target of Rs 579: HDFC Securities', 'Eros International locked in 20% lower circuit after CARE downgrade', 'Buy Oil India; target of Rs 234: HDFC Securities', 'Buy Teamlease Services; target of Rs 3500: HDFC Securities', 'Buy Sun Pharma; target of Rs 600: HDFC Securities', 'DHFL tanks 16% after rating downgrade; what should investors do?', 'Buy KNR Constructions; target of Rs 363: HDFC Securities', 'VA Tech Wabag gains after signing concession agreement under Namami Gange programme', 'Buy Hindustan Petroleum Corporation; target of Rs 346: HDFC Securities', 'Buy IndusInd Bank; target of Rs 1964: HDFC Securities', 'Buy Crompton Consumer; target of Rs 300: HDFC Securities', 'Buy DLF; target of Rs 258: HDFC Securities', 'Buy Maithan Alloys; target of Rs 900: HDFC Securities', 'Buy PNC Infratech; target of Rs 339: HDFC Securities', 'Buy Aurobindo Pharma; target of Rs 800: HDFC Securities', 'Buy Max Financial; target of Rs 661: HDFC Securities', 'Buy Jagran Prakashan; target of Rs 151: HDFC Securities', 'Buy Alkem Labs; target of Rs 2250: HDFC Securities', 'Buy Ramkrishna Forgings; target of Rs 620: HDFC Securities', 'Buy Sadbhav Engineering; target of Rs 353: HDFC Securities', 'Buy Entertainment Network; target of Rs 696: HDFC Securities', 'D-St Buzz: Over 150 stocks hit new 52-week low on BSE; SBI, IndusInd Bank fall 3-6% each', 'Buy ONGC; target of Rs 191: HDFC Securities', 'Buy Repco Home Finance; target of Rs 592: HDFC Securities', 'Buy Or Sell | Nifty may extend upmove towards 12350-12400', 'GAIL India shares plummet 10%; CLSA downgrades stock to underperform', 'RBI cuts repo rate by 25 bps; these 10 rate-sensitive stocks are likely to benefit the most', 'EURINR is expected to move sideways: Angel Broking', 'Crude Palm oil prices to trade sideways to lower: Angel Commodities', 'Indoco Remedies declines 2% as USFDA issues 4 observations for Goa plant', 'Natco Pharma dips 2% after USFDA issues 9 observations to Kothur unit', 'Will Adani Ports’ share buyback create value for its shareholders?', 'Bharat Forge shares slip after North America Class 8 truck orders fall sharply', \"Here's how rate-sensitive stocks reacted after the RBI tweaked policy rates\", 'Tata Motors falls after weak UK sales by Jaguar Land Rover', 'PSP Projects hits 52-week high on orders win worth Rs 155 crore', 'DHFL’s default can accentuate contagion risk; ICICI Bank, HDFC among top picks: CLSA', 'Ideas for Profit | RITES: A quality pick from a growing space', 'Top buy and sell ideas by Ashwani Gujral, Sudarshan Sukhani, Mitessh Thakkar for short term', \"Podcast | Stock picks of the day: Here's why Dabur and ACC are buy ideas\", 'Stocks in the news: Tata Motors, Wipro, DHFL, Lupin, Indoco Remedies, PSP Projects'], ['Markets@Moneycontrol │ What to do to negate volatility?', 'The Market Podcast | Investors remain cautious despite Sensex hitting record high', 'Why is Indiabulls exiting real estate business? Is RBI the reason?', 'Himadri Speciality primed for high-end carbon applications despite hurdles', 'Voltas rallies 5% on hopes that scorching summer will boost Q1FY20 sales', 'Explainer | RBI policy transmission: Why such a big buzz?', 'Simplex Infrastructure sinks 18% after ICICI Direct raises concerns over its debt position', 'D-Street Buzz: Bank Nifty in green led by ICICI Bank, SBI; Tech Mahindra gains, ADAG stocks fall', 'ICICI Pru Life up 2% after Emkay maintains buy call, sees 15% upside', 'Cyient adds 1% on investment in rail cybersecurity firm', 'Linde India drops 1% on CFO resignation', 'CreditAccess Grameen rises 2% on first securitisation in FY20', 'CESC gains 2% after Citi raises price target, upgrades to buy', 'SpiceJet falls 3% after HSBC downgrades to reduce', 'Gold prices are expected to trade higher today: Angel Commodities', 'Sell USDINR; target of  69.25 - 69.15: ICICI Direct', \"D-Street Buzz: Over 100 stocks hit new 52-week low on BSE; Dr Reddy's Labs down 2%, RIL drags\", 'Tactical pick – SBI', \"Motilal Oswal handpicks 10 'focus' stocks post Q4 earnings; do you own any?\", 'Ideas for Profit: Strong demand from downstream firms aids Seya Industries outlook', 'Golden Cross on charts: Buy Bharat Electronics, PFC and NMDC for double digit returns', \"Bajaj Finance stands out while NBFCs struggle: Here's why\", \"As Sensex rallied from 30k to 40k, these 23 stocks more than doubled investors' wealth\", 'Sagar Cements gains 3% on robust May sales data', 'Slideshow | ONGC, Bharti Airtel among top stocks likely to give 16-50% upside', 'Podcast | Stock picks of the day: 11,800 on Nifty likely to act as vital support', 'Top buy and sell ideas by Ashwani Gujral, Mitessh Thakkar, Prakash Gaba for short term', 'Stocks in the news: Wipro, Indiabulls Real, Just Dial, Cyient, CreditAccess, JSW Steel'], ['Hold Sun Pharmaceutical Industries; target of Rs 460: Sharekhan', 'Hold Zydus Wellness; target of Rs 1410: Sharekhan', 'Hold IRB Infrastructure Developers; target of Rs 150: Sharekhan', 'Hold Gayatri Projects; target of Rs 200: Sharekhan', \"Infosys, Voltas among Axis Securities' top 4 trading ideas\", 'Buy Divi’s Laboratories; target of Rs 1850: Sharekhan', 'Buy Bharti Airtel; target of Rs 390: Sharekhan', 'Buy Oil India; target of Rs 230: Sharekhan', 'Buy Info Edge (India); target of Rs 2100: Sharekhan', 'D-Street Buzz: Over 200 stocks hit 52-week low on BSE; BPCL, YES Bank down 3% each, Infosys gains', 'Eros International tanks 10% after allegations of potential wrongdoing at parent firm', 'Explainer | RBI’s new June 7 circular on NPA resolution', 'Crude Oil prices are expected to trade higher today: Angel Commodities', \"'Maruti Suzuki, IGL among 4 stocks that offer healthy upside potential'\", 'EURINR is expected to trade higher: Angel Broking', 'BoB one of the best PSU banks to invest and hold: Akash Jain', \"'As long as Nifty trades above 11,760, maintain buy on dips'\", 'Explainer | Why ‘leverage ratio’ is so important for banks', 'D-Street Buzz: IT index outperforms led by Tech Mahindra; Titan at new 52- week high, Eros Media tanks', 'J&K Bank tanks 20% on removal of Chairman Parvez Ahmad', 'New NPA circular from RBI – A significant number of cases may be headed to NCLT', 'These 17 BSE100 stocks saw three FY20 earning upgrades in last 4 qtrs; should you buy?', 'L&T gains on orders win by construction arm', 'Globus Spirits gains 4% on upward revision of country liquor selling rates', 'Podcast | Stock picks of the day: Nifty likely to trade in a range of 11,704-12,000', 'Top buy and sell ideas by Ashwani Gujral, Sudarshan Sukhani, Mitessh Thakkar for short term', 'Stocks in the news: Bharat Forge, SBI, Mindtree, Atul, KPR Mill, Zodiac Clothing'], ['Buy Repco Home Finance; target of Rs 500: Motilal Oswal', 'Buy Tech Mahindra; target of Rs 900: Motilal Oswal', 'Buy The Ramco Cement; target of Rs 880: Motilal Oswal', 'Buy Jindal Steel and Power; target of Rs 217: Motilal Oswal', 'Buy Bharat Forge; target of Rs 595: Motilal Oswal', 'Buy Shree Cement; target of Rs 23,400: Motilal Oswal', 'Buy Tech Mahindra; target of Rs 900: Motilal Oswal', 'Buy Jubilant Life Sciences; target of Rs 800: Motilal Oswal', 'Buy PI Industries; target of Rs 1266: Motilal Oswal', 'Buy IOC; target of Rs 198: Motilal Oswal', 'Buy Coal India; target of Rs 307: Motilal Oswal', 'D-Street Buzz: Bank Nifty outshines led by YES Bank; Zee Ent, Tata Motors jump 2-3% each', 'Bharat Dynamics gains 6% on signing contract worth Rs 1187 crore', \"Here’s why M&M, Concor and KEC International are Yes Securities' top short-term picks\", 'Buy USDINR; target of 69.85 - 69.95: ICICI Direct', 'Gold prices are expected to trade higher today: Angel Commodities', 'BHEL rises 2% on order wins worth Rs 440 crore', 'D-St Buzz: Over 150 stocks hit new 52-week low on BSE; Sun Pharma down 3%, YES Bank gains', 'Zensar Technologies rises 8% on partnership with NetApp, Cisco', 'PSU banks to continue their rally; SBI, Bank of Baroda and Canara Bank top bets', 'Bharat Financial Inclusion rises nearly 3% as NCLT approves scheme of arrangement', 'Sterlite Technologies surges 11% on removing entire pledge on shares', 'Indiabulls Housing plunges 8% on allegation of siphoning off nearly 1 lakh cr', 'Eveready Industries slips 3% on rating downgrade by India Ratings', 'High mercury levels in Q1 FY20 will work in favour of this AC manufacturer', 'Podcast | Stock picks of the day: Nifty likely to consolidate within 11,600-12,000 range', 'Top buy and sell ideas by Ashwani Gujral, Sudarshan Sukhani, Mitessh Thakkar for short term', 'Stocks in the news: DHFL, Wipro, Zensar, Vodafone Idea, Lupin, RIL, Muthoot Capital', 'DHFL pays some investor dues, completes stake sale in Aadhar Housing'], ['Buy IndusInd Bank; target of Rs 1900: Motilal Oswal', 'Buy Sun TV Network; target of Rs 690: Motilal Oswal', 'Buy Ashoka Buildcon; target of Rs 175: Motilal Oswal', 'Buy HDFC Bank; target of Rs 2780: Motilal Oswal', 'Buy Cadila Health; target of Rs 345: Motilal Oswal', 'Buy Power Grid; target of Rs 233: Motilal Oswal', 'Buy Bharat Electronics; target of Rs 130: Motilal Oswal', 'Buy United Spirits; target of Rs 675: Motilal Oswal', 'Buy Motherson Sumi; target of Rs 144: Motilal Oswal', 'Buy NTPC; target of Rs 158: Motilal Oswal', 'Indiabulls Housing sinks 8% after it moves SC challenging misappropriation allegations', 'Varun Beverages shares gain ahead of board meeting for bonus issue', 'Welspun Enterprises gains 3% on receiving bonus for early completion of project', 'D-Street Buzz: Auto stocks slip led by Maruti; banking stocks drag, Indiabulls Housing most active', 'Reliance Capital, Rel Home Finance plunge 7% after statutory auditor resigns', 'Simplex Infrastructures tanks 6% after CARE revises outlook to negative', 'DHFL jumps 7% after it pays interest of Rs 961 crore on NCDs', 'Cotton prices are expected to trade sideways today: Angel Commodities', 'Maruti Suzuki dips 2% after Deutsche Bank cuts price target', 'EURINR is expected to appreciate: Angel Broking', 'Slideshow | Brokerages bet on these 5 stocks for 12-34% upside in medium term', 'D-Street Buzz: Metal stocks shine led by JSPL; Tata Steel jumps 2%, YES Bank falls', 'Yes Bank falls 3% after another board member resigns', 'Ideas for Profit: Which footwear stock offers the right fit for investors?', \"IndusInd Bank gains after Deutsche Bank retains 'buy', sees 20% upside\", 'Motherson Sumi climbs 3% as Credit Suisse remains positive, says valuation attractive', 'AU Small Finance Bank gains as Edelweiss initiates coverage, sees 24% upside', 'Will Jaypore, TG Apparel be a good fit for Aditya Birla Fashion and Retail?', 'Vidhi Specialty: Strong boost to earnings potential from business model rejig', 'Top buy and sell ideas by Ashwani Gujral, Sudarshan Sukhani, Mitessh Thakkar for short term', 'Podcast | Stock picks of the day: Markets to consolidate in the range of 11,800-12,100'], ['Yes Bank -- A falling knife, but should you catch it?', 'Buy H.G. Infra Engineering; target of Rs 456: Dolat Capital', 'Buy Mphasis; target of Rs 1150: Dolat Capital', 'Buy PNC Infratech; target of Rs 283: Dolat Capital', 'Buy Havells India; target of Rs 830: Dolat Capital', 'Buy JBM Auto; target of Rs 390: Dolat Capital', 'Buy Power Grid Corporation; target of Rs 245: Dolat Capital', 'Buy KNR Constructions; target of Rs 369: Dolat Capital', 'Accumulate Wonderla Holidays; target of Rs 327: Dolat Capital', 'Accumulate Amara Raja Batteries; target of Rs 687: Dolat Capital', 'Accumulate Jubilant Foodworks; target of Rs 1355: Dolat Capital', 'Accumulate Sharda Cropchem; target of Rs 415: Dolat Capital', 'Buy Jamna Auto Industries; target of Rs 70: Dolat Capital', 'Buy Astral Poly Technik; target of Rs 1447: Dolat Capital', 'Buy Page Industries; target of Rs 24,866: Dolat Capital', 'Mishra Dhatu Nigam climbs 4% on order worth Rs 197 cr', 'Buy Ramkrishna Forgings; target of Rs 640: Dolat Capital', 'Buy Indraprastha Gas; target of Rs 376: Dolat Capital', 'D-Street Buzz: Over 200 stocks hit 52-week low on BSE; Jet Airways plunges 20%, Zee Ent gains', 'Accumulate Petronet LNG; target of Rs 249: Dolat Capital', 'Tata Sponge Iron gains 2% as board approves right issue of Rs 1,650cr', 'Accumulate Bajaj Finance; target of Rs 3700: Dolat Capital', 'Buy Or Sell | Short term traders should be very stock specific', 'Accumulate Tech Mahindra; target of Rs 880: Dolat Capital', 'Accumulate Ashok Leyland; target of Rs 109: Dolat Capital', 'Accumulate Bata India; target of Rs 1415: Dolat Capital', 'Accumulate Sterling Tools; target of Rs 234: Dolat Capital', 'Accumulate Suven Life Sciences; target of Rs 310: Dolat Capital', 'Indiabulls Housing Finance soars after writ petition withdrawn', 'Accumulate Colgate Palmolive (India); target of Rs 1329: Dolat Capital', 'Accumulate GAIL (India); target of Rs 396: Dolat Capital', 'Avenue Supermarts falls 2% as brokerages see rich valuation, rising competition', 'Ideas for Profit: Which housing finance companies stand out in current challenging times?', 'Bharti Airtel gains after CLSA maintains positive view, sees 18% upside', 'Gold prices are expected to trade sideways today: Angel Commodities', 'Ambuja, Shree Cement, ACC shares fall 1-2% after Nomura downgrade', 'D-Street Buzz: Nifty PSU Bank underperforms dragged by PNB; YES Bank tanks 9%, hits new 52-week low', 'A contrarian call amid the global noise – Select IT names may be offering a favourable risk-reward trade-off', 'Buy USDINR; target of 69.70 - 69.80: ICICI Direct', 'Yes, IndusInd Bank plummet 6-9% after UBS cuts price target sharply', 'Adani Enterprises gains 3% on final nod for Australian coal mine', 'Tiger Logistics gains 3% on contract wins from Piaggio Vehicles', 'Podcast | Stock picks of the day: Broader market undergoing secondary phase of correction', 'Top buy and sell ideas by Ashwani Gujral, Sudarshan Sukhani, Mitessh Thakkar for short term', 'Stocks in the news: Tata Motors, Wipro, SAIL, Music Broadcast, PFC, Tiger Logistics, Reliance Nippon'], ['Markets@Moneycontrol │ Volatile Week', 'Biocon hits 52-week low despite getting CGMP from EU regulator for Bengaluru unit', 'Accumulate Tata Motors; target of Rs 192: Prabhudas Lilladher', 'Accumulate Siemens; target of Rs 1263: Prabhudas Lilladher', 'Accumulate Hero MotoCorp; target of Rs 2784: Prabhudas Lilladher', 'Accumulate Apar Industries; target of Rs 795: Prabhudas Lilladher', 'Accumulate Mphasis; target of Rs 1111: Prabhudas Lilladher', 'Accumulate Motherson Sumi Systems; target of Rs 131: Prabhudas Lilladher', 'Accumulate GAIL (India); target of Rs 482: Prabhudas Lilladher', 'Smartlink Holdings hits 52-week high on buyback approval', 'Hold Info Edge (India); target of Rs 2350: Sharekhan', 'Buy Inox Leisure; target of Rs 390: Sharekhan', 'Buy Bajaj Holdings and Investment; target of Rs 4548: Sharekhan', 'Buy Housing Development Finance Corporation; target of Rs 2500: Sharekhan', 'Buy KEC International; target of Rs 375: Sharekhan', 'PI Industries surges 3% after CRISIL reaffirms rating; hits record high', 'Veto Switchgears jumps 5% on realisation of unsecured loan', 'Kalpataru Power gains 2% after PhillipCapital initiates coverage, sees 37% upside', 'Aurobindo Pharma falls 5% after USFDA points out data integrity lapses in Bachupally unit', 'With broadbased rally likely for next 2-3 years, here are three stocks that could return 9-22%', 'Adani Gas climbs 7% as French energy major eyes 30% stake', 'Morgan Stanley overweight on 6 stocks which could return 6-49%; do you own any?', 'EURINR is expected to trade sideways: Angel Broking', 'Crude Palm oil prices to trade sideways to lower: Angel Commodities', 'Markets@Moneycontrol │ Volatile Week', 'Biocon hits 52-week low despite getting CGMP from EU regulator for Bengaluru unit', 'Accumulate Tata Motors; target of Rs 192: Prabhudas Lilladher', 'Accumulate Siemens; target of Rs 1263: Prabhudas Lilladher', 'Accumulate Hero MotoCorp; target of Rs 2784: Prabhudas Lilladher', 'Accumulate Apar Industries; target of Rs 795: Prabhudas Lilladher', 'Accumulate Mphasis; target of Rs 1111: Prabhudas Lilladher', 'Accumulate Motherson Sumi Systems; target of Rs 131: Prabhudas Lilladher', 'Accumulate GAIL (India); target of Rs 482: Prabhudas Lilladher', 'Smartlink Holdings hits 52-week high on buyback approval', 'Hold Info Edge (India); target of Rs 2350: Sharekhan', 'Buy Inox Leisure; target of Rs 390: Sharekhan', 'Buy Bajaj Holdings and Investment; target of Rs 4548: Sharekhan', 'Buy Housing Development Finance Corporation; target of Rs 2500: Sharekhan', 'Buy KEC International; target of Rs 375: Sharekhan', 'PI Industries surges 3% after CRISIL reaffirms rating; hits record high', 'Veto Switchgears jumps 5% on realisation of unsecured loan', 'Kalpataru Power gains 2% after PhillipCapital initiates coverage, sees 37% upside', 'Aurobindo Pharma falls 5% after USFDA points out data integrity lapses in Bachupally unit', 'With broadbased rally likely for next 2-3 years, here are three stocks that could return 9-22%', 'Adani Gas climbs 7% as French energy major eyes 30% stake', 'Morgan Stanley overweight on 6 stocks which could return 6-49%; do you own any?', 'EURINR is expected to trade sideways: Angel Broking', 'Crude Palm oil prices to trade sideways to lower: Angel Commodities', 'Slideshow | Analysts bet on these 8 stocks for 9-16% return in short term', 'Dr Reddys Labs slips 2% on agreement to sell neurology branded products', 'With a rangebound market, could SIPs in these top 16 medium-high risk stocks give 18-25% return p.a.', 'D-Street Buzz: Infra stocks gain led by L&T; Zee Entertainment falls 4%, Gruh Finance most active', 'Wockhardt climbs 4% after bioequivalence centre meets USFDA standards', 'Gruh Finance plunges 7% as HDFC reduces stake', 'Hexaware Tech gains 3% on acquisition of Mobiquity Inc', 'RITES rallies 6% on mulling bonus issue', 'Ideas for Profit | Atul & Amal: Strong performance across the chemical value chain', 'Top buy and sell ideas by Ashwani Gujral, Mitessh Thakkar, Prakash Gaba for short term', 'Podcast | Stock picks of the day: Nifty likely to see resistance around 12,000-12,030 levels', 'Stocks in the news: Wockhardt, Trent, Wipro, Intellect Design, Reliance Home, Hindalco, Ceat']]\n"
          ],
          "name": "stdout"
        }
      ]
    },
    {
      "cell_type": "code",
      "metadata": {
        "id": "JSKHE0qGSJEp",
        "colab_type": "code",
        "colab": {}
      },
      "source": [
        "# A list of contractions from http://stackoverflow.com/questions/19790188/expanding-english-language-contractions-in-python\n",
        "contractions = { \n",
        "\"ain't\": \"am not\",\n",
        "\"aren't\": \"are not\",\n",
        "\"can't\": \"cannot\",\n",
        "\"can't've\": \"cannot have\",\n",
        "\"'cause\": \"because\",\n",
        "\"could've\": \"could have\",\n",
        "\"couldn't\": \"could not\",\n",
        "\"couldn't've\": \"could not have\",\n",
        "\"didn't\": \"did not\",\n",
        "\"doesn't\": \"does not\",\n",
        "\"don't\": \"do not\",\n",
        "\"hadn't\": \"had not\",\n",
        "\"hadn't've\": \"had not have\",\n",
        "\"hasn't\": \"has not\",\n",
        "\"haven't\": \"have not\",\n",
        "\"he'd\": \"he would\",\n",
        "\"he'd've\": \"he would have\",\n",
        "\"he'll\": \"he will\",\n",
        "\"he's\": \"he is\",\n",
        "\"how'd\": \"how did\",\n",
        "\"how'll\": \"how will\",\n",
        "\"how's\": \"how is\",\n",
        "\"i'd\": \"i would\",\n",
        "\"i'll\": \"i will\",\n",
        "\"i'm\": \"i am\",\n",
        "\"i've\": \"i have\",\n",
        "\"isn't\": \"is not\",\n",
        "\"it'd\": \"it would\",\n",
        "\"it'll\": \"it will\",\n",
        "\"it's\": \"it is\",\n",
        "\"let's\": \"let us\",\n",
        "\"ma'am\": \"madam\",\n",
        "\"mayn't\": \"may not\",\n",
        "\"might've\": \"might have\",\n",
        "\"mightn't\": \"might not\",\n",
        "\"must've\": \"must have\",\n",
        "\"mustn't\": \"must not\",\n",
        "\"needn't\": \"need not\",\n",
        "\"oughtn't\": \"ought not\",\n",
        "\"shan't\": \"shall not\",\n",
        "\"sha'n't\": \"shall not\",\n",
        "\"she'd\": \"she would\",\n",
        "\"she'll\": \"she will\",\n",
        "\"she's\": \"she is\",\n",
        "\"should've\": \"should have\",\n",
        "\"shouldn't\": \"should not\",\n",
        "\"that'd\": \"that would\",\n",
        "\"that's\": \"that is\",\n",
        "\"there'd\": \"there had\",\n",
        "\"there's\": \"there is\",\n",
        "\"they'd\": \"they would\",\n",
        "\"they'll\": \"they will\",\n",
        "\"they're\": \"they are\",\n",
        "\"they've\": \"they have\",\n",
        "\"wasn't\": \"was not\",\n",
        "\"we'd\": \"we would\",\n",
        "\"we'll\": \"we will\",\n",
        "\"we're\": \"we are\",\n",
        "\"we've\": \"we have\",\n",
        "\"weren't\": \"were not\",\n",
        "\"what'll\": \"what will\",\n",
        "\"what're\": \"what are\",\n",
        "\"what's\": \"what is\",\n",
        "\"what've\": \"what have\",\n",
        "\"where'd\": \"where did\",\n",
        "\"where's\": \"where is\",\n",
        "\"who'll\": \"who will\",\n",
        "\"who's\": \"who is\",\n",
        "\"won't\": \"will not\",\n",
        "\"wouldn't\": \"would not\",\n",
        "\"you'd\": \"you would\",\n",
        "\"you'll\": \"you will\",\n",
        "\"you're\": \"you are\"\n",
        "}\n"
      ],
      "execution_count": 0,
      "outputs": []
    },
    {
      "cell_type": "code",
      "metadata": {
        "id": "XAP_HqgEj_8G",
        "colab_type": "code",
        "colab": {}
      },
      "source": [
        "def clean_text(text, remove_stopwords = True):\n",
        "    '''Remove unwanted characters and format the text to create fewer nulls word embeddings'''\n",
        "    \n",
        "    # Convert words to lower case\n",
        "    text = text.lower()\n",
        "    \n",
        "    # Replace contractions with their longer forms \n",
        "    if True:\n",
        "        text = text.split()\n",
        "        new_text = []\n",
        "        for word in text:\n",
        "            if word in contractions:\n",
        "                new_text.append(contractions[word])\n",
        "            else:\n",
        "                new_text.append(word)\n",
        "        text = \" \".join(new_text)\n",
        "    \n",
        "    # Format words and remove unwanted characters\n",
        "    text = re.sub(r'&amp;', '', text) \n",
        "    text = re.sub(r'0,0', '00', text) \n",
        "    text = re.sub(r'[_\"\\-;%()|.,+&=*%.,!?:#@\\[\\]]', ' ', text)\n",
        "    text = re.sub(r'\\'', ' ', text)\n",
        "    text = re.sub(r'\\$', ' $ ', text)\n",
        "    text = re.sub(r'u s ', ' united states ', text)\n",
        "    text = re.sub(r'u n ', ' united nations ', text)\n",
        "    text = re.sub(r'u k ', ' united kingdom ', text)\n",
        "    text = re.sub(r'j k ', ' jk ', text)\n",
        "    text = re.sub(r' s ', ' ', text)\n",
        "    text = re.sub(r' yr ', ' year ', text)\n",
        "    text = re.sub(r' l g b t ', ' lgbt ', text)\n",
        "    text = re.sub(r'0km ', '0 km ', text)\n",
        "    \n",
        "    # Optionally, remove stop words\n",
        "    if remove_stopwords:\n",
        "        text = text.split()\n",
        "        stops = set(stopwords.words(\"english\"))\n",
        "        text = [w for w in text if not w in stops]\n",
        "        text = \" \".join(text)\n",
        "\n",
        "    return text"
      ],
      "execution_count": 0,
      "outputs": []
    },
    {
      "cell_type": "code",
      "metadata": {
        "id": "jj1txYdTkICL",
        "colab_type": "code",
        "colab": {}
      },
      "source": [
        "import re\n",
        "from nltk.corpus import stopwords\n",
        "import nltk\n",
        "# nltk.download('stopwords')\n",
        "# Clean the headlines\n",
        "clean_headlines = []\n",
        "\n",
        "for daily_headlines in headlines[0]:\n",
        "  clean_daily_headlines = []\n",
        "  print(daily_headlines)\n",
        "  \n",
        "  \n",
        "#   for headline in daily_headlines:\n",
        "#     #txt = clean_text(headline)\n",
        "#     #print(txt)\n",
        "#     clean_daily_headlines.append(txt)\n",
        "# #   print(clean_daily_headlines)\n",
        "#   clean_headlines.append(clean_daily_headlines)"
      ],
      "execution_count": 0,
      "outputs": []
    },
    {
      "cell_type": "code",
      "metadata": {
        "id": "YJ2-PeX5kakI",
        "colab_type": "code",
        "outputId": "b380d165-dac3-4ae6-851e-fe19d4bcb22a",
        "colab": {
          "base_uri": "https://localhost:8080/",
          "height": 34
        }
      },
      "source": [
        "clean_headlines[0]"
      ],
      "execution_count": 0,
      "outputs": [
        {
          "output_type": "execute_result",
          "data": {
            "text/plain": [
              "[]"
            ]
          },
          "metadata": {
            "tags": []
          },
          "execution_count": 43
        }
      ]
    },
    {
      "cell_type": "markdown",
      "metadata": {
        "id": "UQzTQ8tDrYWD",
        "colab_type": "text"
      },
      "source": [
        "News Collection from reuters"
      ]
    },
    {
      "cell_type": "code",
      "metadata": {
        "id": "pXxRGL_Sldp2",
        "colab_type": "code",
        "colab": {}
      },
      "source": [
        "from bs4 import BeautifulSoup\n",
        "import datetime\n",
        "import pickle\n",
        "import requests"
      ],
      "execution_count": 0,
      "outputs": []
    },
    {
      "cell_type": "code",
      "metadata": {
        "id": "6xsxv1wWrfOC",
        "colab_type": "code",
        "outputId": "a736c0fe-71cd-4819-9e16-e8af482c9404",
        "colab": {
          "base_uri": "https://localhost:8080/",
          "height": 34
        }
      },
      "source": [
        "stocks = ['AAPL.OQ' , 'AMZN.OQ' , 'KO.N' , 'TSLA.O' ,'INFY.NS' ]\n",
        "print(stocks[-1])"
      ],
      "execution_count": 0,
      "outputs": [
        {
          "output_type": "stream",
          "text": [
            "INFY.NS\n"
          ],
          "name": "stdout"
        }
      ]
    },
    {
      "cell_type": "code",
      "metadata": {
        "id": "5pfVA0kdsVl0",
        "colab_type": "code",
        "colab": {}
      },
      "source": [
        "from pandas_datareader import data \n",
        "dataset = data.DataReader('infy' , 'yahoo' ,datetime.datetime(2019,6,1),datetime.datetime.now())"
      ],
      "execution_count": 0,
      "outputs": []
    },
    {
      "cell_type": "code",
      "metadata": {
        "id": "n8aK5v4bsmcp",
        "colab_type": "code",
        "outputId": "aefa30d9-361c-41f4-c773-fbfe5a0b3160",
        "colab": {
          "base_uri": "https://localhost:8080/",
          "height": 34
        }
      },
      "source": [
        "print(dataset.index[10])"
      ],
      "execution_count": 0,
      "outputs": [
        {
          "output_type": "stream",
          "text": [
            "2019-06-17 00:00:00\n"
          ],
          "name": "stdout"
        }
      ]
    },
    {
      "cell_type": "code",
      "metadata": {
        "id": "oB-wiuP9suCj",
        "colab_type": "code",
        "outputId": "971c33b6-d299-4c41-992a-62dec3ee3370",
        "colab": {
          "base_uri": "https://localhost:8080/",
          "height": 52
        }
      },
      "source": [
        "start_date = dataset.index[6]\n",
        "end_date = dataset.index[-1]\n",
        "print(start_date)\n",
        "print(end_date)"
      ],
      "execution_count": 0,
      "outputs": [
        {
          "output_type": "stream",
          "text": [
            "2019-06-11 00:00:00\n",
            "2019-06-17 00:00:00\n"
          ],
          "name": "stdout"
        }
      ]
    },
    {
      "cell_type": "code",
      "metadata": {
        "id": "oRSf8EYjtspZ",
        "colab_type": "code",
        "colab": {}
      },
      "source": [
        "# def getNewsFor(date):\n",
        "#   file = open('news/' + date.strftime('%Y-%m-%d') + '.csv', 'w')\n",
        "#   print('Getting news for ' + date.strftime('%Y-%m-%d'))\n",
        "#   for i in range(len(stocks)):\n",
        "#     query = 'http://www.reuters.com/finance/stocks/companyNews?symbol=' + stocks[i] + '&date=' + format(date.month, '02d') + format(date.day, '02d') + str(date.year)\n",
        "#     print('Getting news for ' + stocks[i])\n",
        "\n",
        "#     response = requests.get(query)\n",
        "#     soup = BeautifulSoup(response.text, \"html.parser\")\n",
        "#     divs = soup.findAll('div', {'class': 'feature'})\n",
        "#     print('Found ' + str(len(divs)) + ' articles.')\n",
        "\n",
        "#     if(len(divs) == 0):\n",
        "#       continue\n",
        "\n",
        "#     data = u''\n",
        "#     for div in divs:\n",
        "#       data = data.join(div.findAll(text=True))\n",
        "#       file.write(stocks[i])\n",
        "#       file.write(',')\n",
        "#       file.write(data.replace('\\n', ' '))\n",
        "#       file.write('\\n')\n",
        "#   file.close()"
      ],
      "execution_count": 0,
      "outputs": []
    },
    {
      "cell_type": "code",
      "metadata": {
        "id": "mGUyXvWXtWez",
        "colab_type": "code",
        "colab": {}
      },
      "source": [
        "# #data = pd.DataFrame(columns = ['Stock' , 'News'])\n",
        "# while(start_date <= end_date):\n",
        "#   print(start_date)\n",
        "#   getNewsFor(start_date)\n",
        "#   start_date += datetime.timedelta(days = 1)\n",
        "  "
      ],
      "execution_count": 0,
      "outputs": []
    },
    {
      "cell_type": "code",
      "metadata": {
        "id": "HkBEKVfIuhcl",
        "colab_type": "code",
        "colab": {}
      },
      "source": [
        "mkdir news"
      ],
      "execution_count": 0,
      "outputs": []
    },
    {
      "cell_type": "code",
      "metadata": {
        "id": "4oxi6Z-S0FG2",
        "colab_type": "code",
        "outputId": "66aa61d9-220d-4329-debb-056a0efba998",
        "colab": {
          "base_uri": "https://localhost:8080/",
          "height": 34
        }
      },
      "source": [
        "cd news"
      ],
      "execution_count": 0,
      "outputs": [
        {
          "output_type": "stream",
          "text": [
            "/content/news\n"
          ],
          "name": "stdout"
        }
      ]
    },
    {
      "cell_type": "code",
      "metadata": {
        "id": "Ho0Ra3De1bl_",
        "colab_type": "code",
        "outputId": "d69d747f-bb40-4b0e-9a08-e0e686487787",
        "colab": {
          "base_uri": "https://localhost:8080/",
          "height": 34
        }
      },
      "source": [
        "ls"
      ],
      "execution_count": 0,
      "outputs": [
        {
          "output_type": "stream",
          "text": [
            "\u001b[0m\u001b[01;34msample_data\u001b[0m/\n"
          ],
          "name": "stdout"
        }
      ]
    },
    {
      "cell_type": "code",
      "metadata": {
        "id": "UkN1_M4lONWC",
        "colab_type": "code",
        "outputId": "3e602788-544a-4b92-d323-0711bb4808c5",
        "colab": {
          "base_uri": "https://localhost:8080/",
          "height": 34
        }
      },
      "source": [
        "cd .."
      ],
      "execution_count": 0,
      "outputs": [
        {
          "output_type": "stream",
          "text": [
            "/content\n"
          ],
          "name": "stdout"
        }
      ]
    },
    {
      "cell_type": "code",
      "metadata": {
        "id": "uh52YYDeOTaO",
        "colab_type": "code",
        "colab": {}
      },
      "source": [
        "rm -r news"
      ],
      "execution_count": 0,
      "outputs": []
    },
    {
      "cell_type": "code",
      "metadata": {
        "id": "D4xHUDILQBh0",
        "colab_type": "code",
        "outputId": "2072f602-8e0b-42c6-f938-970e55ea0c19",
        "colab": {
          "base_uri": "https://localhost:8080/",
          "height": 1233
        }
      },
      "source": [
        "while(start_date <= end_date):\n",
        "  date = start_date\n",
        "  file = open('/contents'  +  date.strftime('%Y-%m-%d') + '.csv', 'w')\n",
        "  for i in range(len(stocks)):  \n",
        "    query = 'https://www.reuters.com/finance/stocks/company-news/' + stocks[i] + '?date=' + format(date.month, '02d') + format(date.day, '02d') + str(date.year);\n",
        "    print(query)\n",
        "    response = requests.get(query)\n",
        "    soup = BeautifulSoup(response.text, \"html.parser\")\n",
        "    divs = soup.findAll('div', {'class': 'feature'})\n",
        "    print('Found ' + str(len(divs)) + ' articles. For ' + stocks[i])\n",
        "\n",
        "    for item in divs:\n",
        "      file.write(stocks[i])\n",
        "      file.write(',')\n",
        "      file.write(item.find(\"h2\").find(\"a\").string)\n",
        "      file.write('\\n')\n",
        "  file.close()\n",
        "  start_date += datetime.timedelta(days = 1) "
      ],
      "execution_count": 0,
      "outputs": [
        {
          "output_type": "stream",
          "text": [
            "https://www.reuters.com/finance/stocks/company-news/AAPL.OQ?date=06112019\n",
            "Found 3 articles. For AAPL.OQ\n",
            "https://www.reuters.com/finance/stocks/company-news/AMZN.OQ?date=06112019\n",
            "Found 3 articles. For AMZN.OQ\n",
            "https://www.reuters.com/finance/stocks/company-news/KO.N?date=06112019\n",
            "Found 0 articles. For KO.N\n",
            "https://www.reuters.com/finance/stocks/company-news/TSLA.O?date=06112019\n",
            "Found 0 articles. For TSLA.O\n",
            "https://www.reuters.com/finance/stocks/company-news/INFY.NS?date=06112019\n",
            "Found 0 articles. For INFY.NS\n",
            "https://www.reuters.com/finance/stocks/company-news/AAPL.OQ?date=06122019\n",
            "Found 2 articles. For AAPL.OQ\n",
            "https://www.reuters.com/finance/stocks/company-news/AMZN.OQ?date=06122019\n",
            "Found 1 articles. For AMZN.OQ\n",
            "https://www.reuters.com/finance/stocks/company-news/KO.N?date=06122019\n",
            "Found 0 articles. For KO.N\n",
            "https://www.reuters.com/finance/stocks/company-news/TSLA.O?date=06122019\n",
            "Found 4 articles. For TSLA.O\n",
            "https://www.reuters.com/finance/stocks/company-news/INFY.NS?date=06122019\n",
            "Found 0 articles. For INFY.NS\n",
            "https://www.reuters.com/finance/stocks/company-news/AAPL.OQ?date=06132019\n",
            "Found 1 articles. For AAPL.OQ\n",
            "https://www.reuters.com/finance/stocks/company-news/AMZN.OQ?date=06132019\n",
            "Found 6 articles. For AMZN.OQ\n",
            "https://www.reuters.com/finance/stocks/company-news/KO.N?date=06132019\n",
            "Found 0 articles. For KO.N\n",
            "https://www.reuters.com/finance/stocks/company-news/TSLA.O?date=06132019\n",
            "Found 0 articles. For TSLA.O\n",
            "https://www.reuters.com/finance/stocks/company-news/INFY.NS?date=06132019\n",
            "Found 0 articles. For INFY.NS\n",
            "https://www.reuters.com/finance/stocks/company-news/AAPL.OQ?date=06142019\n",
            "Found 8 articles. For AAPL.OQ\n",
            "https://www.reuters.com/finance/stocks/company-news/AMZN.OQ?date=06142019\n",
            "Found 0 articles. For AMZN.OQ\n",
            "https://www.reuters.com/finance/stocks/company-news/KO.N?date=06142019\n",
            "Found 0 articles. For KO.N\n",
            "https://www.reuters.com/finance/stocks/company-news/TSLA.O?date=06142019\n",
            "Found 0 articles. For TSLA.O\n",
            "https://www.reuters.com/finance/stocks/company-news/INFY.NS?date=06142019\n",
            "Found 0 articles. For INFY.NS\n",
            "https://www.reuters.com/finance/stocks/company-news/AAPL.OQ?date=06152019\n",
            "Found 0 articles. For AAPL.OQ\n",
            "https://www.reuters.com/finance/stocks/company-news/AMZN.OQ?date=06152019\n",
            "Found 0 articles. For AMZN.OQ\n",
            "https://www.reuters.com/finance/stocks/company-news/KO.N?date=06152019\n",
            "Found 0 articles. For KO.N\n",
            "https://www.reuters.com/finance/stocks/company-news/TSLA.O?date=06152019\n",
            "Found 0 articles. For TSLA.O\n",
            "https://www.reuters.com/finance/stocks/company-news/INFY.NS?date=06152019\n",
            "Found 0 articles. For INFY.NS\n",
            "https://www.reuters.com/finance/stocks/company-news/AAPL.OQ?date=06162019\n",
            "Found 0 articles. For AAPL.OQ\n",
            "https://www.reuters.com/finance/stocks/company-news/AMZN.OQ?date=06162019\n",
            "Found 0 articles. For AMZN.OQ\n",
            "https://www.reuters.com/finance/stocks/company-news/KO.N?date=06162019\n",
            "Found 0 articles. For KO.N\n",
            "https://www.reuters.com/finance/stocks/company-news/TSLA.O?date=06162019\n",
            "Found 0 articles. For TSLA.O\n",
            "https://www.reuters.com/finance/stocks/company-news/INFY.NS?date=06162019\n",
            "Found 0 articles. For INFY.NS\n",
            "https://www.reuters.com/finance/stocks/company-news/AAPL.OQ?date=06172019\n",
            "Found 1 articles. For AAPL.OQ\n",
            "https://www.reuters.com/finance/stocks/company-news/AMZN.OQ?date=06172019\n",
            "Found 1 articles. For AMZN.OQ\n",
            "https://www.reuters.com/finance/stocks/company-news/KO.N?date=06172019\n",
            "Found 0 articles. For KO.N\n",
            "https://www.reuters.com/finance/stocks/company-news/TSLA.O?date=06172019\n",
            "Found 1 articles. For TSLA.O\n",
            "https://www.reuters.com/finance/stocks/company-news/INFY.NS?date=06172019\n",
            "Found 0 articles. For INFY.NS\n"
          ],
          "name": "stdout"
        }
      ]
    },
    {
      "cell_type": "code",
      "metadata": {
        "id": "fTGh_RyOQidw",
        "colab_type": "code",
        "outputId": "51a6cc4d-a69c-4763-a3b4-ae35626e87d7",
        "colab": {
          "base_uri": "https://localhost:8080/",
          "height": 52
        }
      },
      "source": [
        "date = dataset.index[5]\n",
        "query = 'https://www.reuters.com/finance/stocks/company-news/' + stocks[-1] + '?date=' + format(date.month, '02d') + format(date.day, '02d') + str(date.year);\n",
        "print(query)\n",
        "response = requests.get(query)\n",
        "soup = BeautifulSoup(response.text, \"html.parser\")\n",
        "divs = soup.findAll('div', {'class': 'feature'})\n",
        "print('Found ' + str(len(divs)) + ' articles. For ' + stocks[-1])\n",
        "\n",
        "for item in divs:\n",
        "  print(item.find(\"h2\").find(\"a\").string)\n"
      ],
      "execution_count": 0,
      "outputs": [
        {
          "output_type": "stream",
          "text": [
            "https://www.reuters.com/finance/stocks/company-news/INFY.NS?date=06102019\n",
            "Found 0 articles. For INFY.NS\n"
          ],
          "name": "stdout"
        }
      ]
    },
    {
      "cell_type": "code",
      "metadata": {
        "id": "4LLvtJvNZ-AD",
        "colab_type": "code",
        "outputId": "c579dc2d-5162-4ac8-8a47-1588c54f032d",
        "colab": {
          "base_uri": "https://localhost:8080/",
          "height": 34
        }
      },
      "source": [
        "cd content/"
      ],
      "execution_count": 0,
      "outputs": [
        {
          "output_type": "stream",
          "text": [
            "/content\n"
          ],
          "name": "stdout"
        }
      ]
    },
    {
      "cell_type": "code",
      "metadata": {
        "id": "uGlhrSx8aDlZ",
        "colab_type": "code",
        "outputId": "8c935228-691b-4afc-f018-5880eaf5783d",
        "colab": {
          "base_uri": "https://localhost:8080/",
          "height": 34
        }
      },
      "source": [
        "ls"
      ],
      "execution_count": 0,
      "outputs": [
        {
          "output_type": "stream",
          "text": [
            "\u001b[0m\u001b[01;34msample_data\u001b[0m/\n"
          ],
          "name": "stdout"
        }
      ]
    },
    {
      "cell_type": "code",
      "metadata": {
        "id": "Ne5tgzhQaEI5",
        "colab_type": "code",
        "colab": {}
      },
      "source": [
        "rm AAPL_2019-06-14.csv"
      ],
      "execution_count": 0,
      "outputs": []
    },
    {
      "cell_type": "code",
      "metadata": {
        "id": "YW4MgCj7bv_4",
        "colab_type": "code",
        "outputId": "45988dd5-6e78-4272-9940-7317d98092e2",
        "colab": {
          "base_uri": "https://localhost:8080/",
          "height": 86
        }
      },
      "source": [
        "stocks = ['AAPL.OQ' , 'AMZN.OQ' , 'KO.N' , 'TSLA.O' ,'INFY.NS' ]\n",
        "print(stocks[-1])"
      ],
      "execution_count": 0,
      "outputs": [
        {
          "output_type": "stream",
          "text": [
            "\u001b[0m\u001b[01;34mbin\u001b[0m/      \u001b[01;34mdev\u001b[0m/   \u001b[01;34mlib32\u001b[0m/  \u001b[01;34mopt\u001b[0m/   \u001b[01;34msbin\u001b[0m/   \u001b[01;34mtensorflow-2.0.0a0\u001b[0m/  \u001b[01;34mvar\u001b[0m/\n",
            "\u001b[01;34mboot\u001b[0m/     \u001b[01;34metc\u001b[0m/   \u001b[01;34mlib64\u001b[0m/  \u001b[01;34mproc\u001b[0m/  \u001b[01;34msrv\u001b[0m/    \u001b[30;42mtmp\u001b[0m/\n",
            "\u001b[01;34mcontent\u001b[0m/  \u001b[01;34mhome\u001b[0m/  \u001b[01;34mmedia\u001b[0m/  \u001b[01;34mroot\u001b[0m/  \u001b[01;34mswift\u001b[0m/  \u001b[01;34mtools\u001b[0m/\n",
            "\u001b[01;34mdatalab\u001b[0m/  \u001b[01;34mlib\u001b[0m/   \u001b[01;34mmnt\u001b[0m/    \u001b[01;34mrun\u001b[0m/   \u001b[01;34msys\u001b[0m/    \u001b[01;34musr\u001b[0m/\n"
          ],
          "name": "stdout"
        }
      ]
    },
    {
      "cell_type": "code",
      "metadata": {
        "id": "M0yYk7WBbw_f",
        "colab_type": "code",
        "outputId": "c3c8f87b-b341-4d7e-f898-b7fd29c82b31",
        "colab": {
          "base_uri": "https://localhost:8080/",
          "height": 1233
        }
      },
      "source": [
        "df = pd.DataFrame(columns = ['Date' , 'Ticker' , 'News'])\n",
        "c = 0\n",
        "while(start_date <= end_date):\n",
        "  date = start_date\n",
        "  #file = open('/contents'  +  date.strftime('%Y-%m-%d') + '.csv', 'w')\n",
        "  for i in range(len(stocks)):  \n",
        "    query = 'https://www.reuters.com/finance/stocks/company-news/' + stocks[i] + '?date=' + format(date.month, '02d') + format(date.day, '02d') + str(date.year);\n",
        "    print(query)\n",
        "    response = requests.get(query)\n",
        "    soup = BeautifulSoup(response.text, \"html.parser\")\n",
        "    divs = soup.findAll('div', {'class': 'feature'})\n",
        "    print('Found ' + str(len(divs)) + ' articles. For ' + stocks[i])\n",
        "\n",
        "    for item in divs:\n",
        "      df.loc[c] = [\n",
        "                    str(date) ,\n",
        "                    str(stocks[i]),\n",
        "                    str(item.find(\"h2\").find(\"a\").string)\n",
        "                  ]\n",
        "      c += 1\n",
        "  start_date += datetime.timedelta(days = 1) "
      ],
      "execution_count": 0,
      "outputs": [
        {
          "output_type": "stream",
          "text": [
            "https://www.reuters.com/finance/stocks/company-news/AAPL.OQ?date=06112019\n",
            "Found 3 articles. For AAPL.OQ\n",
            "https://www.reuters.com/finance/stocks/company-news/AMZN.OQ?date=06112019\n",
            "Found 3 articles. For AMZN.OQ\n",
            "https://www.reuters.com/finance/stocks/company-news/KO.N?date=06112019\n",
            "Found 0 articles. For KO.N\n",
            "https://www.reuters.com/finance/stocks/company-news/TSLA.O?date=06112019\n",
            "Found 0 articles. For TSLA.O\n",
            "https://www.reuters.com/finance/stocks/company-news/INFY.NS?date=06112019\n",
            "Found 0 articles. For INFY.NS\n",
            "https://www.reuters.com/finance/stocks/company-news/AAPL.OQ?date=06122019\n",
            "Found 2 articles. For AAPL.OQ\n",
            "https://www.reuters.com/finance/stocks/company-news/AMZN.OQ?date=06122019\n",
            "Found 1 articles. For AMZN.OQ\n",
            "https://www.reuters.com/finance/stocks/company-news/KO.N?date=06122019\n",
            "Found 0 articles. For KO.N\n",
            "https://www.reuters.com/finance/stocks/company-news/TSLA.O?date=06122019\n",
            "Found 4 articles. For TSLA.O\n",
            "https://www.reuters.com/finance/stocks/company-news/INFY.NS?date=06122019\n",
            "Found 0 articles. For INFY.NS\n",
            "https://www.reuters.com/finance/stocks/company-news/AAPL.OQ?date=06132019\n",
            "Found 1 articles. For AAPL.OQ\n",
            "https://www.reuters.com/finance/stocks/company-news/AMZN.OQ?date=06132019\n",
            "Found 6 articles. For AMZN.OQ\n",
            "https://www.reuters.com/finance/stocks/company-news/KO.N?date=06132019\n",
            "Found 0 articles. For KO.N\n",
            "https://www.reuters.com/finance/stocks/company-news/TSLA.O?date=06132019\n",
            "Found 0 articles. For TSLA.O\n",
            "https://www.reuters.com/finance/stocks/company-news/INFY.NS?date=06132019\n",
            "Found 0 articles. For INFY.NS\n",
            "https://www.reuters.com/finance/stocks/company-news/AAPL.OQ?date=06142019\n",
            "Found 8 articles. For AAPL.OQ\n",
            "https://www.reuters.com/finance/stocks/company-news/AMZN.OQ?date=06142019\n",
            "Found 0 articles. For AMZN.OQ\n",
            "https://www.reuters.com/finance/stocks/company-news/KO.N?date=06142019\n",
            "Found 0 articles. For KO.N\n",
            "https://www.reuters.com/finance/stocks/company-news/TSLA.O?date=06142019\n",
            "Found 0 articles. For TSLA.O\n",
            "https://www.reuters.com/finance/stocks/company-news/INFY.NS?date=06142019\n",
            "Found 0 articles. For INFY.NS\n",
            "https://www.reuters.com/finance/stocks/company-news/AAPL.OQ?date=06152019\n",
            "Found 0 articles. For AAPL.OQ\n",
            "https://www.reuters.com/finance/stocks/company-news/AMZN.OQ?date=06152019\n",
            "Found 0 articles. For AMZN.OQ\n",
            "https://www.reuters.com/finance/stocks/company-news/KO.N?date=06152019\n",
            "Found 0 articles. For KO.N\n",
            "https://www.reuters.com/finance/stocks/company-news/TSLA.O?date=06152019\n",
            "Found 0 articles. For TSLA.O\n",
            "https://www.reuters.com/finance/stocks/company-news/INFY.NS?date=06152019\n",
            "Found 0 articles. For INFY.NS\n",
            "https://www.reuters.com/finance/stocks/company-news/AAPL.OQ?date=06162019\n",
            "Found 0 articles. For AAPL.OQ\n",
            "https://www.reuters.com/finance/stocks/company-news/AMZN.OQ?date=06162019\n",
            "Found 0 articles. For AMZN.OQ\n",
            "https://www.reuters.com/finance/stocks/company-news/KO.N?date=06162019\n",
            "Found 0 articles. For KO.N\n",
            "https://www.reuters.com/finance/stocks/company-news/TSLA.O?date=06162019\n",
            "Found 0 articles. For TSLA.O\n",
            "https://www.reuters.com/finance/stocks/company-news/INFY.NS?date=06162019\n",
            "Found 0 articles. For INFY.NS\n",
            "https://www.reuters.com/finance/stocks/company-news/AAPL.OQ?date=06172019\n",
            "Found 1 articles. For AAPL.OQ\n",
            "https://www.reuters.com/finance/stocks/company-news/AMZN.OQ?date=06172019\n",
            "Found 1 articles. For AMZN.OQ\n",
            "https://www.reuters.com/finance/stocks/company-news/KO.N?date=06172019\n",
            "Found 0 articles. For KO.N\n",
            "https://www.reuters.com/finance/stocks/company-news/TSLA.O?date=06172019\n",
            "Found 1 articles. For TSLA.O\n",
            "https://www.reuters.com/finance/stocks/company-news/INFY.NS?date=06172019\n",
            "Found 0 articles. For INFY.NS\n"
          ],
          "name": "stdout"
        }
      ]
    },
    {
      "cell_type": "code",
      "metadata": {
        "id": "GwMJqNK3AKGR",
        "colab_type": "code",
        "colab": {}
      },
      "source": [
        ""
      ],
      "execution_count": 0,
      "outputs": []
    },
    {
      "cell_type": "code",
      "metadata": {
        "id": "H1OthB70AUU8",
        "colab_type": "code",
        "colab": {}
      },
      "source": [
        "list_data = list_data[1:]"
      ],
      "execution_count": 0,
      "outputs": []
    },
    {
      "cell_type": "code",
      "metadata": {
        "id": "m2f2NoLfG0W5",
        "colab_type": "code",
        "outputId": "81c8cec8-3d93-4387-aa27-22a5a97adb76",
        "colab": {
          "base_uri": "https://localhost:8080/",
          "height": 34
        }
      },
      "source": [
        "print(list_data)"
      ],
      "execution_count": 0,
      "outputs": [
        {
          "output_type": "stream",
          "text": [
            "['TSLA.O', 'TSLA.OQ', 'TSLA.BE', 'TSLA.D', 'TSLA.DE', 'TSLA.DF', 'TSLA.F', 'TSLA.H', 'TSLA.MU', 'TSLA.MW', 'TSLA.P', 'TSLA.PH', 'TXLZF.PK']\n"
          ],
          "name": "stdout"
        }
      ]
    },
    {
      "cell_type": "code",
      "metadata": {
        "id": "5JY8b61lIIlA",
        "colab_type": "code",
        "outputId": "61975a3c-f071-4c28-b9ea-9588ca38dc92",
        "colab": {
          "base_uri": "https://localhost:8080/",
          "height": 54
        }
      },
      "source": [
        "print(list_data)"
      ],
      "execution_count": 0,
      "outputs": [
        {
          "output_type": "stream",
          "text": [
            "['TSLA.O', 'TSLA.OQ', 'TSLA.A', 'TSLA.BA', 'TSLA.BE', 'TSLA.BN', 'TSLA.C', 'TSLA.D', 'TSLA.DE', 'TSLA.DF', 'TSLA.F', 'TSLA.H', 'TSLA.HA', 'TSLA.LM', 'TSLA.MU', 'TSLA.MW', 'TSLA.MX', 'TSLA.P', 'TSLA.PH', 'TSLA.S', 'TSLA.VI', 'TSLA.VIf', 'TSLA34.SA', 'TSLA34F.SA', 'TSLAc.BA', 'TSLAd.BA', 'TSLAh.BA', 'TSLAm.BA', 'TSLAn.BA', 'TSLAUSD.S', 'TSLAv.BA']\n"
          ],
          "name": "stdout"
        }
      ]
    },
    {
      "cell_type": "markdown",
      "metadata": {
        "id": "IAC7in3OoOmI",
        "colab_type": "text"
      },
      "source": [
        "Google news data and analysis"
      ]
    },
    {
      "cell_type": "code",
      "metadata": {
        "id": "UkVpEmomoORt",
        "colab_type": "code",
        "colab": {
          "base_uri": "https://localhost:8080/",
          "height": 34
        },
        "outputId": "0217b9bd-4bf0-4f12-af43-46aa33cf59bc"
      },
      "source": [
        "ls"
      ],
      "execution_count": 1,
      "outputs": [
        {
          "output_type": "stream",
          "text": [
            "\u001b[0m\u001b[01;34msample_data\u001b[0m/\n"
          ],
          "name": "stdout"
        }
      ]
    }
  ]
}